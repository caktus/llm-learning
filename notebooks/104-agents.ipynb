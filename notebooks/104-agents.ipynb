{
 "cells": [
  {
   "cell_type": "markdown",
   "id": "bea9ef96",
   "metadata": {},
   "source": [
    "## OpenAI Agents SDK\n",
    "\n",
    "The [OpenAI Agents SDK](https://github.com/openai/openai-agents-python/tree/main?tab=readme-ov-file#functions-example) is a tool that allows you to build agent-based workflows.\n",
    "\n",
    "This example shows how to build a simple agent that can call a function and return the result. Less code is required, and it automatically handles the conversation history using `last_response_id`."
   ]
  },
  {
   "cell_type": "code",
   "execution_count": null,
   "id": "60634dca",
   "metadata": {},
   "outputs": [
    {
     "name": "stdout",
     "output_type": "stream",
     "text": [
      "10:44:13.920 OpenAI Agents trace: Agent workflow\n",
      "10:44:13.922   Agent run: 'Weather Agent'\n",
      "10:44:13.941     Responses API with 'gpt-4.1'\n"
     ]
    },
    {
     "data": {
      "text/html": [
       "<pre style=\"white-space:pre;overflow-x:auto;line-height:normal;font-family:Menlo,'DejaVu Sans Mono',consolas,'Courier New',monospace\"><span style=\"font-weight: bold\">Logfire</span> project URL: <a href=\"https://logfire-us.pydantic.dev/caktus/vr-llm-exploration\" target=\"_blank\"><span style=\"color: #008080; text-decoration-color: #008080; text-decoration: underline\">https://logfire-us.pydantic.dev/caktus/vr-llm-exploration</span></a>\n",
       "</pre>\n"
      ],
      "text/plain": [
       "\u001b[1mLogfire\u001b[0m project URL: \u001b]8;id=817634;https://logfire-us.pydantic.dev/caktus/vr-llm-exploration\u001b\\\u001b[4;36mhttps://logfire-us.pydantic.dev/caktus/vr-llm-exploration\u001b[0m\u001b]8;;\u001b\\\n"
      ]
     },
     "metadata": {},
     "output_type": "display_data"
    },
    {
     "name": "stdout",
     "output_type": "stream",
     "text": [
      "10:44:15.733     Function: get_weather\n",
      "10:44:15.734     Responses API with 'gpt-4.1'\n",
      "Query 1: What's the weather in Tokyo?\n",
      "Response: The weather in Tokyo is currently sunny with a temperature of 22°F. If you need more details or a forecast, let me know!\n",
      "\n",
      "==================================================\n",
      "\n",
      "10:44:16.905 OpenAI Agents trace: Agent workflow\n",
      "10:44:16.906   Agent run: 'Weather Agent'\n",
      "10:44:16.907     Responses API with 'gpt-4.1'\n",
      "10:44:18.539     Function: get_weather\n",
      "10:44:18.542     Responses API with 'gpt-4.1'\n",
      "Query 2: How about the weather in New York?\n",
      "Response: The weather in New York is currently partly cloudy with a temperature of 17°F. Let me know if you'd like more information or a forecast!\n",
      "\n",
      "==================================================\n",
      "\n",
      "10:44:19.407 OpenAI Agents trace: Agent workflow\n",
      "10:44:19.407   Agent run: 'Weather Agent'\n",
      "10:44:19.408     Responses API with 'gpt-4.1'\n",
      "Query 3: What cities did I ask about?\n",
      "Response: You asked about the weather in the following cities:\n",
      "\n",
      "1. Tokyo\n",
      "2. New York\n",
      "\n",
      "If you want weather updates for more cities, just let me know!\n"
     ]
    }
   ],
   "source": [
    "import asyncio\n",
    "import random\n",
    "\n",
    "from agents import Agent, Runner, function_tool\n",
    "\n",
    "\n",
    "@function_tool\n",
    "def get_weather(city: str) -> dict:\n",
    "    \"\"\"Get the weather in a given city.\"\"\"\n",
    "    random_weather = random.choice([\"sunny\", \"cloudy\", \"rainy\", \"snowy\", \"partly cloudy\", \"stormy\"])\n",
    "    random_temp = random.randint(10, 100)\n",
    "\n",
    "    return {\n",
    "        \"conditions\": random_weather,\n",
    "        \"temperature\": random_temp,\n",
    "        \"city\": city,\n",
    "        \"units\": {\"temperature\": \"fahrenheit\"},\n",
    "    }\n",
    "\n",
    "\n",
    "# Create the agent with the weather tool\n",
    "agent = Agent(\n",
    "    name=\"Weather Agent\",\n",
    "    instructions=\"You are a helpful weather agent. When asked about weather, use the get_weather tool to provide accurate information.\",\n",
    "    tools=[get_weather],\n",
    ")\n",
    "\n",
    "\n",
    "async def main():\n",
    "    \"\"\"Main function to run the agent with conversation history.\"\"\"\n",
    "    # First query\n",
    "    result1 = await Runner.run(agent, input=\"What's the weather in Tokyo?\")\n",
    "    print(\"Query 1:\", \"What's the weather in Tokyo?\")\n",
    "    print(\"Response:\", result1.final_output)\n",
    "\n",
    "    print(\"\\n\" + \"=\" * 50 + \"\\n\")\n",
    "\n",
    "    # Second query - pass the previous response ID to maintain conversation\n",
    "    result2 = await Runner.run(\n",
    "        agent,\n",
    "        input=\"How about the weather in New York?\",\n",
    "        previous_response_id=result1.last_response_id,\n",
    "    )\n",
    "    print(\"Query 2:\", \"How about the weather in New York?\")\n",
    "    print(\"Response:\", result2.final_output)\n",
    "\n",
    "    print(\"\\n\" + \"=\" * 50 + \"\\n\")\n",
    "\n",
    "    # Third query - pass the previous response ID to maintain conversation\n",
    "    result3 = await Runner.run(\n",
    "        agent, input=\"What cities did I ask about?\", previous_response_id=result2.last_response_id\n",
    "    )\n",
    "    print(\"Query 3:\", \"What cities did I ask about?\")\n",
    "    print(\"Response:\", result3.final_output)\n",
    "\n",
    "\n",
    "if __name__ == \"__main__\":\n",
    "    asyncio.run(main())"
   ]
  },
  {
   "cell_type": "markdown",
   "id": "2a136621",
   "metadata": {},
   "source": [
    "# PydanticAI Agents"
   ]
  },
  {
   "cell_type": "markdown",
   "id": "af49ca18",
   "metadata": {},
   "source": []
  }
 ],
 "metadata": {
  "kernelspec": {
   "display_name": ".venv",
   "language": "python",
   "name": "python3"
  },
  "language_info": {
   "codemirror_mode": {
    "name": "ipython",
    "version": 3
   },
   "file_extension": ".py",
   "mimetype": "text/x-python",
   "name": "python",
   "nbconvert_exporter": "python",
   "pygments_lexer": "ipython3",
   "version": "3.13.1"
  }
 },
 "nbformat": 4,
 "nbformat_minor": 5
}
