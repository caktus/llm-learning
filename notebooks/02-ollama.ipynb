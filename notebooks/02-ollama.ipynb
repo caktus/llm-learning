{
 "cells": [
  {
   "cell_type": "markdown",
   "id": "0b679476-9073-4f76-90f3-c49f2f3be7c1",
   "metadata": {},
   "source": [
    "# Learning the basics with Ollama\n",
    "\n",
    "[Ollama](https://ollama.com/) is an open-source application that allows you to download, run, and interact with LLMs on your own hardware. By running models locally, you maintain complete control over your data and can use LLMs without an internet connection. It also allows you to easily experiment with different models.\n",
    "\n"
   ]
  },
  {
   "cell_type": "markdown",
   "id": "e1cedc39-8a03-4363-98b0-59e931f11c4b",
   "metadata": {},
   "source": [
    "## Prerequisites\n",
    "If you haven't done so already, [install Ollama](https://ollama.com/download) on your computer. You can then add any of the models available in the [Ollama library](https://ollama.com/library) using the `ollama pull` command. There are models of different sizes, indicated by the number of parameters (e.g. 2B, 7B, etc.) the model learned during its training. Larger models are usually more capable but also require more computational resources like RAM. Ollama's GitHub repo has some advice on [selecting models based on the available RAM](https://github.com/ollama/ollama#:~:text=You%20should%20have%20at%20least%208%20GB%20of%20RAM%20available%20to%20run%20the%207B%20models%2C%2016%20GB%20to%20run%20the%2013B%20models%2C%20and%2032%20GB%20to%20run%20the%2033B%20models.).\n",
    "\n",
    "For the code examples in this notebook, we will be using Meta's Llama 3.2, which is a relatively small but capable model (3B parameters, 2GB in size). Download it with:\n",
    "\n",
    "```sh\n",
    "ollama pull llama3.2\n",
    "```\n",
    "\n",
    "Also, ensure you've followed the README instructions to set up your Python environment."
   ]
  },
  {
   "cell_type": "markdown",
   "id": "86397950-c525-4781-a7fb-c3ff2056fd01",
   "metadata": {},
   "source": [
    "## Using `ollama run`\n",
    "We will use Ollama's `run` command to ask the Llama model to tell us a kid-friendly joke, just like in the OpenAI notebook."
   ]
  },
  {
   "cell_type": "code",
   "execution_count": 1,
   "id": "622791b0-630b-490f-880a-2a0e66c97250",
   "metadata": {},
   "outputs": [
    {
     "name": "stdout",
     "output_type": "stream",
     "text": [
      "\u001b[?2026h\u001b[?25l\u001b[1G⠋ \u001b[K\u001b[?25h\u001b[?2026l\u001b[?25l\u001b[?2026h\u001b[?25l\u001b[1G\u001b[K\u001b[?25h\u001b[?2026l\u001b[2K\u001b[1G\u001b[?25hHere\u001b[?25l\u001b[?25h's\u001b[?25l\u001b[?25h one\u001b[?25l\u001b[?25h:\n",
      "\n",
      "\u001b[?25l\u001b[?25hWhat\u001b[?25l\u001b[?25h do\u001b[?25l\u001b[?25h you\u001b[?25l\u001b[?25h call\u001b[?25l\u001b[?25h a\u001b[?25l\u001b[?25h group\u001b[?25l\u001b[?25h of\u001b[?25l\u001b[?25h cows\u001b[?25l\u001b[?25h playing\u001b[?25l\u001b[?25h instruments\u001b[?25l\u001b[?25h?\n",
      "\n",
      "\u001b[?25l\u001b[?25hA\u001b[?25l\u001b[?25h moo\u001b[?25l\u001b[?25h-s\u001b[?25l\u001b[?25hical\u001b[?25l\u001b[?25h band\u001b[?25l\u001b[?25h!\u001b[?25l\u001b[?25h\n",
      "\n",
      "\u001b[?25l\u001b[?25h"
     ]
    }
   ],
   "source": [
    "!ollama run llama3.2 \"Tell me a silly joke for a kid.\""
   ]
  },
  {
   "cell_type": "markdown",
   "id": "9b67e583-0c9c-4a1e-bdae-6196f7daec69",
   "metadata": {},
   "source": [
    "## Raw JSON response using `curl`\n",
    "\n",
    "Ollama creates an API service, which is available at `http://localhost:11434` by default. Let's use `curl` to make the same request and see the raw JSON response from the model."
   ]
  },
  {
   "cell_type": "code",
   "execution_count": 2,
   "id": "7e9b6855-7c61-4f05-a8ad-3aa9c97d86f7",
   "metadata": {},
   "outputs": [],
   "source": [
    "%%bash --out curl_response\n",
    "\n",
    "curl http://localhost:11434/api/generate -s -d '{\n",
    "  \"model\": \"llama3.2\",\n",
    "  \"prompt\": \"Tell me a silly joke for a kid.\",\n",
    "  \"stream\": false\n",
    "}'"
   ]
  },
  {
   "cell_type": "markdown",
   "id": "cdf314d8-c393-4fc2-a015-bab2c6f3d19a",
   "metadata": {},
   "source": [
    "By default, the `/api/generate` endpoint returns a stream of responses. Adding `\"stream\": false` in our request ensures we get a single JSON response."
   ]
  },
  {
   "cell_type": "code",
   "execution_count": 3,
   "id": "0827bece-ce74-4ea9-bac5-e5b64d907afa",
   "metadata": {},
   "outputs": [
    {
     "data": {
      "text/html": [
       "<pre style=\"white-space:pre;overflow-x:auto;line-height:normal;font-family:Menlo,'DejaVu Sans Mono',consolas,'Courier New',monospace\"><span style=\"font-weight: bold\">{</span>\n",
       "    <span style=\"color: #008000; text-decoration-color: #008000\">'model'</span>: <span style=\"color: #008000; text-decoration-color: #008000\">'llama3.2'</span>,\n",
       "    <span style=\"color: #008000; text-decoration-color: #008000\">'created_at'</span>: <span style=\"color: #008000; text-decoration-color: #008000\">'2025-09-18T16:15:53.232384868Z'</span>,\n",
       "    <span style=\"color: #008000; text-decoration-color: #008000\">'response'</span>: <span style=\"color: #008000; text-decoration-color: #008000\">\"Here's one:\\n\\nWhat do you call a group of cows playing instruments?\\n\\nA moo-sical band!\\n\\nI </span>\n",
       "<span style=\"color: #008000; text-decoration-color: #008000\">hope that made the kids giggle!\"</span>,\n",
       "    <span style=\"color: #008000; text-decoration-color: #008000\">'done'</span>: <span style=\"color: #00ff00; text-decoration-color: #00ff00; font-style: italic\">True</span>,\n",
       "    <span style=\"color: #008000; text-decoration-color: #008000\">'done_reason'</span>: <span style=\"color: #008000; text-decoration-color: #008000\">'stop'</span>,\n",
       "    <span style=\"color: #008000; text-decoration-color: #008000\">'context'</span>: <span style=\"font-weight: bold\">[</span>\n",
       "        <span style=\"color: #008080; text-decoration-color: #008080; font-weight: bold\">128006</span>,\n",
       "        <span style=\"color: #008080; text-decoration-color: #008080; font-weight: bold\">9125</span>,\n",
       "        <span style=\"color: #008080; text-decoration-color: #008080; font-weight: bold\">128007</span>,\n",
       "        <span style=\"color: #008080; text-decoration-color: #008080; font-weight: bold\">271</span>,\n",
       "        <span style=\"color: #008080; text-decoration-color: #008080; font-weight: bold\">38766</span>,\n",
       "        <span style=\"color: #008080; text-decoration-color: #008080; font-weight: bold\">1303</span>,\n",
       "        <span style=\"color: #008080; text-decoration-color: #008080; font-weight: bold\">33025</span>,\n",
       "        <span style=\"color: #008080; text-decoration-color: #008080; font-weight: bold\">2696</span>,\n",
       "        <span style=\"color: #008080; text-decoration-color: #008080; font-weight: bold\">25</span>,\n",
       "        <span style=\"color: #008080; text-decoration-color: #008080; font-weight: bold\">6790</span>,\n",
       "        <span style=\"color: #008080; text-decoration-color: #008080; font-weight: bold\">220</span>,\n",
       "        <span style=\"color: #008080; text-decoration-color: #008080; font-weight: bold\">2366</span>,\n",
       "        <span style=\"color: #008080; text-decoration-color: #008080; font-weight: bold\">18</span>,\n",
       "        <span style=\"color: #008080; text-decoration-color: #008080; font-weight: bold\">271</span>,\n",
       "        <span style=\"color: #008080; text-decoration-color: #008080; font-weight: bold\">128009</span>,\n",
       "        <span style=\"color: #008080; text-decoration-color: #008080; font-weight: bold\">128006</span>,\n",
       "        <span style=\"color: #008080; text-decoration-color: #008080; font-weight: bold\">882</span>,\n",
       "        <span style=\"color: #008080; text-decoration-color: #008080; font-weight: bold\">128007</span>,\n",
       "        <span style=\"color: #008080; text-decoration-color: #008080; font-weight: bold\">271</span>,\n",
       "        <span style=\"color: #008080; text-decoration-color: #008080; font-weight: bold\">41551</span>,\n",
       "        <span style=\"color: #008080; text-decoration-color: #008080; font-weight: bold\">757</span>,\n",
       "        <span style=\"color: #008080; text-decoration-color: #008080; font-weight: bold\">264</span>,\n",
       "        <span style=\"color: #008080; text-decoration-color: #008080; font-weight: bold\">30571</span>,\n",
       "        <span style=\"color: #008080; text-decoration-color: #008080; font-weight: bold\">22380</span>,\n",
       "        <span style=\"color: #008080; text-decoration-color: #008080; font-weight: bold\">369</span>,\n",
       "        <span style=\"color: #008080; text-decoration-color: #008080; font-weight: bold\">264</span>,\n",
       "        <span style=\"color: #008080; text-decoration-color: #008080; font-weight: bold\">10585</span>,\n",
       "        <span style=\"color: #008080; text-decoration-color: #008080; font-weight: bold\">13</span>,\n",
       "        <span style=\"color: #008080; text-decoration-color: #008080; font-weight: bold\">128009</span>,\n",
       "        <span style=\"color: #008080; text-decoration-color: #008080; font-weight: bold\">128006</span>,\n",
       "        <span style=\"color: #008080; text-decoration-color: #008080; font-weight: bold\">78191</span>,\n",
       "        <span style=\"color: #008080; text-decoration-color: #008080; font-weight: bold\">128007</span>,\n",
       "        <span style=\"color: #008080; text-decoration-color: #008080; font-weight: bold\">271</span>,\n",
       "        <span style=\"color: #008080; text-decoration-color: #008080; font-weight: bold\">8586</span>,\n",
       "        <span style=\"color: #008080; text-decoration-color: #008080; font-weight: bold\">596</span>,\n",
       "        <span style=\"color: #008080; text-decoration-color: #008080; font-weight: bold\">832</span>,\n",
       "        <span style=\"color: #008080; text-decoration-color: #008080; font-weight: bold\">1473</span>,\n",
       "        <span style=\"color: #008080; text-decoration-color: #008080; font-weight: bold\">3923</span>,\n",
       "        <span style=\"color: #008080; text-decoration-color: #008080; font-weight: bold\">656</span>,\n",
       "        <span style=\"color: #008080; text-decoration-color: #008080; font-weight: bold\">499</span>,\n",
       "        <span style=\"color: #008080; text-decoration-color: #008080; font-weight: bold\">1650</span>,\n",
       "        <span style=\"color: #008080; text-decoration-color: #008080; font-weight: bold\">264</span>,\n",
       "        <span style=\"color: #008080; text-decoration-color: #008080; font-weight: bold\">1912</span>,\n",
       "        <span style=\"color: #008080; text-decoration-color: #008080; font-weight: bold\">315</span>,\n",
       "        <span style=\"color: #008080; text-decoration-color: #008080; font-weight: bold\">46266</span>,\n",
       "        <span style=\"color: #008080; text-decoration-color: #008080; font-weight: bold\">5737</span>,\n",
       "        <span style=\"color: #008080; text-decoration-color: #008080; font-weight: bold\">24198</span>,\n",
       "        <span style=\"color: #008080; text-decoration-color: #008080; font-weight: bold\">1980</span>,\n",
       "        <span style=\"color: #008080; text-decoration-color: #008080; font-weight: bold\">32</span>,\n",
       "        <span style=\"color: #008080; text-decoration-color: #008080; font-weight: bold\">46971</span>,\n",
       "        <span style=\"color: #008080; text-decoration-color: #008080; font-weight: bold\">1355</span>,\n",
       "        <span style=\"color: #008080; text-decoration-color: #008080; font-weight: bold\">950</span>,\n",
       "        <span style=\"color: #008080; text-decoration-color: #008080; font-weight: bold\">7200</span>,\n",
       "        <span style=\"color: #008080; text-decoration-color: #008080; font-weight: bold\">2268</span>,\n",
       "        <span style=\"color: #008080; text-decoration-color: #008080; font-weight: bold\">40</span>,\n",
       "        <span style=\"color: #008080; text-decoration-color: #008080; font-weight: bold\">3987</span>,\n",
       "        <span style=\"color: #008080; text-decoration-color: #008080; font-weight: bold\">430</span>,\n",
       "        <span style=\"color: #008080; text-decoration-color: #008080; font-weight: bold\">1903</span>,\n",
       "        <span style=\"color: #008080; text-decoration-color: #008080; font-weight: bold\">279</span>,\n",
       "        <span style=\"color: #008080; text-decoration-color: #008080; font-weight: bold\">6980</span>,\n",
       "        <span style=\"color: #008080; text-decoration-color: #008080; font-weight: bold\">23401</span>,\n",
       "        <span style=\"color: #008080; text-decoration-color: #008080; font-weight: bold\">3491</span>,\n",
       "        <span style=\"color: #008080; text-decoration-color: #008080; font-weight: bold\">0</span>\n",
       "    <span style=\"font-weight: bold\">]</span>,\n",
       "    <span style=\"color: #008000; text-decoration-color: #008000\">'total_duration'</span>: <span style=\"color: #008080; text-decoration-color: #008080; font-weight: bold\">2565912145</span>,\n",
       "    <span style=\"color: #008000; text-decoration-color: #008000\">'load_duration'</span>: <span style=\"color: #008080; text-decoration-color: #008080; font-weight: bold\">66774887</span>,\n",
       "    <span style=\"color: #008000; text-decoration-color: #008000\">'prompt_eval_count'</span>: <span style=\"color: #008080; text-decoration-color: #008080; font-weight: bold\">34</span>,\n",
       "    <span style=\"color: #008000; text-decoration-color: #008000\">'prompt_eval_duration'</span>: <span style=\"color: #008080; text-decoration-color: #008080; font-weight: bold\">85065922</span>,\n",
       "    <span style=\"color: #008000; text-decoration-color: #008000\">'eval_count'</span>: <span style=\"color: #008080; text-decoration-color: #008080; font-weight: bold\">31</span>,\n",
       "    <span style=\"color: #008000; text-decoration-color: #008000\">'eval_duration'</span>: <span style=\"color: #008080; text-decoration-color: #008080; font-weight: bold\">2413692484</span>\n",
       "<span style=\"font-weight: bold\">}</span>\n",
       "</pre>\n"
      ],
      "text/plain": [
       "\u001b[1m{\u001b[0m\n",
       "    \u001b[32m'model'\u001b[0m: \u001b[32m'llama3.2'\u001b[0m,\n",
       "    \u001b[32m'created_at'\u001b[0m: \u001b[32m'2025-09-18T16:15:53.232384868Z'\u001b[0m,\n",
       "    \u001b[32m'response'\u001b[0m: \u001b[32m\"Here's one:\\n\\nWhat do you call a group of cows playing instruments?\\n\\nA moo-sical band!\\n\\nI \u001b[0m\n",
       "\u001b[32mhope that made the kids giggle!\"\u001b[0m,\n",
       "    \u001b[32m'done'\u001b[0m: \u001b[3;92mTrue\u001b[0m,\n",
       "    \u001b[32m'done_reason'\u001b[0m: \u001b[32m'stop'\u001b[0m,\n",
       "    \u001b[32m'context'\u001b[0m: \u001b[1m[\u001b[0m\n",
       "        \u001b[1;36m128006\u001b[0m,\n",
       "        \u001b[1;36m9125\u001b[0m,\n",
       "        \u001b[1;36m128007\u001b[0m,\n",
       "        \u001b[1;36m271\u001b[0m,\n",
       "        \u001b[1;36m38766\u001b[0m,\n",
       "        \u001b[1;36m1303\u001b[0m,\n",
       "        \u001b[1;36m33025\u001b[0m,\n",
       "        \u001b[1;36m2696\u001b[0m,\n",
       "        \u001b[1;36m25\u001b[0m,\n",
       "        \u001b[1;36m6790\u001b[0m,\n",
       "        \u001b[1;36m220\u001b[0m,\n",
       "        \u001b[1;36m2366\u001b[0m,\n",
       "        \u001b[1;36m18\u001b[0m,\n",
       "        \u001b[1;36m271\u001b[0m,\n",
       "        \u001b[1;36m128009\u001b[0m,\n",
       "        \u001b[1;36m128006\u001b[0m,\n",
       "        \u001b[1;36m882\u001b[0m,\n",
       "        \u001b[1;36m128007\u001b[0m,\n",
       "        \u001b[1;36m271\u001b[0m,\n",
       "        \u001b[1;36m41551\u001b[0m,\n",
       "        \u001b[1;36m757\u001b[0m,\n",
       "        \u001b[1;36m264\u001b[0m,\n",
       "        \u001b[1;36m30571\u001b[0m,\n",
       "        \u001b[1;36m22380\u001b[0m,\n",
       "        \u001b[1;36m369\u001b[0m,\n",
       "        \u001b[1;36m264\u001b[0m,\n",
       "        \u001b[1;36m10585\u001b[0m,\n",
       "        \u001b[1;36m13\u001b[0m,\n",
       "        \u001b[1;36m128009\u001b[0m,\n",
       "        \u001b[1;36m128006\u001b[0m,\n",
       "        \u001b[1;36m78191\u001b[0m,\n",
       "        \u001b[1;36m128007\u001b[0m,\n",
       "        \u001b[1;36m271\u001b[0m,\n",
       "        \u001b[1;36m8586\u001b[0m,\n",
       "        \u001b[1;36m596\u001b[0m,\n",
       "        \u001b[1;36m832\u001b[0m,\n",
       "        \u001b[1;36m1473\u001b[0m,\n",
       "        \u001b[1;36m3923\u001b[0m,\n",
       "        \u001b[1;36m656\u001b[0m,\n",
       "        \u001b[1;36m499\u001b[0m,\n",
       "        \u001b[1;36m1650\u001b[0m,\n",
       "        \u001b[1;36m264\u001b[0m,\n",
       "        \u001b[1;36m1912\u001b[0m,\n",
       "        \u001b[1;36m315\u001b[0m,\n",
       "        \u001b[1;36m46266\u001b[0m,\n",
       "        \u001b[1;36m5737\u001b[0m,\n",
       "        \u001b[1;36m24198\u001b[0m,\n",
       "        \u001b[1;36m1980\u001b[0m,\n",
       "        \u001b[1;36m32\u001b[0m,\n",
       "        \u001b[1;36m46971\u001b[0m,\n",
       "        \u001b[1;36m1355\u001b[0m,\n",
       "        \u001b[1;36m950\u001b[0m,\n",
       "        \u001b[1;36m7200\u001b[0m,\n",
       "        \u001b[1;36m2268\u001b[0m,\n",
       "        \u001b[1;36m40\u001b[0m,\n",
       "        \u001b[1;36m3987\u001b[0m,\n",
       "        \u001b[1;36m430\u001b[0m,\n",
       "        \u001b[1;36m1903\u001b[0m,\n",
       "        \u001b[1;36m279\u001b[0m,\n",
       "        \u001b[1;36m6980\u001b[0m,\n",
       "        \u001b[1;36m23401\u001b[0m,\n",
       "        \u001b[1;36m3491\u001b[0m,\n",
       "        \u001b[1;36m0\u001b[0m\n",
       "    \u001b[1m]\u001b[0m,\n",
       "    \u001b[32m'total_duration'\u001b[0m: \u001b[1;36m2565912145\u001b[0m,\n",
       "    \u001b[32m'load_duration'\u001b[0m: \u001b[1;36m66774887\u001b[0m,\n",
       "    \u001b[32m'prompt_eval_count'\u001b[0m: \u001b[1;36m34\u001b[0m,\n",
       "    \u001b[32m'prompt_eval_duration'\u001b[0m: \u001b[1;36m85065922\u001b[0m,\n",
       "    \u001b[32m'eval_count'\u001b[0m: \u001b[1;36m31\u001b[0m,\n",
       "    \u001b[32m'eval_duration'\u001b[0m: \u001b[1;36m2413692484\u001b[0m\n",
       "\u001b[1m}\u001b[0m\n"
      ]
     },
     "metadata": {},
     "output_type": "display_data"
    }
   ],
   "source": [
    "import json\n",
    "\n",
    "from rich import print as rich_print\n",
    "\n",
    "data = json.loads(curl_response)  # noqa\n",
    "rich_print(data)"
   ]
  },
  {
   "cell_type": "markdown",
   "id": "276f98e9-05a8-4863-9bf0-4bafad4dd692",
   "metadata": {},
   "source": [
    "We can extract the actual text from the JSON with:"
   ]
  },
  {
   "cell_type": "code",
   "execution_count": 4,
   "id": "ee3f1289-d810-45cc-8f61-449aaa3254f8",
   "metadata": {},
   "outputs": [
    {
     "data": {
      "text/html": [
       "<pre style=\"white-space:pre;overflow-x:auto;line-height:normal;font-family:Menlo,'DejaVu Sans Mono',consolas,'Courier New',monospace\">Here's one:\n",
       "\n",
       "What do you call a group of cows playing instruments?\n",
       "\n",
       "A moo-sical band!\n",
       "\n",
       "I hope that made the kids giggle!\n",
       "</pre>\n"
      ],
      "text/plain": [
       "Here's one:\n",
       "\n",
       "What do you call a group of cows playing instruments?\n",
       "\n",
       "A moo-sical band!\n",
       "\n",
       "I hope that made the kids giggle!\n"
      ]
     },
     "metadata": {},
     "output_type": "display_data"
    }
   ],
   "source": [
    "rich_print(data[\"response\"])"
   ]
  },
  {
   "cell_type": "markdown",
   "id": "1b55052d-6222-49f1-b695-43c32fdeba51",
   "metadata": {},
   "source": [
    "Without `\"stream\": false`, we would get a series of responses, then one final response with some extra data about the request."
   ]
  },
  {
   "cell_type": "code",
   "execution_count": 5,
   "id": "89c5e55f-0fad-444b-bc1a-fa0171f13ee9",
   "metadata": {},
   "outputs": [],
   "source": [
    "%%bash --out curl_response\n",
    "\n",
    "curl http://localhost:11434/api/generate -sd '{\n",
    "  \"model\": \"llama3.2\",\n",
    "  \"prompt\": \"Tell me a silly joke for a kid.\"\n",
    "}'\n"
   ]
  },
  {
   "cell_type": "code",
   "execution_count": 6,
   "id": "9b6f3814-50ad-4736-b1a6-1a92ae9c23c9",
   "metadata": {},
   "outputs": [
    {
     "data": {
      "text/html": [
       "<pre style=\"white-space:pre;overflow-x:auto;line-height:normal;font-family:Menlo,'DejaVu Sans Mono',consolas,'Courier New',monospace\"><span style=\"font-weight: bold\">{</span><span style=\"color: #008000; text-decoration-color: #008000\">\"model\"</span>:<span style=\"color: #008000; text-decoration-color: #008000\">\"llama3.2\"</span>,<span style=\"color: #008000; text-decoration-color: #008000\">\"created_at\"</span>:<span style=\"color: #008000; text-decoration-color: #008000\">\"2025-09-18T16:15:53.407855722Z\"</span>,<span style=\"color: #008000; text-decoration-color: #008000\">\"response\"</span>:<span style=\"color: #008000; text-decoration-color: #008000\">\"Here\"</span>,<span style=\"color: #008000; text-decoration-color: #008000\">\"done\"</span>:false<span style=\"font-weight: bold\">}</span>\n",
       "<span style=\"font-weight: bold\">{</span><span style=\"color: #008000; text-decoration-color: #008000\">\"model\"</span>:<span style=\"color: #008000; text-decoration-color: #008000\">\"llama3.2\"</span>,<span style=\"color: #008000; text-decoration-color: #008000\">\"created_at\"</span>:<span style=\"color: #008000; text-decoration-color: #008000\">\"2025-09-18T16:15:53.499700297Z\"</span>,<span style=\"color: #008000; text-decoration-color: #008000\">\"response\"</span>:<span style=\"color: #008000; text-decoration-color: #008000\">\"'s\"</span>,<span style=\"color: #008000; text-decoration-color: #008000\">\"done\"</span>:false<span style=\"font-weight: bold\">}</span>\n",
       "<span style=\"font-weight: bold\">{</span><span style=\"color: #008000; text-decoration-color: #008000\">\"model\"</span>:<span style=\"color: #008000; text-decoration-color: #008000\">\"llama3.2\"</span>,<span style=\"color: #008000; text-decoration-color: #008000\">\"created_at\"</span>:<span style=\"color: #008000; text-decoration-color: #008000\">\"2025-09-18T16:15:53.592655314Z\"</span>,<span style=\"color: #008000; text-decoration-color: #008000\">\"response\"</span>:<span style=\"color: #008000; text-decoration-color: #008000\">\" one\"</span>,<span style=\"color: #008000; text-decoration-color: #008000\">\"done\"</span>:false<span style=\"font-weight: bold\">}</span>\n",
       "<span style=\"font-weight: bold\">{</span><span style=\"color: #008000; text-decoration-color: #008000\">\"model\"</span>:<span style=\"color: #008000; text-decoration-color: #008000\">\"llama3.2\"</span>,<span style=\"color: #008000; text-decoration-color: #008000\">\"created_at\"</span>:<span style=\"color: #008000; text-decoration-color: #008000\">\"2025-09-18T16:15:53.672842141Z\"</span>,<span style=\"color: #008000; text-decoration-color: #008000\">\"response\"</span>:<span style=\"color: #008000; text-decoration-color: #008000\">\":\\n\\n\"</span>,<span style=\"color: #008000; text-decoration-color: #008000\">\"done\"</span>:false<span style=\"font-weight: bold\">}</span>\n",
       "<span style=\"font-weight: bold\">{</span><span style=\"color: #008000; text-decoration-color: #008000\">\"model\"</span>:<span style=\"color: #008000; text-decoration-color: #008000\">\"llama3.2\"</span>,<span style=\"color: #008000; text-decoration-color: #008000\">\"created_at\"</span>:<span style=\"color: #008000; text-decoration-color: #008000\">\"2025-09-18T16:15:53.767166165Z\"</span>,<span style=\"color: #008000; text-decoration-color: #008000\">\"response\"</span>:<span style=\"color: #008000; text-decoration-color: #008000\">\"What\"</span>,<span style=\"color: #008000; text-decoration-color: #008000\">\"done\"</span>:false<span style=\"font-weight: bold\">}</span>\n",
       "<span style=\"font-weight: bold\">{</span><span style=\"color: #008000; text-decoration-color: #008000\">\"model\"</span>:<span style=\"color: #008000; text-decoration-color: #008000\">\"llama3.2\"</span>,<span style=\"color: #008000; text-decoration-color: #008000\">\"created_at\"</span>:<span style=\"color: #008000; text-decoration-color: #008000\">\"2025-09-18T16:15:53.846342636Z\"</span>,<span style=\"color: #008000; text-decoration-color: #008000\">\"response\"</span>:<span style=\"color: #008000; text-decoration-color: #008000\">\" do\"</span>,<span style=\"color: #008000; text-decoration-color: #008000\">\"done\"</span>:false<span style=\"font-weight: bold\">}</span>\n",
       "<span style=\"font-weight: bold\">{</span><span style=\"color: #008000; text-decoration-color: #008000\">\"model\"</span>:<span style=\"color: #008000; text-decoration-color: #008000\">\"llama3.2\"</span>,<span style=\"color: #008000; text-decoration-color: #008000\">\"created_at\"</span>:<span style=\"color: #008000; text-decoration-color: #008000\">\"2025-09-18T16:15:53.926203759Z\"</span>,<span style=\"color: #008000; text-decoration-color: #008000\">\"response\"</span>:<span style=\"color: #008000; text-decoration-color: #008000\">\" you\"</span>,<span style=\"color: #008000; text-decoration-color: #008000\">\"done\"</span>:false<span style=\"font-weight: bold\">}</span>\n",
       "<span style=\"font-weight: bold\">{</span><span style=\"color: #008000; text-decoration-color: #008000\">\"model\"</span>:<span style=\"color: #008000; text-decoration-color: #008000\">\"llama3.2\"</span>,<span style=\"color: #008000; text-decoration-color: #008000\">\"created_at\"</span>:<span style=\"color: #008000; text-decoration-color: #008000\">\"2025-09-18T16:15:54.005658991Z\"</span>,<span style=\"color: #008000; text-decoration-color: #008000\">\"response\"</span>:<span style=\"color: #008000; text-decoration-color: #008000\">\" call\"</span>,<span style=\"color: #008000; text-decoration-color: #008000\">\"done\"</span>:false<span style=\"font-weight: bold\">}</span>\n",
       "<span style=\"font-weight: bold\">{</span><span style=\"color: #008000; text-decoration-color: #008000\">\"model\"</span>:<span style=\"color: #008000; text-decoration-color: #008000\">\"llama3.2\"</span>,<span style=\"color: #008000; text-decoration-color: #008000\">\"created_at\"</span>:<span style=\"color: #008000; text-decoration-color: #008000\">\"2025-09-18T16:15:54.084860322Z\"</span>,<span style=\"color: #008000; text-decoration-color: #008000\">\"response\"</span>:<span style=\"color: #008000; text-decoration-color: #008000\">\" a\"</span>,<span style=\"color: #008000; text-decoration-color: #008000\">\"done\"</span>:false<span style=\"font-weight: bold\">}</span>\n",
       "<span style=\"font-weight: bold\">{</span><span style=\"color: #008000; text-decoration-color: #008000\">\"model\"</span>:<span style=\"color: #008000; text-decoration-color: #008000\">\"llama3.2\"</span>,<span style=\"color: #008000; text-decoration-color: #008000\">\"created_at\"</span>:<span style=\"color: #008000; text-decoration-color: #008000\">\"2025-09-18T16:15:54.164464177Z\"</span>,<span style=\"color: #008000; text-decoration-color: #008000\">\"response\"</span>:<span style=\"color: #008000; text-decoration-color: #008000\">\" group\"</span>,<span style=\"color: #008000; text-decoration-color: #008000\">\"done\"</span>:false<span style=\"font-weight: bold\">}</span>\n",
       "<span style=\"font-weight: bold\">{</span><span style=\"color: #008000; text-decoration-color: #008000\">\"model\"</span>:<span style=\"color: #008000; text-decoration-color: #008000\">\"llama3.2\"</span>,<span style=\"color: #008000; text-decoration-color: #008000\">\"created_at\"</span>:<span style=\"color: #008000; text-decoration-color: #008000\">\"2025-09-18T16:15:54.254536358Z\"</span>,<span style=\"color: #008000; text-decoration-color: #008000\">\"response\"</span>:<span style=\"color: #008000; text-decoration-color: #008000\">\" of\"</span>,<span style=\"color: #008000; text-decoration-color: #008000\">\"done\"</span>:false<span style=\"font-weight: bold\">}</span>\n",
       "<span style=\"font-weight: bold\">{</span><span style=\"color: #008000; text-decoration-color: #008000\">\"model\"</span>:<span style=\"color: #008000; text-decoration-color: #008000\">\"llama3.2\"</span>,<span style=\"color: #008000; text-decoration-color: #008000\">\"created_at\"</span>:<span style=\"color: #008000; text-decoration-color: #008000\">\"2025-09-18T16:15:54.337983113Z\"</span>,<span style=\"color: #008000; text-decoration-color: #008000\">\"response\"</span>:<span style=\"color: #008000; text-decoration-color: #008000\">\" cows\"</span>,<span style=\"color: #008000; text-decoration-color: #008000\">\"done\"</span>:false<span style=\"font-weight: bold\">}</span>\n",
       "<span style=\"font-weight: bold\">{</span><span style=\"color: #008000; text-decoration-color: #008000\">\"model\"</span>:<span style=\"color: #008000; text-decoration-color: #008000\">\"llama3.2\"</span>,<span style=\"color: #008000; text-decoration-color: #008000\">\"created_at\"</span>:<span style=\"color: #008000; text-decoration-color: #008000\">\"2025-09-18T16:15:54.428621513Z\"</span>,<span style=\"color: #008000; text-decoration-color: #008000\">\"response\"</span>:<span style=\"color: #008000; text-decoration-color: #008000\">\" playing\"</span>,<span style=\"color: #008000; text-decoration-color: #008000\">\"done\"</span>:false<span style=\"font-weight: bold\">}</span>\n",
       "<span style=\"font-weight: bold\">{</span><span style=\"color: #008000; text-decoration-color: #008000\">\"model\"</span>:<span style=\"color: #008000; text-decoration-color: #008000\">\"llama3.2\"</span>,<span style=\"color: #008000; text-decoration-color: #008000\">\"created_at\"</span>:<span style=\"color: #008000; text-decoration-color: #008000\">\"2025-09-18T16:15:54.502994239Z\"</span>,<span style=\"color: #008000; text-decoration-color: #008000\">\"response\"</span>:<span style=\"color: #008000; text-decoration-color: #008000\">\" instruments\"</span>,<span style=\"color: #008000; text-decoration-color: #008000\">\"done\"</span>:false<span style=\"font-weight: bold\">}</span>\n",
       "<span style=\"font-weight: bold\">{</span><span style=\"color: #008000; text-decoration-color: #008000\">\"model\"</span>:<span style=\"color: #008000; text-decoration-color: #008000\">\"llama3.2\"</span>,<span style=\"color: #008000; text-decoration-color: #008000\">\"created_at\"</span>:<span style=\"color: #008000; text-decoration-color: #008000\">\"2025-09-18T16:15:54.585927788Z\"</span>,<span style=\"color: #008000; text-decoration-color: #008000\">\"response\"</span>:<span style=\"color: #008000; text-decoration-color: #008000\">\"?\\n\\n\"</span>,<span style=\"color: #008000; text-decoration-color: #008000\">\"done\"</span>:false<span style=\"font-weight: bold\">}</span>\n",
       "<span style=\"font-weight: bold\">{</span><span style=\"color: #008000; text-decoration-color: #008000\">\"model\"</span>:<span style=\"color: #008000; text-decoration-color: #008000\">\"llama3.2\"</span>,<span style=\"color: #008000; text-decoration-color: #008000\">\"created_at\"</span>:<span style=\"color: #008000; text-decoration-color: #008000\">\"2025-09-18T16:15:54.677788459Z\"</span>,<span style=\"color: #008000; text-decoration-color: #008000\">\"response\"</span>:<span style=\"color: #008000; text-decoration-color: #008000\">\"A\"</span>,<span style=\"color: #008000; text-decoration-color: #008000\">\"done\"</span>:false<span style=\"font-weight: bold\">}</span>\n",
       "<span style=\"font-weight: bold\">{</span><span style=\"color: #008000; text-decoration-color: #008000\">\"model\"</span>:<span style=\"color: #008000; text-decoration-color: #008000\">\"llama3.2\"</span>,<span style=\"color: #008000; text-decoration-color: #008000\">\"created_at\"</span>:<span style=\"color: #008000; text-decoration-color: #008000\">\"2025-09-18T16:15:54.772214666Z\"</span>,<span style=\"color: #008000; text-decoration-color: #008000\">\"response\"</span>:<span style=\"color: #008000; text-decoration-color: #008000\">\" moo\"</span>,<span style=\"color: #008000; text-decoration-color: #008000\">\"done\"</span>:false<span style=\"font-weight: bold\">}</span>\n",
       "<span style=\"font-weight: bold\">{</span><span style=\"color: #008000; text-decoration-color: #008000\">\"model\"</span>:<span style=\"color: #008000; text-decoration-color: #008000\">\"llama3.2\"</span>,<span style=\"color: #008000; text-decoration-color: #008000\">\"created_at\"</span>:<span style=\"color: #008000; text-decoration-color: #008000\">\"2025-09-18T16:15:54.858326325Z\"</span>,<span style=\"color: #008000; text-decoration-color: #008000\">\"response\"</span>:<span style=\"color: #008000; text-decoration-color: #008000\">\"-s\"</span>,<span style=\"color: #008000; text-decoration-color: #008000\">\"done\"</span>:false<span style=\"font-weight: bold\">}</span>\n",
       "<span style=\"font-weight: bold\">{</span><span style=\"color: #008000; text-decoration-color: #008000\">\"model\"</span>:<span style=\"color: #008000; text-decoration-color: #008000\">\"llama3.2\"</span>,<span style=\"color: #008000; text-decoration-color: #008000\">\"created_at\"</span>:<span style=\"color: #008000; text-decoration-color: #008000\">\"2025-09-18T16:15:54.937607228Z\"</span>,<span style=\"color: #008000; text-decoration-color: #008000\">\"response\"</span>:<span style=\"color: #008000; text-decoration-color: #008000\">\"ical\"</span>,<span style=\"color: #008000; text-decoration-color: #008000\">\"done\"</span>:false<span style=\"font-weight: bold\">}</span>\n",
       "<span style=\"font-weight: bold\">{</span><span style=\"color: #008000; text-decoration-color: #008000\">\"model\"</span>:<span style=\"color: #008000; text-decoration-color: #008000\">\"llama3.2\"</span>,<span style=\"color: #008000; text-decoration-color: #008000\">\"created_at\"</span>:<span style=\"color: #008000; text-decoration-color: #008000\">\"2025-09-18T16:15:55.026794113Z\"</span>,<span style=\"color: #008000; text-decoration-color: #008000\">\"response\"</span>:<span style=\"color: #008000; text-decoration-color: #008000\">\" band\"</span>,<span style=\"color: #008000; text-decoration-color: #008000\">\"done\"</span>:false<span style=\"font-weight: bold\">}</span>\n",
       "<span style=\"font-weight: bold\">{</span><span style=\"color: #008000; text-decoration-color: #008000\">\"model\"</span>:<span style=\"color: #008000; text-decoration-color: #008000\">\"llama3.2\"</span>,<span style=\"color: #008000; text-decoration-color: #008000\">\"created_at\"</span>:<span style=\"color: #008000; text-decoration-color: #008000\">\"2025-09-18T16:15:55.122016599Z\"</span>,<span style=\"color: #008000; text-decoration-color: #008000\">\"response\"</span>:<span style=\"color: #008000; text-decoration-color: #008000\">\"!\\n\\n\"</span>,<span style=\"color: #008000; text-decoration-color: #008000\">\"done\"</span>:false<span style=\"font-weight: bold\">}</span>\n",
       "<span style=\"font-weight: bold\">{</span><span style=\"color: #008000; text-decoration-color: #008000\">\"model\"</span>:<span style=\"color: #008000; text-decoration-color: #008000\">\"llama3.2\"</span>,<span style=\"color: #008000; text-decoration-color: #008000\">\"created_at\"</span>:<span style=\"color: #008000; text-decoration-color: #008000\">\"2025-09-18T16:15:55.215124087Z\"</span>,<span style=\"color: #008000; text-decoration-color: #008000\">\"response\"</span>:<span style=\"color: #008000; text-decoration-color: #008000\">\"I\"</span>,<span style=\"color: #008000; text-decoration-color: #008000\">\"done\"</span>:false<span style=\"font-weight: bold\">}</span>\n",
       "<span style=\"font-weight: bold\">{</span><span style=\"color: #008000; text-decoration-color: #008000\">\"model\"</span>:<span style=\"color: #008000; text-decoration-color: #008000\">\"llama3.2\"</span>,<span style=\"color: #008000; text-decoration-color: #008000\">\"created_at\"</span>:<span style=\"color: #008000; text-decoration-color: #008000\">\"2025-09-18T16:15:55.295817234Z\"</span>,<span style=\"color: #008000; text-decoration-color: #008000\">\"response\"</span>:<span style=\"color: #008000; text-decoration-color: #008000\">\" hope\"</span>,<span style=\"color: #008000; text-decoration-color: #008000\">\"done\"</span>:false<span style=\"font-weight: bold\">}</span>\n",
       "<span style=\"font-weight: bold\">{</span><span style=\"color: #008000; text-decoration-color: #008000\">\"model\"</span>:<span style=\"color: #008000; text-decoration-color: #008000\">\"llama3.2\"</span>,<span style=\"color: #008000; text-decoration-color: #008000\">\"created_at\"</span>:<span style=\"color: #008000; text-decoration-color: #008000\">\"2025-09-18T16:15:55.376919758Z\"</span>,<span style=\"color: #008000; text-decoration-color: #008000\">\"response\"</span>:<span style=\"color: #008000; text-decoration-color: #008000\">\" that\"</span>,<span style=\"color: #008000; text-decoration-color: #008000\">\"done\"</span>:false<span style=\"font-weight: bold\">}</span>\n",
       "<span style=\"font-weight: bold\">{</span><span style=\"color: #008000; text-decoration-color: #008000\">\"model\"</span>:<span style=\"color: #008000; text-decoration-color: #008000\">\"llama3.2\"</span>,<span style=\"color: #008000; text-decoration-color: #008000\">\"created_at\"</span>:<span style=\"color: #008000; text-decoration-color: #008000\">\"2025-09-18T16:15:55.472167851Z\"</span>,<span style=\"color: #008000; text-decoration-color: #008000\">\"response\"</span>:<span style=\"color: #008000; text-decoration-color: #008000\">\" made\"</span>,<span style=\"color: #008000; text-decoration-color: #008000\">\"done\"</span>:false<span style=\"font-weight: bold\">}</span>\n",
       "<span style=\"font-weight: bold\">{</span><span style=\"color: #008000; text-decoration-color: #008000\">\"model\"</span>:<span style=\"color: #008000; text-decoration-color: #008000\">\"llama3.2\"</span>,<span style=\"color: #008000; text-decoration-color: #008000\">\"created_at\"</span>:<span style=\"color: #008000; text-decoration-color: #008000\">\"2025-09-18T16:15:55.562906357Z\"</span>,<span style=\"color: #008000; text-decoration-color: #008000\">\"response\"</span>:<span style=\"color: #008000; text-decoration-color: #008000\">\" the\"</span>,<span style=\"color: #008000; text-decoration-color: #008000\">\"done\"</span>:false<span style=\"font-weight: bold\">}</span>\n",
       "<span style=\"font-weight: bold\">{</span><span style=\"color: #008000; text-decoration-color: #008000\">\"model\"</span>:<span style=\"color: #008000; text-decoration-color: #008000\">\"llama3.2\"</span>,<span style=\"color: #008000; text-decoration-color: #008000\">\"created_at\"</span>:<span style=\"color: #008000; text-decoration-color: #008000\">\"2025-09-18T16:15:55.663218912Z\"</span>,<span style=\"color: #008000; text-decoration-color: #008000\">\"response\"</span>:<span style=\"color: #008000; text-decoration-color: #008000\">\" kids\"</span>,<span style=\"color: #008000; text-decoration-color: #008000\">\"done\"</span>:false<span style=\"font-weight: bold\">}</span>\n",
       "<span style=\"font-weight: bold\">{</span><span style=\"color: #008000; text-decoration-color: #008000\">\"model\"</span>:<span style=\"color: #008000; text-decoration-color: #008000\">\"llama3.2\"</span>,<span style=\"color: #008000; text-decoration-color: #008000\">\"created_at\"</span>:<span style=\"color: #008000; text-decoration-color: #008000\">\"2025-09-18T16:15:55.759345508Z\"</span>,<span style=\"color: #008000; text-decoration-color: #008000\">\"response\"</span>:<span style=\"color: #008000; text-decoration-color: #008000\">\" (\"</span>,<span style=\"color: #008000; text-decoration-color: #008000\">\"done\"</span>:false<span style=\"font-weight: bold\">}</span>\n",
       "<span style=\"font-weight: bold\">{</span><span style=\"color: #008000; text-decoration-color: #008000\">\"model\"</span>:<span style=\"color: #008000; text-decoration-color: #008000\">\"llama3.2\"</span>,<span style=\"color: #008000; text-decoration-color: #008000\">\"created_at\"</span>:<span style=\"color: #008000; text-decoration-color: #008000\">\"2025-09-18T16:15:55.875910526Z\"</span>,<span style=\"color: #008000; text-decoration-color: #008000\">\"response\"</span>:<span style=\"color: #008000; text-decoration-color: #008000\">\"and\"</span>,<span style=\"color: #008000; text-decoration-color: #008000\">\"done\"</span>:false<span style=\"font-weight: bold\">}</span>\n",
       "<span style=\"font-weight: bold\">{</span><span style=\"color: #008000; text-decoration-color: #008000\">\"model\"</span>:<span style=\"color: #008000; text-decoration-color: #008000\">\"llama3.2\"</span>,<span style=\"color: #008000; text-decoration-color: #008000\">\"created_at\"</span>:<span style=\"color: #008000; text-decoration-color: #008000\">\"2025-09-18T16:15:55.974661797Z\"</span>,<span style=\"color: #008000; text-decoration-color: #008000\">\"response\"</span>:<span style=\"color: #008000; text-decoration-color: #008000\">\" you\"</span>,<span style=\"color: #008000; text-decoration-color: #008000\">\"done\"</span>:false<span style=\"font-weight: bold\">}</span>\n",
       "<span style=\"font-weight: bold\">{</span><span style=\"color: #008000; text-decoration-color: #008000\">\"model\"</span>:<span style=\"color: #008000; text-decoration-color: #008000\">\"llama3.2\"</span>,<span style=\"color: #008000; text-decoration-color: #008000\">\"created_at\"</span>:<span style=\"color: #008000; text-decoration-color: #008000\">\"2025-09-18T16:15:56.075848307Z\"</span>,<span style=\"color: #008000; text-decoration-color: #008000\">\"response\"</span>:<span style=\"color: #008000; text-decoration-color: #008000\">\"!)\"</span>,<span style=\"color: #008000; text-decoration-color: #008000\">\"done\"</span>:false<span style=\"font-weight: bold\">}</span>\n",
       "<span style=\"font-weight: bold\">{</span><span style=\"color: #008000; text-decoration-color: #008000\">\"model\"</span>:<span style=\"color: #008000; text-decoration-color: #008000\">\"llama3.2\"</span>,<span style=\"color: #008000; text-decoration-color: #008000\">\"created_at\"</span>:<span style=\"color: #008000; text-decoration-color: #008000\">\"2025-09-18T16:15:56.185777721Z\"</span>,<span style=\"color: #008000; text-decoration-color: #008000\">\"response\"</span>:<span style=\"color: #008000; text-decoration-color: #008000\">\" gig\"</span>,<span style=\"color: #008000; text-decoration-color: #008000\">\"done\"</span>:false<span style=\"font-weight: bold\">}</span>\n",
       "<span style=\"font-weight: bold\">{</span><span style=\"color: #008000; text-decoration-color: #008000\">\"model\"</span>:<span style=\"color: #008000; text-decoration-color: #008000\">\"llama3.2\"</span>,<span style=\"color: #008000; text-decoration-color: #008000\">\"created_at\"</span>:<span style=\"color: #008000; text-decoration-color: #008000\">\"2025-09-18T16:15:56.303684495Z\"</span>,<span style=\"color: #008000; text-decoration-color: #008000\">\"response\"</span>:<span style=\"color: #008000; text-decoration-color: #008000\">\"gle\"</span>,<span style=\"color: #008000; text-decoration-color: #008000\">\"done\"</span>:false<span style=\"font-weight: bold\">}</span>\n",
       "<span style=\"font-weight: bold\">{</span><span style=\"color: #008000; text-decoration-color: #008000\">\"model\"</span>:<span style=\"color: #008000; text-decoration-color: #008000\">\"llama3.2\"</span>,<span style=\"color: #008000; text-decoration-color: #008000\">\"created_at\"</span>:<span style=\"color: #008000; text-decoration-color: #008000\">\"2025-09-18T16:15:56.397266118Z\"</span>,<span style=\"color: #008000; text-decoration-color: #008000\">\"response\"</span>:<span style=\"color: #008000; text-decoration-color: #008000\">\"!\"</span>,<span style=\"color: #008000; text-decoration-color: #008000\">\"done\"</span>:false<span style=\"font-weight: bold\">}</span>\n",
       "<span style=\"font-weight: bold\">{</span><span style=\"color: #008000; text-decoration-color: #008000\">\"model\"</span>:<span style=\"color: #008000; text-decoration-color: #008000\">\"llama3.2\"</span>,<span style=\"color: #008000; text-decoration-color: #008000\">\"created_at\"</span>:<span style=\"color: #008000; text-decoration-color: #008000\">\"2025-09-18T16:15:56.49126343Z\"</span>,<span style=\"color: #008000; text-decoration-color: #008000\">\"response\"</span>:<span style=\"color: #008000; text-decoration-color: #008000\">\"\"</span>,<span style=\"color: #008000; text-decoration-color: #008000\">\"done\"</span>:true,<span style=\"color: #008000; text-decoration-color: #008000\">\"done_reason\"</span>:<span style=\"color: #008000; text-decoration-color: #008000\">\"stop\"</span>,<span style=\"color: #008000; text-decoration-color: #008000\">\"co</span>\n",
       "<span style=\"color: #008000; text-decoration-color: #008000\">ntext\"</span>:<span style=\"font-weight: bold\">[</span><span style=\"color: #008080; text-decoration-color: #008080; font-weight: bold\">128006</span>,<span style=\"color: #008080; text-decoration-color: #008080; font-weight: bold\">9125</span>,<span style=\"color: #008080; text-decoration-color: #008080; font-weight: bold\">128007</span>,<span style=\"color: #008080; text-decoration-color: #008080; font-weight: bold\">271</span>,<span style=\"color: #008080; text-decoration-color: #008080; font-weight: bold\">38766</span>,<span style=\"color: #008080; text-decoration-color: #008080; font-weight: bold\">1303</span>,<span style=\"color: #008080; text-decoration-color: #008080; font-weight: bold\">33025</span>,<span style=\"color: #008080; text-decoration-color: #008080; font-weight: bold\">2696</span>,<span style=\"color: #008080; text-decoration-color: #008080; font-weight: bold\">25</span>,<span style=\"color: #008080; text-decoration-color: #008080; font-weight: bold\">6790</span>,<span style=\"color: #008080; text-decoration-color: #008080; font-weight: bold\">220</span>,<span style=\"color: #008080; text-decoration-color: #008080; font-weight: bold\">2366</span>,<span style=\"color: #008080; text-decoration-color: #008080; font-weight: bold\">18</span>,<span style=\"color: #008080; text-decoration-color: #008080; font-weight: bold\">271</span>,<span style=\"color: #008080; text-decoration-color: #008080; font-weight: bold\">128009</span>,<span style=\"color: #008080; text-decoration-color: #008080; font-weight: bold\">128006</span>,<span style=\"color: #008080; text-decoration-color: #008080; font-weight: bold\">882</span>,<span style=\"color: #008080; text-decoration-color: #008080; font-weight: bold\">128007</span>,<span style=\"color: #008080; text-decoration-color: #008080; font-weight: bold\">271</span>,<span style=\"color: #008080; text-decoration-color: #008080; font-weight: bold\">41551</span>,<span style=\"color: #008080; text-decoration-color: #008080; font-weight: bold\">757</span>\n",
       ",<span style=\"color: #008080; text-decoration-color: #008080; font-weight: bold\">264</span>,<span style=\"color: #008080; text-decoration-color: #008080; font-weight: bold\">30571</span>,<span style=\"color: #008080; text-decoration-color: #008080; font-weight: bold\">22380</span>,<span style=\"color: #008080; text-decoration-color: #008080; font-weight: bold\">369</span>,<span style=\"color: #008080; text-decoration-color: #008080; font-weight: bold\">264</span>,<span style=\"color: #008080; text-decoration-color: #008080; font-weight: bold\">10585</span>,<span style=\"color: #008080; text-decoration-color: #008080; font-weight: bold\">13</span>,<span style=\"color: #008080; text-decoration-color: #008080; font-weight: bold\">128009</span>,<span style=\"color: #008080; text-decoration-color: #008080; font-weight: bold\">128006</span>,<span style=\"color: #008080; text-decoration-color: #008080; font-weight: bold\">78191</span>,<span style=\"color: #008080; text-decoration-color: #008080; font-weight: bold\">128007</span>,<span style=\"color: #008080; text-decoration-color: #008080; font-weight: bold\">271</span>,<span style=\"color: #008080; text-decoration-color: #008080; font-weight: bold\">8586</span>,<span style=\"color: #008080; text-decoration-color: #008080; font-weight: bold\">596</span>,<span style=\"color: #008080; text-decoration-color: #008080; font-weight: bold\">832</span>,<span style=\"color: #008080; text-decoration-color: #008080; font-weight: bold\">1473</span>,<span style=\"color: #008080; text-decoration-color: #008080; font-weight: bold\">3923</span>,<span style=\"color: #008080; text-decoration-color: #008080; font-weight: bold\">656</span>,<span style=\"color: #008080; text-decoration-color: #008080; font-weight: bold\">499</span>,<span style=\"color: #008080; text-decoration-color: #008080; font-weight: bold\">1650</span>,<span style=\"color: #008080; text-decoration-color: #008080; font-weight: bold\">264</span>,<span style=\"color: #008080; text-decoration-color: #008080; font-weight: bold\">1912</span>,<span style=\"color: #008080; text-decoration-color: #008080; font-weight: bold\">315</span>,<span style=\"color: #008080; text-decoration-color: #008080; font-weight: bold\">4</span>\n",
       "<span style=\"color: #008080; text-decoration-color: #008080; font-weight: bold\">6266</span>,<span style=\"color: #008080; text-decoration-color: #008080; font-weight: bold\">5737</span>,<span style=\"color: #008080; text-decoration-color: #008080; font-weight: bold\">24198</span>,<span style=\"color: #008080; text-decoration-color: #008080; font-weight: bold\">1980</span>,<span style=\"color: #008080; text-decoration-color: #008080; font-weight: bold\">32</span>,<span style=\"color: #008080; text-decoration-color: #008080; font-weight: bold\">46971</span>,<span style=\"color: #008080; text-decoration-color: #008080; font-weight: bold\">1355</span>,<span style=\"color: #008080; text-decoration-color: #008080; font-weight: bold\">950</span>,<span style=\"color: #008080; text-decoration-color: #008080; font-weight: bold\">7200</span>,<span style=\"color: #008080; text-decoration-color: #008080; font-weight: bold\">2268</span>,<span style=\"color: #008080; text-decoration-color: #008080; font-weight: bold\">40</span>,<span style=\"color: #008080; text-decoration-color: #008080; font-weight: bold\">3987</span>,<span style=\"color: #008080; text-decoration-color: #008080; font-weight: bold\">430</span>,<span style=\"color: #008080; text-decoration-color: #008080; font-weight: bold\">1903</span>,<span style=\"color: #008080; text-decoration-color: #008080; font-weight: bold\">279</span>,<span style=\"color: #008080; text-decoration-color: #008080; font-weight: bold\">6980</span>,<span style=\"color: #008080; text-decoration-color: #008080; font-weight: bold\">320</span>,<span style=\"color: #008080; text-decoration-color: #008080; font-weight: bold\">438</span>,<span style=\"color: #008080; text-decoration-color: #008080; font-weight: bold\">499</span>,<span style=\"color: #008080; text-decoration-color: #008080; font-weight: bold\">16715</span>,<span style=\"color: #008080; text-decoration-color: #008080; font-weight: bold\">23401</span>,<span style=\"color: #008080; text-decoration-color: #008080; font-weight: bold\">3491</span>,<span style=\"color: #008080; text-decoration-color: #008080; font-weight: bold\">0</span><span style=\"font-weight: bold\">]</span>,<span style=\"color: #008000; text-decoration-color: #008000\">\"total_d</span>\n",
       "<span style=\"color: #008000; text-decoration-color: #008000\">uration\"</span>:<span style=\"color: #008080; text-decoration-color: #008080; font-weight: bold\">3212225673</span>,<span style=\"color: #008000; text-decoration-color: #008000\">\"load_duration\"</span>:<span style=\"color: #008080; text-decoration-color: #008080; font-weight: bold\">48558908</span>,<span style=\"color: #008000; text-decoration-color: #008000\">\"prompt_eval_count\"</span>:<span style=\"color: #008080; text-decoration-color: #008080; font-weight: bold\">34</span>,<span style=\"color: #008000; text-decoration-color: #008000\">\"prompt_eval_duration\"</span>:<span style=\"color: #008080; text-decoration-color: #008080; font-weight: bold\">78549142</span>,<span style=\"color: #008000; text-decoration-color: #008000\">\"eval_count\"</span>:<span style=\"color: #008080; text-decoration-color: #008080; font-weight: bold\">35</span>\n",
       ",<span style=\"color: #008000; text-decoration-color: #008000\">\"eval_duration\"</span>:<span style=\"color: #008080; text-decoration-color: #008080; font-weight: bold\">3084405342</span><span style=\"font-weight: bold\">}</span>\n",
       "\n",
       "</pre>\n"
      ],
      "text/plain": [
       "\u001b[1m{\u001b[0m\u001b[32m\"model\"\u001b[0m:\u001b[32m\"llama3.2\"\u001b[0m,\u001b[32m\"created_at\"\u001b[0m:\u001b[32m\"2025-09-18T16:15:53.407855722Z\"\u001b[0m,\u001b[32m\"response\"\u001b[0m:\u001b[32m\"Here\"\u001b[0m,\u001b[32m\"done\"\u001b[0m:false\u001b[1m}\u001b[0m\n",
       "\u001b[1m{\u001b[0m\u001b[32m\"model\"\u001b[0m:\u001b[32m\"llama3.2\"\u001b[0m,\u001b[32m\"created_at\"\u001b[0m:\u001b[32m\"2025-09-18T16:15:53.499700297Z\"\u001b[0m,\u001b[32m\"response\"\u001b[0m:\u001b[32m\"'s\"\u001b[0m,\u001b[32m\"done\"\u001b[0m:false\u001b[1m}\u001b[0m\n",
       "\u001b[1m{\u001b[0m\u001b[32m\"model\"\u001b[0m:\u001b[32m\"llama3.2\"\u001b[0m,\u001b[32m\"created_at\"\u001b[0m:\u001b[32m\"2025-09-18T16:15:53.592655314Z\"\u001b[0m,\u001b[32m\"response\"\u001b[0m:\u001b[32m\" one\"\u001b[0m,\u001b[32m\"done\"\u001b[0m:false\u001b[1m}\u001b[0m\n",
       "\u001b[1m{\u001b[0m\u001b[32m\"model\"\u001b[0m:\u001b[32m\"llama3.2\"\u001b[0m,\u001b[32m\"created_at\"\u001b[0m:\u001b[32m\"2025-09-18T16:15:53.672842141Z\"\u001b[0m,\u001b[32m\"response\"\u001b[0m:\u001b[32m\":\\n\\n\"\u001b[0m,\u001b[32m\"done\"\u001b[0m:false\u001b[1m}\u001b[0m\n",
       "\u001b[1m{\u001b[0m\u001b[32m\"model\"\u001b[0m:\u001b[32m\"llama3.2\"\u001b[0m,\u001b[32m\"created_at\"\u001b[0m:\u001b[32m\"2025-09-18T16:15:53.767166165Z\"\u001b[0m,\u001b[32m\"response\"\u001b[0m:\u001b[32m\"What\"\u001b[0m,\u001b[32m\"done\"\u001b[0m:false\u001b[1m}\u001b[0m\n",
       "\u001b[1m{\u001b[0m\u001b[32m\"model\"\u001b[0m:\u001b[32m\"llama3.2\"\u001b[0m,\u001b[32m\"created_at\"\u001b[0m:\u001b[32m\"2025-09-18T16:15:53.846342636Z\"\u001b[0m,\u001b[32m\"response\"\u001b[0m:\u001b[32m\" do\"\u001b[0m,\u001b[32m\"done\"\u001b[0m:false\u001b[1m}\u001b[0m\n",
       "\u001b[1m{\u001b[0m\u001b[32m\"model\"\u001b[0m:\u001b[32m\"llama3.2\"\u001b[0m,\u001b[32m\"created_at\"\u001b[0m:\u001b[32m\"2025-09-18T16:15:53.926203759Z\"\u001b[0m,\u001b[32m\"response\"\u001b[0m:\u001b[32m\" you\"\u001b[0m,\u001b[32m\"done\"\u001b[0m:false\u001b[1m}\u001b[0m\n",
       "\u001b[1m{\u001b[0m\u001b[32m\"model\"\u001b[0m:\u001b[32m\"llama3.2\"\u001b[0m,\u001b[32m\"created_at\"\u001b[0m:\u001b[32m\"2025-09-18T16:15:54.005658991Z\"\u001b[0m,\u001b[32m\"response\"\u001b[0m:\u001b[32m\" call\"\u001b[0m,\u001b[32m\"done\"\u001b[0m:false\u001b[1m}\u001b[0m\n",
       "\u001b[1m{\u001b[0m\u001b[32m\"model\"\u001b[0m:\u001b[32m\"llama3.2\"\u001b[0m,\u001b[32m\"created_at\"\u001b[0m:\u001b[32m\"2025-09-18T16:15:54.084860322Z\"\u001b[0m,\u001b[32m\"response\"\u001b[0m:\u001b[32m\" a\"\u001b[0m,\u001b[32m\"done\"\u001b[0m:false\u001b[1m}\u001b[0m\n",
       "\u001b[1m{\u001b[0m\u001b[32m\"model\"\u001b[0m:\u001b[32m\"llama3.2\"\u001b[0m,\u001b[32m\"created_at\"\u001b[0m:\u001b[32m\"2025-09-18T16:15:54.164464177Z\"\u001b[0m,\u001b[32m\"response\"\u001b[0m:\u001b[32m\" group\"\u001b[0m,\u001b[32m\"done\"\u001b[0m:false\u001b[1m}\u001b[0m\n",
       "\u001b[1m{\u001b[0m\u001b[32m\"model\"\u001b[0m:\u001b[32m\"llama3.2\"\u001b[0m,\u001b[32m\"created_at\"\u001b[0m:\u001b[32m\"2025-09-18T16:15:54.254536358Z\"\u001b[0m,\u001b[32m\"response\"\u001b[0m:\u001b[32m\" of\"\u001b[0m,\u001b[32m\"done\"\u001b[0m:false\u001b[1m}\u001b[0m\n",
       "\u001b[1m{\u001b[0m\u001b[32m\"model\"\u001b[0m:\u001b[32m\"llama3.2\"\u001b[0m,\u001b[32m\"created_at\"\u001b[0m:\u001b[32m\"2025-09-18T16:15:54.337983113Z\"\u001b[0m,\u001b[32m\"response\"\u001b[0m:\u001b[32m\" cows\"\u001b[0m,\u001b[32m\"done\"\u001b[0m:false\u001b[1m}\u001b[0m\n",
       "\u001b[1m{\u001b[0m\u001b[32m\"model\"\u001b[0m:\u001b[32m\"llama3.2\"\u001b[0m,\u001b[32m\"created_at\"\u001b[0m:\u001b[32m\"2025-09-18T16:15:54.428621513Z\"\u001b[0m,\u001b[32m\"response\"\u001b[0m:\u001b[32m\" playing\"\u001b[0m,\u001b[32m\"done\"\u001b[0m:false\u001b[1m}\u001b[0m\n",
       "\u001b[1m{\u001b[0m\u001b[32m\"model\"\u001b[0m:\u001b[32m\"llama3.2\"\u001b[0m,\u001b[32m\"created_at\"\u001b[0m:\u001b[32m\"2025-09-18T16:15:54.502994239Z\"\u001b[0m,\u001b[32m\"response\"\u001b[0m:\u001b[32m\" instruments\"\u001b[0m,\u001b[32m\"done\"\u001b[0m:false\u001b[1m}\u001b[0m\n",
       "\u001b[1m{\u001b[0m\u001b[32m\"model\"\u001b[0m:\u001b[32m\"llama3.2\"\u001b[0m,\u001b[32m\"created_at\"\u001b[0m:\u001b[32m\"2025-09-18T16:15:54.585927788Z\"\u001b[0m,\u001b[32m\"response\"\u001b[0m:\u001b[32m\"?\\n\\n\"\u001b[0m,\u001b[32m\"done\"\u001b[0m:false\u001b[1m}\u001b[0m\n",
       "\u001b[1m{\u001b[0m\u001b[32m\"model\"\u001b[0m:\u001b[32m\"llama3.2\"\u001b[0m,\u001b[32m\"created_at\"\u001b[0m:\u001b[32m\"2025-09-18T16:15:54.677788459Z\"\u001b[0m,\u001b[32m\"response\"\u001b[0m:\u001b[32m\"A\"\u001b[0m,\u001b[32m\"done\"\u001b[0m:false\u001b[1m}\u001b[0m\n",
       "\u001b[1m{\u001b[0m\u001b[32m\"model\"\u001b[0m:\u001b[32m\"llama3.2\"\u001b[0m,\u001b[32m\"created_at\"\u001b[0m:\u001b[32m\"2025-09-18T16:15:54.772214666Z\"\u001b[0m,\u001b[32m\"response\"\u001b[0m:\u001b[32m\" moo\"\u001b[0m,\u001b[32m\"done\"\u001b[0m:false\u001b[1m}\u001b[0m\n",
       "\u001b[1m{\u001b[0m\u001b[32m\"model\"\u001b[0m:\u001b[32m\"llama3.2\"\u001b[0m,\u001b[32m\"created_at\"\u001b[0m:\u001b[32m\"2025-09-18T16:15:54.858326325Z\"\u001b[0m,\u001b[32m\"response\"\u001b[0m:\u001b[32m\"-s\"\u001b[0m,\u001b[32m\"done\"\u001b[0m:false\u001b[1m}\u001b[0m\n",
       "\u001b[1m{\u001b[0m\u001b[32m\"model\"\u001b[0m:\u001b[32m\"llama3.2\"\u001b[0m,\u001b[32m\"created_at\"\u001b[0m:\u001b[32m\"2025-09-18T16:15:54.937607228Z\"\u001b[0m,\u001b[32m\"response\"\u001b[0m:\u001b[32m\"ical\"\u001b[0m,\u001b[32m\"done\"\u001b[0m:false\u001b[1m}\u001b[0m\n",
       "\u001b[1m{\u001b[0m\u001b[32m\"model\"\u001b[0m:\u001b[32m\"llama3.2\"\u001b[0m,\u001b[32m\"created_at\"\u001b[0m:\u001b[32m\"2025-09-18T16:15:55.026794113Z\"\u001b[0m,\u001b[32m\"response\"\u001b[0m:\u001b[32m\" band\"\u001b[0m,\u001b[32m\"done\"\u001b[0m:false\u001b[1m}\u001b[0m\n",
       "\u001b[1m{\u001b[0m\u001b[32m\"model\"\u001b[0m:\u001b[32m\"llama3.2\"\u001b[0m,\u001b[32m\"created_at\"\u001b[0m:\u001b[32m\"2025-09-18T16:15:55.122016599Z\"\u001b[0m,\u001b[32m\"response\"\u001b[0m:\u001b[32m\"!\\n\\n\"\u001b[0m,\u001b[32m\"done\"\u001b[0m:false\u001b[1m}\u001b[0m\n",
       "\u001b[1m{\u001b[0m\u001b[32m\"model\"\u001b[0m:\u001b[32m\"llama3.2\"\u001b[0m,\u001b[32m\"created_at\"\u001b[0m:\u001b[32m\"2025-09-18T16:15:55.215124087Z\"\u001b[0m,\u001b[32m\"response\"\u001b[0m:\u001b[32m\"I\"\u001b[0m,\u001b[32m\"done\"\u001b[0m:false\u001b[1m}\u001b[0m\n",
       "\u001b[1m{\u001b[0m\u001b[32m\"model\"\u001b[0m:\u001b[32m\"llama3.2\"\u001b[0m,\u001b[32m\"created_at\"\u001b[0m:\u001b[32m\"2025-09-18T16:15:55.295817234Z\"\u001b[0m,\u001b[32m\"response\"\u001b[0m:\u001b[32m\" hope\"\u001b[0m,\u001b[32m\"done\"\u001b[0m:false\u001b[1m}\u001b[0m\n",
       "\u001b[1m{\u001b[0m\u001b[32m\"model\"\u001b[0m:\u001b[32m\"llama3.2\"\u001b[0m,\u001b[32m\"created_at\"\u001b[0m:\u001b[32m\"2025-09-18T16:15:55.376919758Z\"\u001b[0m,\u001b[32m\"response\"\u001b[0m:\u001b[32m\" that\"\u001b[0m,\u001b[32m\"done\"\u001b[0m:false\u001b[1m}\u001b[0m\n",
       "\u001b[1m{\u001b[0m\u001b[32m\"model\"\u001b[0m:\u001b[32m\"llama3.2\"\u001b[0m,\u001b[32m\"created_at\"\u001b[0m:\u001b[32m\"2025-09-18T16:15:55.472167851Z\"\u001b[0m,\u001b[32m\"response\"\u001b[0m:\u001b[32m\" made\"\u001b[0m,\u001b[32m\"done\"\u001b[0m:false\u001b[1m}\u001b[0m\n",
       "\u001b[1m{\u001b[0m\u001b[32m\"model\"\u001b[0m:\u001b[32m\"llama3.2\"\u001b[0m,\u001b[32m\"created_at\"\u001b[0m:\u001b[32m\"2025-09-18T16:15:55.562906357Z\"\u001b[0m,\u001b[32m\"response\"\u001b[0m:\u001b[32m\" the\"\u001b[0m,\u001b[32m\"done\"\u001b[0m:false\u001b[1m}\u001b[0m\n",
       "\u001b[1m{\u001b[0m\u001b[32m\"model\"\u001b[0m:\u001b[32m\"llama3.2\"\u001b[0m,\u001b[32m\"created_at\"\u001b[0m:\u001b[32m\"2025-09-18T16:15:55.663218912Z\"\u001b[0m,\u001b[32m\"response\"\u001b[0m:\u001b[32m\" kids\"\u001b[0m,\u001b[32m\"done\"\u001b[0m:false\u001b[1m}\u001b[0m\n",
       "\u001b[1m{\u001b[0m\u001b[32m\"model\"\u001b[0m:\u001b[32m\"llama3.2\"\u001b[0m,\u001b[32m\"created_at\"\u001b[0m:\u001b[32m\"2025-09-18T16:15:55.759345508Z\"\u001b[0m,\u001b[32m\"response\"\u001b[0m:\u001b[32m\" \u001b[0m\u001b[32m(\u001b[0m\u001b[32m\"\u001b[0m,\u001b[32m\"done\"\u001b[0m:false\u001b[1m}\u001b[0m\n",
       "\u001b[1m{\u001b[0m\u001b[32m\"model\"\u001b[0m:\u001b[32m\"llama3.2\"\u001b[0m,\u001b[32m\"created_at\"\u001b[0m:\u001b[32m\"2025-09-18T16:15:55.875910526Z\"\u001b[0m,\u001b[32m\"response\"\u001b[0m:\u001b[32m\"and\"\u001b[0m,\u001b[32m\"done\"\u001b[0m:false\u001b[1m}\u001b[0m\n",
       "\u001b[1m{\u001b[0m\u001b[32m\"model\"\u001b[0m:\u001b[32m\"llama3.2\"\u001b[0m,\u001b[32m\"created_at\"\u001b[0m:\u001b[32m\"2025-09-18T16:15:55.974661797Z\"\u001b[0m,\u001b[32m\"response\"\u001b[0m:\u001b[32m\" you\"\u001b[0m,\u001b[32m\"done\"\u001b[0m:false\u001b[1m}\u001b[0m\n",
       "\u001b[1m{\u001b[0m\u001b[32m\"model\"\u001b[0m:\u001b[32m\"llama3.2\"\u001b[0m,\u001b[32m\"created_at\"\u001b[0m:\u001b[32m\"2025-09-18T16:15:56.075848307Z\"\u001b[0m,\u001b[32m\"response\"\u001b[0m:\u001b[32m\"!\u001b[0m\u001b[32m)\u001b[0m\u001b[32m\"\u001b[0m,\u001b[32m\"done\"\u001b[0m:false\u001b[1m}\u001b[0m\n",
       "\u001b[1m{\u001b[0m\u001b[32m\"model\"\u001b[0m:\u001b[32m\"llama3.2\"\u001b[0m,\u001b[32m\"created_at\"\u001b[0m:\u001b[32m\"2025-09-18T16:15:56.185777721Z\"\u001b[0m,\u001b[32m\"response\"\u001b[0m:\u001b[32m\" gig\"\u001b[0m,\u001b[32m\"done\"\u001b[0m:false\u001b[1m}\u001b[0m\n",
       "\u001b[1m{\u001b[0m\u001b[32m\"model\"\u001b[0m:\u001b[32m\"llama3.2\"\u001b[0m,\u001b[32m\"created_at\"\u001b[0m:\u001b[32m\"2025-09-18T16:15:56.303684495Z\"\u001b[0m,\u001b[32m\"response\"\u001b[0m:\u001b[32m\"gle\"\u001b[0m,\u001b[32m\"done\"\u001b[0m:false\u001b[1m}\u001b[0m\n",
       "\u001b[1m{\u001b[0m\u001b[32m\"model\"\u001b[0m:\u001b[32m\"llama3.2\"\u001b[0m,\u001b[32m\"created_at\"\u001b[0m:\u001b[32m\"2025-09-18T16:15:56.397266118Z\"\u001b[0m,\u001b[32m\"response\"\u001b[0m:\u001b[32m\"!\"\u001b[0m,\u001b[32m\"done\"\u001b[0m:false\u001b[1m}\u001b[0m\n",
       "\u001b[1m{\u001b[0m\u001b[32m\"model\"\u001b[0m:\u001b[32m\"llama3.2\"\u001b[0m,\u001b[32m\"created_at\"\u001b[0m:\u001b[32m\"2025-09-18T16:15:56.49126343Z\"\u001b[0m,\u001b[32m\"response\"\u001b[0m:\u001b[32m\"\"\u001b[0m,\u001b[32m\"done\"\u001b[0m:true,\u001b[32m\"done_reason\"\u001b[0m:\u001b[32m\"stop\"\u001b[0m,\u001b[32m\"co\u001b[0m\n",
       "\u001b[32mntext\"\u001b[0m:\u001b[1m[\u001b[0m\u001b[1;36m128006\u001b[0m,\u001b[1;36m9125\u001b[0m,\u001b[1;36m128007\u001b[0m,\u001b[1;36m271\u001b[0m,\u001b[1;36m38766\u001b[0m,\u001b[1;36m1303\u001b[0m,\u001b[1;36m33025\u001b[0m,\u001b[1;36m2696\u001b[0m,\u001b[1;36m25\u001b[0m,\u001b[1;36m6790\u001b[0m,\u001b[1;36m220\u001b[0m,\u001b[1;36m2366\u001b[0m,\u001b[1;36m18\u001b[0m,\u001b[1;36m271\u001b[0m,\u001b[1;36m128009\u001b[0m,\u001b[1;36m128006\u001b[0m,\u001b[1;36m882\u001b[0m,\u001b[1;36m128007\u001b[0m,\u001b[1;36m271\u001b[0m,\u001b[1;36m41551\u001b[0m,\u001b[1;36m757\u001b[0m\n",
       ",\u001b[1;36m264\u001b[0m,\u001b[1;36m30571\u001b[0m,\u001b[1;36m22380\u001b[0m,\u001b[1;36m369\u001b[0m,\u001b[1;36m264\u001b[0m,\u001b[1;36m10585\u001b[0m,\u001b[1;36m13\u001b[0m,\u001b[1;36m128009\u001b[0m,\u001b[1;36m128006\u001b[0m,\u001b[1;36m78191\u001b[0m,\u001b[1;36m128007\u001b[0m,\u001b[1;36m271\u001b[0m,\u001b[1;36m8586\u001b[0m,\u001b[1;36m596\u001b[0m,\u001b[1;36m832\u001b[0m,\u001b[1;36m1473\u001b[0m,\u001b[1;36m3923\u001b[0m,\u001b[1;36m656\u001b[0m,\u001b[1;36m499\u001b[0m,\u001b[1;36m1650\u001b[0m,\u001b[1;36m264\u001b[0m,\u001b[1;36m1912\u001b[0m,\u001b[1;36m315\u001b[0m,\u001b[1;36m4\u001b[0m\n",
       "\u001b[1;36m6266\u001b[0m,\u001b[1;36m5737\u001b[0m,\u001b[1;36m24198\u001b[0m,\u001b[1;36m1980\u001b[0m,\u001b[1;36m32\u001b[0m,\u001b[1;36m46971\u001b[0m,\u001b[1;36m1355\u001b[0m,\u001b[1;36m950\u001b[0m,\u001b[1;36m7200\u001b[0m,\u001b[1;36m2268\u001b[0m,\u001b[1;36m40\u001b[0m,\u001b[1;36m3987\u001b[0m,\u001b[1;36m430\u001b[0m,\u001b[1;36m1903\u001b[0m,\u001b[1;36m279\u001b[0m,\u001b[1;36m6980\u001b[0m,\u001b[1;36m320\u001b[0m,\u001b[1;36m438\u001b[0m,\u001b[1;36m499\u001b[0m,\u001b[1;36m16715\u001b[0m,\u001b[1;36m23401\u001b[0m,\u001b[1;36m3491\u001b[0m,\u001b[1;36m0\u001b[0m\u001b[1m]\u001b[0m,\u001b[32m\"total_d\u001b[0m\n",
       "\u001b[32muration\"\u001b[0m:\u001b[1;36m3212225673\u001b[0m,\u001b[32m\"load_duration\"\u001b[0m:\u001b[1;36m48558908\u001b[0m,\u001b[32m\"prompt_eval_count\"\u001b[0m:\u001b[1;36m34\u001b[0m,\u001b[32m\"prompt_eval_duration\"\u001b[0m:\u001b[1;36m78549142\u001b[0m,\u001b[32m\"eval_count\"\u001b[0m:\u001b[1;36m35\u001b[0m\n",
       ",\u001b[32m\"eval_duration\"\u001b[0m:\u001b[1;36m3084405342\u001b[0m\u001b[1m}\u001b[0m\n",
       "\n"
      ]
     },
     "metadata": {},
     "output_type": "display_data"
    }
   ],
   "source": [
    "rich_print(curl_response)  # noqa"
   ]
  },
  {
   "cell_type": "markdown",
   "id": "d5387f4b-c045-4c51-939c-88d461edf6e7",
   "metadata": {},
   "source": [
    "## Using the Python SDK\n",
    "\n",
    "The same can be done using Ollama's Python SDK:"
   ]
  },
  {
   "cell_type": "code",
   "execution_count": 7,
   "id": "ebb29200-e4b2-4141-87b0-f272b735d86b",
   "metadata": {},
   "outputs": [],
   "source": [
    "import ollama"
   ]
  },
  {
   "cell_type": "code",
   "execution_count": 8,
   "id": "a90cc365-84e1-43d5-882d-a7f18ffd2e75",
   "metadata": {},
   "outputs": [
    {
     "data": {
      "text/html": [
       "<pre style=\"white-space:pre;overflow-x:auto;line-height:normal;font-family:Menlo,'DejaVu Sans Mono',consolas,'Courier New',monospace\"><span style=\"color: #800080; text-decoration-color: #800080; font-weight: bold\">GenerateResponse</span><span style=\"font-weight: bold\">(</span>\n",
       "    <span style=\"color: #808000; text-decoration-color: #808000\">model</span>=<span style=\"color: #008000; text-decoration-color: #008000\">'llama3.2'</span>,\n",
       "    <span style=\"color: #808000; text-decoration-color: #808000\">created_at</span>=<span style=\"color: #008000; text-decoration-color: #008000\">'2025-09-18T16:15:59.95424034Z'</span>,\n",
       "    <span style=\"color: #808000; text-decoration-color: #808000\">done</span>=<span style=\"color: #00ff00; text-decoration-color: #00ff00; font-style: italic\">True</span>,\n",
       "    <span style=\"color: #808000; text-decoration-color: #808000\">done_reason</span>=<span style=\"color: #008000; text-decoration-color: #008000\">'stop'</span>,\n",
       "    <span style=\"color: #808000; text-decoration-color: #808000\">total_duration</span>=<span style=\"color: #008080; text-decoration-color: #008080; font-weight: bold\">3319105808</span>,\n",
       "    <span style=\"color: #808000; text-decoration-color: #808000\">load_duration</span>=<span style=\"color: #008080; text-decoration-color: #008080; font-weight: bold\">77386050</span>,\n",
       "    <span style=\"color: #808000; text-decoration-color: #808000\">prompt_eval_count</span>=<span style=\"color: #008080; text-decoration-color: #008080; font-weight: bold\">34</span>,\n",
       "    <span style=\"color: #808000; text-decoration-color: #808000\">prompt_eval_duration</span>=<span style=\"color: #008080; text-decoration-color: #008080; font-weight: bold\">93402481</span>,\n",
       "    <span style=\"color: #808000; text-decoration-color: #808000\">eval_count</span>=<span style=\"color: #008080; text-decoration-color: #008080; font-weight: bold\">32</span>,\n",
       "    <span style=\"color: #808000; text-decoration-color: #808000\">eval_duration</span>=<span style=\"color: #008080; text-decoration-color: #008080; font-weight: bold\">3147435097</span>,\n",
       "    <span style=\"color: #808000; text-decoration-color: #808000\">response</span>=<span style=\"color: #008000; text-decoration-color: #008000\">\"Here's one:\\n\\nWhat do you call a group of cows playing instruments?\\n\\nA moo-sical band!\\n\\nI hope </span>\n",
       "<span style=\"color: #008000; text-decoration-color: #008000\">that made the kiddo giggle!\"</span>,\n",
       "    <span style=\"color: #808000; text-decoration-color: #808000\">thinking</span>=<span style=\"color: #800080; text-decoration-color: #800080; font-style: italic\">None</span>,\n",
       "    <span style=\"color: #808000; text-decoration-color: #808000\">context</span>=<span style=\"font-weight: bold\">[</span>\n",
       "        <span style=\"color: #008080; text-decoration-color: #008080; font-weight: bold\">128006</span>,\n",
       "        <span style=\"color: #008080; text-decoration-color: #008080; font-weight: bold\">9125</span>,\n",
       "        <span style=\"color: #008080; text-decoration-color: #008080; font-weight: bold\">128007</span>,\n",
       "        <span style=\"color: #008080; text-decoration-color: #008080; font-weight: bold\">271</span>,\n",
       "        <span style=\"color: #008080; text-decoration-color: #008080; font-weight: bold\">38766</span>,\n",
       "        <span style=\"color: #008080; text-decoration-color: #008080; font-weight: bold\">1303</span>,\n",
       "        <span style=\"color: #008080; text-decoration-color: #008080; font-weight: bold\">33025</span>,\n",
       "        <span style=\"color: #008080; text-decoration-color: #008080; font-weight: bold\">2696</span>,\n",
       "        <span style=\"color: #008080; text-decoration-color: #008080; font-weight: bold\">25</span>,\n",
       "        <span style=\"color: #008080; text-decoration-color: #008080; font-weight: bold\">6790</span>,\n",
       "        <span style=\"color: #008080; text-decoration-color: #008080; font-weight: bold\">220</span>,\n",
       "        <span style=\"color: #008080; text-decoration-color: #008080; font-weight: bold\">2366</span>,\n",
       "        <span style=\"color: #008080; text-decoration-color: #008080; font-weight: bold\">18</span>,\n",
       "        <span style=\"color: #008080; text-decoration-color: #008080; font-weight: bold\">271</span>,\n",
       "        <span style=\"color: #008080; text-decoration-color: #008080; font-weight: bold\">128009</span>,\n",
       "        <span style=\"color: #008080; text-decoration-color: #008080; font-weight: bold\">128006</span>,\n",
       "        <span style=\"color: #008080; text-decoration-color: #008080; font-weight: bold\">882</span>,\n",
       "        <span style=\"color: #008080; text-decoration-color: #008080; font-weight: bold\">128007</span>,\n",
       "        <span style=\"color: #008080; text-decoration-color: #008080; font-weight: bold\">271</span>,\n",
       "        <span style=\"color: #008080; text-decoration-color: #008080; font-weight: bold\">41551</span>,\n",
       "        <span style=\"color: #008080; text-decoration-color: #008080; font-weight: bold\">757</span>,\n",
       "        <span style=\"color: #008080; text-decoration-color: #008080; font-weight: bold\">264</span>,\n",
       "        <span style=\"color: #008080; text-decoration-color: #008080; font-weight: bold\">30571</span>,\n",
       "        <span style=\"color: #008080; text-decoration-color: #008080; font-weight: bold\">22380</span>,\n",
       "        <span style=\"color: #008080; text-decoration-color: #008080; font-weight: bold\">369</span>,\n",
       "        <span style=\"color: #008080; text-decoration-color: #008080; font-weight: bold\">264</span>,\n",
       "        <span style=\"color: #008080; text-decoration-color: #008080; font-weight: bold\">10585</span>,\n",
       "        <span style=\"color: #008080; text-decoration-color: #008080; font-weight: bold\">13</span>,\n",
       "        <span style=\"color: #008080; text-decoration-color: #008080; font-weight: bold\">128009</span>,\n",
       "        <span style=\"color: #008080; text-decoration-color: #008080; font-weight: bold\">128006</span>,\n",
       "        <span style=\"color: #008080; text-decoration-color: #008080; font-weight: bold\">78191</span>,\n",
       "        <span style=\"color: #008080; text-decoration-color: #008080; font-weight: bold\">128007</span>,\n",
       "        <span style=\"color: #008080; text-decoration-color: #008080; font-weight: bold\">271</span>,\n",
       "        <span style=\"color: #008080; text-decoration-color: #008080; font-weight: bold\">8586</span>,\n",
       "        <span style=\"color: #008080; text-decoration-color: #008080; font-weight: bold\">596</span>,\n",
       "        <span style=\"color: #008080; text-decoration-color: #008080; font-weight: bold\">832</span>,\n",
       "        <span style=\"color: #008080; text-decoration-color: #008080; font-weight: bold\">1473</span>,\n",
       "        <span style=\"color: #008080; text-decoration-color: #008080; font-weight: bold\">3923</span>,\n",
       "        <span style=\"color: #008080; text-decoration-color: #008080; font-weight: bold\">656</span>,\n",
       "        <span style=\"color: #008080; text-decoration-color: #008080; font-weight: bold\">499</span>,\n",
       "        <span style=\"color: #008080; text-decoration-color: #008080; font-weight: bold\">1650</span>,\n",
       "        <span style=\"color: #008080; text-decoration-color: #008080; font-weight: bold\">264</span>,\n",
       "        <span style=\"color: #008080; text-decoration-color: #008080; font-weight: bold\">1912</span>,\n",
       "        <span style=\"color: #008080; text-decoration-color: #008080; font-weight: bold\">315</span>,\n",
       "        <span style=\"color: #008080; text-decoration-color: #008080; font-weight: bold\">46266</span>,\n",
       "        <span style=\"color: #008080; text-decoration-color: #008080; font-weight: bold\">5737</span>,\n",
       "        <span style=\"color: #008080; text-decoration-color: #008080; font-weight: bold\">24198</span>,\n",
       "        <span style=\"color: #008080; text-decoration-color: #008080; font-weight: bold\">1980</span>,\n",
       "        <span style=\"color: #008080; text-decoration-color: #008080; font-weight: bold\">32</span>,\n",
       "        <span style=\"color: #008080; text-decoration-color: #008080; font-weight: bold\">46971</span>,\n",
       "        <span style=\"color: #008080; text-decoration-color: #008080; font-weight: bold\">1355</span>,\n",
       "        <span style=\"color: #008080; text-decoration-color: #008080; font-weight: bold\">950</span>,\n",
       "        <span style=\"color: #008080; text-decoration-color: #008080; font-weight: bold\">7200</span>,\n",
       "        <span style=\"color: #008080; text-decoration-color: #008080; font-weight: bold\">2268</span>,\n",
       "        <span style=\"color: #008080; text-decoration-color: #008080; font-weight: bold\">40</span>,\n",
       "        <span style=\"color: #008080; text-decoration-color: #008080; font-weight: bold\">3987</span>,\n",
       "        <span style=\"color: #008080; text-decoration-color: #008080; font-weight: bold\">430</span>,\n",
       "        <span style=\"color: #008080; text-decoration-color: #008080; font-weight: bold\">1903</span>,\n",
       "        <span style=\"color: #008080; text-decoration-color: #008080; font-weight: bold\">279</span>,\n",
       "        <span style=\"color: #008080; text-decoration-color: #008080; font-weight: bold\">92515</span>,\n",
       "        <span style=\"color: #008080; text-decoration-color: #008080; font-weight: bold\">78</span>,\n",
       "        <span style=\"color: #008080; text-decoration-color: #008080; font-weight: bold\">23401</span>,\n",
       "        <span style=\"color: #008080; text-decoration-color: #008080; font-weight: bold\">3491</span>,\n",
       "        <span style=\"color: #008080; text-decoration-color: #008080; font-weight: bold\">0</span>\n",
       "    <span style=\"font-weight: bold\">]</span>\n",
       "<span style=\"font-weight: bold\">)</span>\n",
       "</pre>\n"
      ],
      "text/plain": [
       "\u001b[1;35mGenerateResponse\u001b[0m\u001b[1m(\u001b[0m\n",
       "    \u001b[33mmodel\u001b[0m=\u001b[32m'llama3.2'\u001b[0m,\n",
       "    \u001b[33mcreated_at\u001b[0m=\u001b[32m'2025-09-18T16:15:59.95424034Z'\u001b[0m,\n",
       "    \u001b[33mdone\u001b[0m=\u001b[3;92mTrue\u001b[0m,\n",
       "    \u001b[33mdone_reason\u001b[0m=\u001b[32m'stop'\u001b[0m,\n",
       "    \u001b[33mtotal_duration\u001b[0m=\u001b[1;36m3319105808\u001b[0m,\n",
       "    \u001b[33mload_duration\u001b[0m=\u001b[1;36m77386050\u001b[0m,\n",
       "    \u001b[33mprompt_eval_count\u001b[0m=\u001b[1;36m34\u001b[0m,\n",
       "    \u001b[33mprompt_eval_duration\u001b[0m=\u001b[1;36m93402481\u001b[0m,\n",
       "    \u001b[33meval_count\u001b[0m=\u001b[1;36m32\u001b[0m,\n",
       "    \u001b[33meval_duration\u001b[0m=\u001b[1;36m3147435097\u001b[0m,\n",
       "    \u001b[33mresponse\u001b[0m=\u001b[32m\"Here\u001b[0m\u001b[32m's one:\\n\\nWhat do you call a group of cows playing instruments?\\n\\nA moo-sical band!\\n\\nI hope \u001b[0m\n",
       "\u001b[32mthat made the kiddo giggle!\"\u001b[0m,\n",
       "    \u001b[33mthinking\u001b[0m=\u001b[3;35mNone\u001b[0m,\n",
       "    \u001b[33mcontext\u001b[0m=\u001b[1m[\u001b[0m\n",
       "        \u001b[1;36m128006\u001b[0m,\n",
       "        \u001b[1;36m9125\u001b[0m,\n",
       "        \u001b[1;36m128007\u001b[0m,\n",
       "        \u001b[1;36m271\u001b[0m,\n",
       "        \u001b[1;36m38766\u001b[0m,\n",
       "        \u001b[1;36m1303\u001b[0m,\n",
       "        \u001b[1;36m33025\u001b[0m,\n",
       "        \u001b[1;36m2696\u001b[0m,\n",
       "        \u001b[1;36m25\u001b[0m,\n",
       "        \u001b[1;36m6790\u001b[0m,\n",
       "        \u001b[1;36m220\u001b[0m,\n",
       "        \u001b[1;36m2366\u001b[0m,\n",
       "        \u001b[1;36m18\u001b[0m,\n",
       "        \u001b[1;36m271\u001b[0m,\n",
       "        \u001b[1;36m128009\u001b[0m,\n",
       "        \u001b[1;36m128006\u001b[0m,\n",
       "        \u001b[1;36m882\u001b[0m,\n",
       "        \u001b[1;36m128007\u001b[0m,\n",
       "        \u001b[1;36m271\u001b[0m,\n",
       "        \u001b[1;36m41551\u001b[0m,\n",
       "        \u001b[1;36m757\u001b[0m,\n",
       "        \u001b[1;36m264\u001b[0m,\n",
       "        \u001b[1;36m30571\u001b[0m,\n",
       "        \u001b[1;36m22380\u001b[0m,\n",
       "        \u001b[1;36m369\u001b[0m,\n",
       "        \u001b[1;36m264\u001b[0m,\n",
       "        \u001b[1;36m10585\u001b[0m,\n",
       "        \u001b[1;36m13\u001b[0m,\n",
       "        \u001b[1;36m128009\u001b[0m,\n",
       "        \u001b[1;36m128006\u001b[0m,\n",
       "        \u001b[1;36m78191\u001b[0m,\n",
       "        \u001b[1;36m128007\u001b[0m,\n",
       "        \u001b[1;36m271\u001b[0m,\n",
       "        \u001b[1;36m8586\u001b[0m,\n",
       "        \u001b[1;36m596\u001b[0m,\n",
       "        \u001b[1;36m832\u001b[0m,\n",
       "        \u001b[1;36m1473\u001b[0m,\n",
       "        \u001b[1;36m3923\u001b[0m,\n",
       "        \u001b[1;36m656\u001b[0m,\n",
       "        \u001b[1;36m499\u001b[0m,\n",
       "        \u001b[1;36m1650\u001b[0m,\n",
       "        \u001b[1;36m264\u001b[0m,\n",
       "        \u001b[1;36m1912\u001b[0m,\n",
       "        \u001b[1;36m315\u001b[0m,\n",
       "        \u001b[1;36m46266\u001b[0m,\n",
       "        \u001b[1;36m5737\u001b[0m,\n",
       "        \u001b[1;36m24198\u001b[0m,\n",
       "        \u001b[1;36m1980\u001b[0m,\n",
       "        \u001b[1;36m32\u001b[0m,\n",
       "        \u001b[1;36m46971\u001b[0m,\n",
       "        \u001b[1;36m1355\u001b[0m,\n",
       "        \u001b[1;36m950\u001b[0m,\n",
       "        \u001b[1;36m7200\u001b[0m,\n",
       "        \u001b[1;36m2268\u001b[0m,\n",
       "        \u001b[1;36m40\u001b[0m,\n",
       "        \u001b[1;36m3987\u001b[0m,\n",
       "        \u001b[1;36m430\u001b[0m,\n",
       "        \u001b[1;36m1903\u001b[0m,\n",
       "        \u001b[1;36m279\u001b[0m,\n",
       "        \u001b[1;36m92515\u001b[0m,\n",
       "        \u001b[1;36m78\u001b[0m,\n",
       "        \u001b[1;36m23401\u001b[0m,\n",
       "        \u001b[1;36m3491\u001b[0m,\n",
       "        \u001b[1;36m0\u001b[0m\n",
       "    \u001b[1m]\u001b[0m\n",
       "\u001b[1m)\u001b[0m\n"
      ]
     },
     "metadata": {},
     "output_type": "display_data"
    }
   ],
   "source": [
    "response = ollama.generate(model=\"llama3.2\", prompt=\"Tell me a silly joke for a kid.\")\n",
    "rich_print(response)"
   ]
  },
  {
   "cell_type": "markdown",
   "id": "7a8a399e-7b2e-4841-9c3f-270ae11a9e95",
   "metadata": {},
   "source": [
    "As we can see, the response is very similar to what we got using `curl` and the API is quite straightforward to use. We can also extract the actual text from the response."
   ]
  },
  {
   "cell_type": "code",
   "execution_count": 9,
   "id": "01519778-2e5f-4f2a-badb-73e8b8d43903",
   "metadata": {},
   "outputs": [
    {
     "name": "stdout",
     "output_type": "stream",
     "text": [
      "Here's one:\n",
      "\n",
      "What do you call a group of cows playing instruments?\n",
      "\n",
      "A moo-sical band!\n",
      "\n",
      "I hope that made the kiddo giggle!\n"
     ]
    }
   ],
   "source": [
    "print(response.response)"
   ]
  },
  {
   "cell_type": "markdown",
   "id": "043120dd-9077-4a7e-8601-4cc73408d2c4",
   "metadata": {},
   "source": [
    "## Using the `llm` CLI tool and Python library\n",
    "\n",
    "[`llm`](https://llm.datasette.io/) is an open-source CLI tool and Python library for interacting with LLMs, created by Simon Willison. It works with both local models and remote APIs (from OpenAI, Anthropic’s Claude, Google’s Gemini, etc.). It should already be installed in your environment along with the [`llm-ollama` plugin](https://github.com/taketwo/llm-ollama), which allows us to query any Ollama-installed models.\n",
    "\n",
    "Let's use it to run the same prompt we've been running. The output should be similar to what we got from `ollama run`."
   ]
  },
  {
   "cell_type": "code",
   "execution_count": 10,
   "id": "d8722b68-4f11-4290-bb0b-f1f133ad9f1c",
   "metadata": {},
   "outputs": [
    {
     "name": "stdout",
     "output_type": "stream",
     "text": [
      "Here's one:\n",
      "\n",
      "What do you call a group of cows playing instruments?\n",
      "\n",
      "A moo-sical band!\n",
      "\n",
      "Kids love puns, and this one is sure to make them giggle!\n"
     ]
    }
   ],
   "source": [
    "!llm -m llama3.2 \"Tell me a silly joke for a kid.\""
   ]
  },
  {
   "cell_type": "markdown",
   "id": "303f2ff1-37ab-47a2-85c1-9f105e7301d5",
   "metadata": {},
   "source": [
    "### Using the Python library\n",
    "\n",
    "We can also use the `llm` Python API to interact with the model."
   ]
  },
  {
   "cell_type": "code",
   "execution_count": 11,
   "id": "247e05cf-cece-448f-84b3-11c664d2d246",
   "metadata": {},
   "outputs": [],
   "source": [
    "import llm\n",
    "\n",
    "model = llm.get_model(\"llama3.2\")\n",
    "response = model.prompt(\"Tell me a silly joke for a kid.\")"
   ]
  },
  {
   "cell_type": "markdown",
   "id": "a8713f45-181e-4790-847d-c009c9629850",
   "metadata": {},
   "source": [
    "The prompt will not be evaluated until you call `response.text()` or `print(response)`."
   ]
  },
  {
   "cell_type": "code",
   "execution_count": 12,
   "id": "56fa9d42-2e80-4a72-bb17-9c28bce87d2e",
   "metadata": {},
   "outputs": [
    {
     "name": "stdout",
     "output_type": "stream",
     "text": [
      "Here's one that kids usually love:\n",
      "\n",
      "What do you call a group of cows playing instruments?\n",
      "\n",
      "A moo-sical band!\n",
      "\n",
      "I hope that made you giggle!\n"
     ]
    }
   ],
   "source": [
    "print(response)"
   ]
  },
  {
   "cell_type": "markdown",
   "id": "43abe8f8-7793-4558-8f42-8a59aa68b56a",
   "metadata": {},
   "source": [
    "However, it seems we cannot get the raw JSON response with this tool, unlike with the `ollama` Python SDK. According to [the docs](https://llm.datasette.io/en/stable/python-api.html#accessing-the-underlying-json), some model plugins make the JSON available through the `response.json()` method."
   ]
  },
  {
   "cell_type": "code",
   "execution_count": 13,
   "id": "88081846-e9da-4eba-932a-398d6d97aac5",
   "metadata": {},
   "outputs": [
    {
     "name": "stdout",
     "output_type": "stream",
     "text": [
      "None\n"
     ]
    }
   ],
   "source": [
    "print(response.json())"
   ]
  },
  {
   "cell_type": "markdown",
   "id": "382d5dff-8d35-4650-b119-e3cc8e80ccb7",
   "metadata": {},
   "source": [
    "## Conclusion\n",
    "\n",
    "Ollama is indeed an easy-to-use tool, which gives us the ability to run LLMs locally. Pairing it with `llm` adds some powerful features, such as the ability to [log all prompts and responses to a SQLite database](https://llm.datasette.io/en/stable/logging.html). It also allows us to switch between local models and remote APIs if necessary, which may be quite useful when experimenting with various LLMs."
   ]
  }
 ],
 "metadata": {
  "kernelspec": {
   "display_name": "Python 3 (ipykernel)",
   "language": "python",
   "name": "python3"
  },
  "language_info": {
   "codemirror_mode": {
    "name": "ipython",
    "version": 3
   },
   "file_extension": ".py",
   "mimetype": "text/x-python",
   "name": "python",
   "nbconvert_exporter": "python",
   "pygments_lexer": "ipython3",
   "version": "3.13.3"
  }
 },
 "nbformat": 4,
 "nbformat_minor": 5
}
