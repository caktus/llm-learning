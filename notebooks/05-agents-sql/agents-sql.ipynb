{
 "cells": [
  {
   "cell_type": "markdown",
   "id": "af9baf72",
   "metadata": {},
   "source": [
    "# SQL Agent\n",
    "\n",
    "Expanding on our previous agents notebook, we will now look at using an agent to query a SQL database."
   ]
  },
  {
   "cell_type": "code",
   "execution_count": 1,
   "id": "9482f1db",
   "metadata": {},
   "outputs": [],
   "source": [
    "# VS Code's Jupyter extension doesn't support loading .envrc, so if you're using VS Code, we load it here.\n",
    "\n",
    "import sys\n",
    "\n",
    "if \"..\" not in sys.path:\n",
    "    sys.path.insert(0, \"..\")\n",
    "\n",
    "from utils import load_envrc\n",
    "\n",
    "load_envrc(\"../../.envrc\")"
   ]
  },
  {
   "cell_type": "markdown",
   "id": "6d0489e4",
   "metadata": {},
   "source": [
    "## Dataset: North Carolina General Statutes\n",
    "\n",
    "We will use the North Carolina General Statutes as our dataset. The statutes are available online at https://www.ncleg.gov/Laws/GeneralStatutesTOC. The `download-nc-statutes.py` script downloads the statutes and saves them to a CSV file."
   ]
  },
  {
   "cell_type": "code",
   "execution_count": 2,
   "id": "c612dbe2",
   "metadata": {},
   "outputs": [
    {
     "data": {
      "text/html": [
       "<div>\n",
       "<style scoped>\n",
       "    .dataframe tbody tr th:only-of-type {\n",
       "        vertical-align: middle;\n",
       "    }\n",
       "\n",
       "    .dataframe tbody tr th {\n",
       "        vertical-align: top;\n",
       "    }\n",
       "\n",
       "    .dataframe thead th {\n",
       "        text-align: right;\n",
       "    }\n",
       "</style>\n",
       "<table border=\"1\" class=\"dataframe\">\n",
       "  <thead>\n",
       "    <tr style=\"text-align: right;\">\n",
       "      <th></th>\n",
       "      <th>chapter_number</th>\n",
       "      <th>chapter_title</th>\n",
       "      <th>article_number</th>\n",
       "      <th>article</th>\n",
       "      <th>section_number</th>\n",
       "      <th>text</th>\n",
       "      <th>source_url</th>\n",
       "    </tr>\n",
       "  </thead>\n",
       "  <tbody>\n",
       "    <tr>\n",
       "      <th>0</th>\n",
       "      <td>1</td>\n",
       "      <td>Civil Procedure</td>\n",
       "      <td>1</td>\n",
       "      <td>Definitions</td>\n",
       "      <td>1-1</td>\n",
       "      <td>§ 1-1.  Remedies.\\nRemedies in the courts of j...</td>\n",
       "      <td>https://www.ncleg.gov/EnactedLegislation/Statu...</td>\n",
       "    </tr>\n",
       "    <tr>\n",
       "      <th>1</th>\n",
       "      <td>1</td>\n",
       "      <td>Civil Procedure</td>\n",
       "      <td>1</td>\n",
       "      <td>Definitions</td>\n",
       "      <td>1-2</td>\n",
       "      <td>§ 1-2.  Actions.\\nAn action is an ordinary pro...</td>\n",
       "      <td>https://www.ncleg.gov/EnactedLegislation/Statu...</td>\n",
       "    </tr>\n",
       "    <tr>\n",
       "      <th>2</th>\n",
       "      <td>1</td>\n",
       "      <td>Civil Procedure</td>\n",
       "      <td>1</td>\n",
       "      <td>Definitions</td>\n",
       "      <td>1-3</td>\n",
       "      <td>§ 1-3.  Special proceedings.\\nEvery other reme...</td>\n",
       "      <td>https://www.ncleg.gov/EnactedLegislation/Statu...</td>\n",
       "    </tr>\n",
       "    <tr>\n",
       "      <th>3</th>\n",
       "      <td>1</td>\n",
       "      <td>Civil Procedure</td>\n",
       "      <td>1</td>\n",
       "      <td>Definitions</td>\n",
       "      <td>1-4</td>\n",
       "      <td>§ 1-4.  Kinds of actions.\\nActions are of two ...</td>\n",
       "      <td>https://www.ncleg.gov/EnactedLegislation/Statu...</td>\n",
       "    </tr>\n",
       "    <tr>\n",
       "      <th>4</th>\n",
       "      <td>1</td>\n",
       "      <td>Civil Procedure</td>\n",
       "      <td>1</td>\n",
       "      <td>Definitions</td>\n",
       "      <td>1-5</td>\n",
       "      <td>§ 1-5.  Criminal action.\\nA criminal action is...</td>\n",
       "      <td>https://www.ncleg.gov/EnactedLegislation/Statu...</td>\n",
       "    </tr>\n",
       "  </tbody>\n",
       "</table>\n",
       "</div>"
      ],
      "text/plain": [
       "  chapter_number    chapter_title article_number      article section_number  \\\n",
       "0              1  Civil Procedure              1  Definitions            1-1   \n",
       "1              1  Civil Procedure              1  Definitions            1-2   \n",
       "2              1  Civil Procedure              1  Definitions            1-3   \n",
       "3              1  Civil Procedure              1  Definitions            1-4   \n",
       "4              1  Civil Procedure              1  Definitions            1-5   \n",
       "\n",
       "                                                text  \\\n",
       "0  § 1-1.  Remedies.\\nRemedies in the courts of j...   \n",
       "1  § 1-2.  Actions.\\nAn action is an ordinary pro...   \n",
       "2  § 1-3.  Special proceedings.\\nEvery other reme...   \n",
       "3  § 1-4.  Kinds of actions.\\nActions are of two ...   \n",
       "4  § 1-5.  Criminal action.\\nA criminal action is...   \n",
       "\n",
       "                                          source_url  \n",
       "0  https://www.ncleg.gov/EnactedLegislation/Statu...  \n",
       "1  https://www.ncleg.gov/EnactedLegislation/Statu...  \n",
       "2  https://www.ncleg.gov/EnactedLegislation/Statu...  \n",
       "3  https://www.ncleg.gov/EnactedLegislation/Statu...  \n",
       "4  https://www.ncleg.gov/EnactedLegislation/Statu...  "
      ]
     },
     "execution_count": 2,
     "metadata": {},
     "output_type": "execute_result"
    }
   ],
   "source": [
    "import pandas as pd\n",
    "\n",
    "df = pd.read_csv(\"input/nc_general_statutes.csv.gz\")\n",
    "df.head(5)"
   ]
  },
  {
   "cell_type": "code",
   "execution_count": 3,
   "id": "921a3f36",
   "metadata": {},
   "outputs": [
    {
     "name": "stdout",
     "output_type": "stream",
     "text": [
      "§ 15A-145.  Expunction of records for first offenders under the age of 18 at the time of conviction of misdemeanor; expunction of certain other misdemeanors.\n",
      "(a)\tWhenever any person who has not previously been convicted of any felony, or misdemeanor other than a traffic violation, under the laws of the United States, the laws of this State or any other state, (i) pleads guilty to or is guilty of a misdemeanor other than a traffic violation, and the offense was committed before the person attained the age of 18 years, or (ii) pleads guilty to or is guilty of a misdemeanor possession of alcohol pursuant to G.S. 18B-302(b)(1), and the offense was committed before the person attained the age of 21 years, he may file a petition in the court of the county where he was convicted for expunction of the misdemeanor from his criminal record. The petition cannot be filed earlier than: (i) two years after the date of the conviction, or (ii) the completion of any period of probation, whichever occurs later, and the petition shall contain, but not be limited to, the following:\n",
      "(1)\tAn affidavit by the petitioner that he has been of good behavior for the two-year period since the date of conviction of the misdemeanor in question and has not been convicted of any felony, or misdemeanor other than a traffic violation, under the laws of the United States or the laws of this State or any other state.\n",
      "(2)\tVerified affidavits of two persons who are not related to the petitioner or to each other by blood or marriage, that they know the character and reputation of the petitioner in the community in which he lives and that his character and reputation are good.\n",
      "(3)\tA statement that the petition is a motion in the cause in the case wherein the petitioner was convicted.\n",
      "(4)\tRepealed by Session Laws 2010-174, s. 2, effective October 1, 2010, and applicable to petitions for expunctions filed on or after that date.\n",
      "(4a)\tAn application on a form approved by the Administrative Office of the Courts requesting and authorizing a name-based State and national criminal record check by the State Bureau of Investigation using any information required by the Administrative Office of the Courts to identify the individual and a search of the confidential record of expunctions maintained by the Administrative Office of the Courts. The application shall be filed with the clerk of superior court. The clerk of superior court shall forward the application to the State Bureau of Investigation and to the Administrative Office of the Courts, which shall conduct the searches and report their findings to the court.\n",
      "(5)\tAn affidavit by the petitioner that no restitution orders or civil judgments representing amounts ordered for restitution entered against him are outstanding.\n",
      "The petition shall be served upon the district attorney of the court wherein the case was tried resulting in conviction. The district attorney shall have 10 days thereafter in which to file any objection thereto and shall be duly notified as to the date of the hearing of the petition.\n",
      "The judge to whom the petition is presented is authorized to call upon a probation officer for any additional investigation or verification of the petitioner's conduct during the two-year period that he deems desirable.\n",
      "(a1)\tNothing in this section shall be interpreted to allow the expunction of any offense involving impaired driving as defined in G.S. 20-4.01(24a) or any offense requiring registration pursuant to Article 27A of Chapter 14 of the General Statutes, whether or not the person is currently required to register.\n",
      "(b)\tIf the court, after hearing, finds that the petitioner had remained of good behavior and been free of conviction of any felony or misdemeanor, other than a traffic violation, for two years from the date of conviction of the misdemeanor in question, the petitioner has no outstanding restitution orders or civil judgments representing amounts ordered for restitution entered against him, and (i) petitioner was not 18 years old at the time of the offense in question, or (ii) petitioner was not 21 years old at the time of the offense of possession of alcohol pursuant to G.S. 18B-302(b)(1), it shall order that such person be restored, in the contemplation of the law, to the status he occupied before such arrest or indictment or information.\n",
      "(b1)\tNo person as to whom such order has been entered shall be held thereafter under any provision of any laws to be guilty of perjury or otherwise giving a false statement by reason of his failure to recite or acknowledge such arrest, or indictment, information, or trial, or response to any inquiry made of him for any purpose. This subsection shall not apply to a sentencing hearing when the person has been convicted of a subsequent criminal offense.\n",
      "(c)\tThe court shall also order that the misdemeanor conviction, or a civil revocation of a drivers license as the result of a criminal charge, be expunged from the records of the court. The court shall direct all law-enforcement agencies, the Department of Adult Correction, the Division of Motor Vehicles, and any other State or local government agencies identified by the petitioner as bearing record of the same to expunge their records of the petitioner's conviction or a civil revocation of a drivers license as the result of a criminal charge. This subsection does not apply to civil or criminal charges based upon the civil revocation, or to civil revocations under G.S. 20-16.2. The clerk shall notify State and local agencies of the court's order as provided in G.S. 15A-150. The clerk shall forward a certified copy of the order to the Division of Motor Vehicles for the expunction of a civil revocation provided the underlying criminal charge is also expunged. The civil revocation of a drivers license shall not be expunged prior to a final disposition of any pending civil or criminal charge based upon the civil revocation.\n",
      "(d)\tThe clerk shall notify State and local agencies of the court's order as provided in G.S. 15A-150.\n",
      "(d1)\tRepealed by Session Laws 2012-191, s. 3, effective December 1, 2012.\n",
      "(e)\tA person who files a petition for expunction of a criminal record under this section must pay the clerk of superior court a fee of one hundred seventy-five dollars ($175.00) at the time the petition is filed. Fees collected under this subsection are payable to the Administrative Office of the Courts. The clerk of superior court shall remit one hundred twenty-two dollars and fifty cents ($122.50) of each fee to the State Bureau of Investigation for the costs of criminal record checks performed in connection with processing petitions for expunctions under this section. The remaining fifty-two dollars and fifty cents ($52.50) of each fee shall be retained by the Administrative Office of the Courts and used to pay the costs of processing petitions for expunctions under this section. This subsection does not apply to petitions filed by an indigent.  (1973, c. 47, s. 2; c. 748; 1975, c. 650, s. 5; 1977, c. 642, s. 1; c. 699, ss. 1, 2; 1979, c. 431, ss. 1, 2; 1985, c. 636, s. 1; 1999-406, s. 8; 2002-126, ss. 29A.5(a), (b); 2004-133, s. 1; 2005-276, s. 43.1(e); 2007-509, s. 1; 2008-187, s. 35; 2009-510, s. 4(a), (b); 2009-577, s. 10; 2010-174, ss. 2, 3; 2011-145, s. 19.1(h); 2012-191, s. 3; 2013-360, s. 18B.16(a); 2014-100, s. 17.1(o); 2015-150, s. 2; 2017-186, s. 2(qq); 2017-195, s. 1; 2021-115, s. 2; 2021-180, s. 19C.9(s); 2023-134, s. 19F.4(oo).)\n"
     ]
    }
   ],
   "source": [
    "# Let's look at a specific statute to see what the data looks like.\n",
    "\n",
    "print(df[df[\"section_number\"] == \"15A-145\"].iloc[0][\"text\"])"
   ]
  },
  {
   "cell_type": "code",
   "execution_count": 3,
   "id": "55f8e467",
   "metadata": {},
   "outputs": [
    {
     "data": {
      "text/plain": [
       "-1"
      ]
     },
     "execution_count": 3,
     "metadata": {},
     "output_type": "execute_result"
    }
   ],
   "source": [
    "# Now let's load the data into a PostgreSQL database.\n",
    "\n",
    "import os\n",
    "from sqlalchemy import create_engine\n",
    "\n",
    "pg_engine = create_engine(os.getenv(\"DATABASE_URL\"))\n",
    "\n",
    "df.to_sql(\"nc_general_statutes\", pg_engine, if_exists=\"replace\", index=False)"
   ]
  },
  {
   "cell_type": "markdown",
   "id": "b4db09a7",
   "metadata": {},
   "source": [
    "### Query the data\n",
    "\n",
    "Let's think about different ways we can query the data. Some simple examples include:\n",
    "\n",
    "- \"How many chapters are there in total?\"\n",
    "- \"What is the title of Chapter 15A?\"\n",
    "- \"List all statutes in Chapter 15A.\"\n",
    "- \"What is the text of statute 15A-145?\"\n",
    "\n",
    "We can obviously ask more complex questions, but these simple ones will do for now. Let's try to answer these questions using SQL queries."
   ]
  },
  {
   "cell_type": "code",
   "execution_count": 5,
   "id": "925b409e",
   "metadata": {},
   "outputs": [
    {
     "data": {
      "text/html": [
       "<div>\n",
       "<style scoped>\n",
       "    .dataframe tbody tr th:only-of-type {\n",
       "        vertical-align: middle;\n",
       "    }\n",
       "\n",
       "    .dataframe tbody tr th {\n",
       "        vertical-align: top;\n",
       "    }\n",
       "\n",
       "    .dataframe thead th {\n",
       "        text-align: right;\n",
       "    }\n",
       "</style>\n",
       "<table border=\"1\" class=\"dataframe\">\n",
       "  <thead>\n",
       "    <tr style=\"text-align: right;\">\n",
       "      <th></th>\n",
       "      <th>count</th>\n",
       "    </tr>\n",
       "  </thead>\n",
       "  <tbody>\n",
       "    <tr>\n",
       "      <th>0</th>\n",
       "      <td>395</td>\n",
       "    </tr>\n",
       "  </tbody>\n",
       "</table>\n",
       "</div>"
      ],
      "text/plain": [
       "   count\n",
       "0    395"
      ]
     },
     "execution_count": 5,
     "metadata": {},
     "output_type": "execute_result"
    }
   ],
   "source": [
    "# \"How many chapters are there in total?\"\n",
    "\n",
    "pd.read_sql(\"SELECT COUNT(DISTINCT chapter_number) FROM nc_general_statutes\", pg_engine)"
   ]
  },
  {
   "cell_type": "code",
   "execution_count": 6,
   "id": "9ec43d2e",
   "metadata": {},
   "outputs": [
    {
     "data": {
      "text/html": [
       "<div>\n",
       "<style scoped>\n",
       "    .dataframe tbody tr th:only-of-type {\n",
       "        vertical-align: middle;\n",
       "    }\n",
       "\n",
       "    .dataframe tbody tr th {\n",
       "        vertical-align: top;\n",
       "    }\n",
       "\n",
       "    .dataframe thead th {\n",
       "        text-align: right;\n",
       "    }\n",
       "</style>\n",
       "<table border=\"1\" class=\"dataframe\">\n",
       "  <thead>\n",
       "    <tr style=\"text-align: right;\">\n",
       "      <th></th>\n",
       "      <th>chapter_title</th>\n",
       "    </tr>\n",
       "  </thead>\n",
       "  <tbody>\n",
       "    <tr>\n",
       "      <th>0</th>\n",
       "      <td>Criminal Procedure Act</td>\n",
       "    </tr>\n",
       "  </tbody>\n",
       "</table>\n",
       "</div>"
      ],
      "text/plain": [
       "            chapter_title\n",
       "0  Criminal Procedure Act"
      ]
     },
     "execution_count": 6,
     "metadata": {},
     "output_type": "execute_result"
    }
   ],
   "source": [
    "# \"What is the title of Chapter 15A?\"\n",
    "\n",
    "pd.read_sql(\n",
    "    \"SELECT DISTINCT chapter_title FROM nc_general_statutes WHERE chapter_number = '15A'\", pg_engine\n",
    ")"
   ]
  },
  {
   "cell_type": "code",
   "execution_count": 7,
   "id": "f268ca95",
   "metadata": {},
   "outputs": [
    {
     "data": {
      "text/html": [
       "<div>\n",
       "<style scoped>\n",
       "    .dataframe tbody tr th:only-of-type {\n",
       "        vertical-align: middle;\n",
       "    }\n",
       "\n",
       "    .dataframe tbody tr th {\n",
       "        vertical-align: top;\n",
       "    }\n",
       "\n",
       "    .dataframe thead th {\n",
       "        text-align: right;\n",
       "    }\n",
       "</style>\n",
       "<table border=\"1\" class=\"dataframe\">\n",
       "  <thead>\n",
       "    <tr style=\"text-align: right;\">\n",
       "      <th></th>\n",
       "      <th>article_number_sort</th>\n",
       "      <th>article_number</th>\n",
       "      <th>article</th>\n",
       "    </tr>\n",
       "  </thead>\n",
       "  <tbody>\n",
       "    <tr>\n",
       "      <th>0</th>\n",
       "      <td>1</td>\n",
       "      <td>1</td>\n",
       "      <td>Definitions and General Provisions</td>\n",
       "    </tr>\n",
       "    <tr>\n",
       "      <th>1</th>\n",
       "      <td>2</td>\n",
       "      <td>2</td>\n",
       "      <td>Jurisdiction</td>\n",
       "    </tr>\n",
       "    <tr>\n",
       "      <th>2</th>\n",
       "      <td>3</td>\n",
       "      <td>3</td>\n",
       "      <td>Venue</td>\n",
       "    </tr>\n",
       "    <tr>\n",
       "      <th>3</th>\n",
       "      <td>4</td>\n",
       "      <td>4</td>\n",
       "      <td>Entry and Withdrawal of Attorney in Criminal Case</td>\n",
       "    </tr>\n",
       "    <tr>\n",
       "      <th>4</th>\n",
       "      <td>5</td>\n",
       "      <td>5</td>\n",
       "      <td>Expunction of Records</td>\n",
       "    </tr>\n",
       "    <tr>\n",
       "      <th>5</th>\n",
       "      <td>6</td>\n",
       "      <td>6</td>\n",
       "      <td>Certificate of Relief</td>\n",
       "    </tr>\n",
       "    <tr>\n",
       "      <th>6</th>\n",
       "      <td>7</td>\n",
       "      <td>7</td>\n",
       "      <td>Certificate of Relief</td>\n",
       "    </tr>\n",
       "    <tr>\n",
       "      <th>7</th>\n",
       "      <td>8</td>\n",
       "      <td>8</td>\n",
       "      <td>Electronic Recording of Interrogations</td>\n",
       "    </tr>\n",
       "    <tr>\n",
       "      <th>8</th>\n",
       "      <td>8</td>\n",
       "      <td>8A</td>\n",
       "      <td>SBI and State Crime Laboratory Access to View ...</td>\n",
       "    </tr>\n",
       "    <tr>\n",
       "      <th>9</th>\n",
       "      <td>9</td>\n",
       "      <td>9</td>\n",
       "      <td>Search and Seizure by Consent</td>\n",
       "    </tr>\n",
       "    <tr>\n",
       "      <th>10</th>\n",
       "      <td>10</td>\n",
       "      <td>10</td>\n",
       "      <td>Other Searches and Seizures</td>\n",
       "    </tr>\n",
       "    <tr>\n",
       "      <th>11</th>\n",
       "      <td>11</td>\n",
       "      <td>11</td>\n",
       "      <td>Search Warrants</td>\n",
       "    </tr>\n",
       "    <tr>\n",
       "      <th>12</th>\n",
       "      <td>12</td>\n",
       "      <td>12</td>\n",
       "      <td>Pen Registers; Trap and Trace Devices</td>\n",
       "    </tr>\n",
       "    <tr>\n",
       "      <th>13</th>\n",
       "      <td>13</td>\n",
       "      <td>13</td>\n",
       "      <td>DNA Database and Databank</td>\n",
       "    </tr>\n",
       "    <tr>\n",
       "      <th>14</th>\n",
       "      <td>14</td>\n",
       "      <td>14</td>\n",
       "      <td>Nontestimonial Identification</td>\n",
       "    </tr>\n",
       "    <tr>\n",
       "      <th>15</th>\n",
       "      <td>14</td>\n",
       "      <td>14A</td>\n",
       "      <td>Eyewitness Identification Reform Act</td>\n",
       "    </tr>\n",
       "    <tr>\n",
       "      <th>16</th>\n",
       "      <td>15</td>\n",
       "      <td>15</td>\n",
       "      <td>Urgent Necessity</td>\n",
       "    </tr>\n",
       "    <tr>\n",
       "      <th>17</th>\n",
       "      <td>16</td>\n",
       "      <td>16</td>\n",
       "      <td>Electronic Surveillance</td>\n",
       "    </tr>\n",
       "    <tr>\n",
       "      <th>18</th>\n",
       "      <td>16</td>\n",
       "      <td>16A</td>\n",
       "      <td>Discontinuation of Telecommunications Services</td>\n",
       "    </tr>\n",
       "    <tr>\n",
       "      <th>19</th>\n",
       "      <td>16</td>\n",
       "      <td>16B</td>\n",
       "      <td>Use of Unmanned Aircraft Systems</td>\n",
       "    </tr>\n",
       "  </tbody>\n",
       "</table>\n",
       "</div>"
      ],
      "text/plain": [
       "    article_number_sort article_number  \\\n",
       "0                     1              1   \n",
       "1                     2              2   \n",
       "2                     3              3   \n",
       "3                     4              4   \n",
       "4                     5              5   \n",
       "5                     6              6   \n",
       "6                     7              7   \n",
       "7                     8              8   \n",
       "8                     8             8A   \n",
       "9                     9              9   \n",
       "10                   10             10   \n",
       "11                   11             11   \n",
       "12                   12             12   \n",
       "13                   13             13   \n",
       "14                   14             14   \n",
       "15                   14            14A   \n",
       "16                   15             15   \n",
       "17                   16             16   \n",
       "18                   16            16A   \n",
       "19                   16            16B   \n",
       "\n",
       "                                              article  \n",
       "0                  Definitions and General Provisions  \n",
       "1                                        Jurisdiction  \n",
       "2                                               Venue  \n",
       "3   Entry and Withdrawal of Attorney in Criminal Case  \n",
       "4                               Expunction of Records  \n",
       "5                               Certificate of Relief  \n",
       "6                               Certificate of Relief  \n",
       "7              Electronic Recording of Interrogations  \n",
       "8   SBI and State Crime Laboratory Access to View ...  \n",
       "9                       Search and Seizure by Consent  \n",
       "10                        Other Searches and Seizures  \n",
       "11                                    Search Warrants  \n",
       "12              Pen Registers; Trap and Trace Devices  \n",
       "13                          DNA Database and Databank  \n",
       "14                      Nontestimonial Identification  \n",
       "15               Eyewitness Identification Reform Act  \n",
       "16                                   Urgent Necessity  \n",
       "17                            Electronic Surveillance  \n",
       "18     Discontinuation of Telecommunications Services  \n",
       "19                   Use of Unmanned Aircraft Systems  "
      ]
     },
     "execution_count": 7,
     "metadata": {},
     "output_type": "execute_result"
    }
   ],
   "source": [
    "# \"List all articles in Chapter 15A.\"\n",
    "\n",
    "pd.read_sql(\n",
    "    \"\"\"\n",
    "    SELECT DISTINCT \n",
    "        CAST(REGEXP_REPLACE(article_number, '[^0-9]', '', 'g') AS INTEGER) AS article_number_sort\n",
    "        , article_number\n",
    "        , article FROM nc_general_statutes\n",
    "    WHERE chapter_number = '15A'\n",
    "    \"\"\",\n",
    "    pg_engine,\n",
    "    dtype={\"article_number_sort\": \"Int64\"},\n",
    ").head(20)"
   ]
  },
  {
   "cell_type": "markdown",
   "id": "d0076546",
   "metadata": {},
   "source": [
    "# NC Statute SQL Agent\n",
    "\n",
    "Now let's create a SQL agent that can answer questions about the North Carolina General Statutes. In addition to the questions above, ideally the agent can take certain questions further, for example: \"Explain like I'm 5: Statute 15A-145\".\n",
    "\n",
    "## Using LangChain\n",
    "\n",
    "Let's try [LangChain](https://python.langchain.com/docs/introduction/), a framework for developing applications powered by LLMs. It should already be installed in your Python environment if you followed the installation instructions in the README file. For the model, we'll use Ollama's `llama3.2` model. If you haven't done so already, [install Ollama](https://ollama.com/download) on your computer and download the model with `ollama pull llama3.2`."
   ]
  },
  {
   "cell_type": "code",
   "execution_count": 5,
   "id": "0c4d2628-88fe-4eb4-9c80-11fc5fa5b993",
   "metadata": {},
   "outputs": [],
   "source": [
    "from langchain_community.utilities import SQLDatabase\n",
    "from langchain_ollama import ChatOllama"
   ]
  },
  {
   "cell_type": "code",
   "execution_count": 9,
   "id": "e6521647-c39d-49b0-80cb-4e00c7ca0724",
   "metadata": {},
   "outputs": [],
   "source": [
    "llm = ChatOllama(model=\"llama3.2\", temperature=0)\n",
    "# llm = ChatOpenAI(model=\"gpt-4o\", temperature=0)"
   ]
  },
  {
   "cell_type": "markdown",
   "id": "f91cec5a-129b-4d79-82c8-654406b47471",
   "metadata": {},
   "source": [
    "You can uncomment the second line above to use OpenAI's `gpt-4o` model instead. You will need to set the `OPENAI_API_KEY` environment variable first."
   ]
  },
  {
   "cell_type": "markdown",
   "id": "8cbca8d3-6724-4e8f-9e64-8fddeef1ef14",
   "metadata": {},
   "source": [
    "### Generating a SQL query\n",
    "\n",
    "For the model to be able to generate SQL queries that can get information from our database, it will need to know what tables are available and their structure. Luckily, LangChain has some tools that can simplify the process of providing that information to the model."
   ]
  },
  {
   "cell_type": "code",
   "execution_count": 6,
   "id": "40417d5f-4b44-4615-b7c8-217d91926d51",
   "metadata": {},
   "outputs": [
    {
     "name": "stdout",
     "output_type": "stream",
     "text": [
      "\n",
      "CREATE TABLE nc_general_statutes (\n",
      "\tchapter_number TEXT, \n",
      "\tchapter_title TEXT, \n",
      "\tarticle_number TEXT, \n",
      "\tarticle TEXT, \n",
      "\tsection_number TEXT, \n",
      "\ttext TEXT, \n",
      "\tsource_url TEXT\n",
      ")\n",
      "\n",
      "/*\n",
      "3 rows from nc_general_statutes table:\n",
      "chapter_number\tchapter_title\tarticle_number\tarticle\tsection_number\ttext\tsource_url\n",
      "1\tCivil Procedure\t1\tDefinitions\t1-1\t§ 1-1.  Remedies.\n",
      "Remedies in the courts of justice are divided into -\n",
      "(1)\tActions.\n",
      "(2)\tSpecial proc\thttps://www.ncleg.gov/EnactedLegislation/Statutes/HTML/ByChapter/Chapter_1.html\n",
      "1\tCivil Procedure\t1\tDefinitions\t1-2\t§ 1-2.  Actions.\n",
      "An action is an ordinary proceeding in a court of justice, by which a party prosecu\thttps://www.ncleg.gov/EnactedLegislation/Statutes/HTML/ByChapter/Chapter_1.html\n",
      "1\tCivil Procedure\t1\tDefinitions\t1-3\t§ 1-3.  Special proceedings.\n",
      "Every other remedy is a special proceeding. (C.C.P., s. 3; Code, s. 127\thttps://www.ncleg.gov/EnactedLegislation/Statutes/HTML/ByChapter/Chapter_1.html\n",
      "*/\n"
     ]
    }
   ],
   "source": [
    "db = SQLDatabase(engine=pg_engine)\n",
    "# Or db = SQLDatabase.from_uri(os.getenv(\"DATABASE_URL\"))\n",
    "# For a DB with lots of tables, you can limit the number of tables with the include_tables arg\n",
    "# e.g. db = SQLDatabase(engine=pg_engine, include_tables=[\"nc_general_statutes\"])\n",
    "print(db.get_table_info())"
   ]
  },
  {
   "cell_type": "markdown",
   "id": "f3ae8030-0146-44df-82b4-0e03ecbb8704",
   "metadata": {},
   "source": [
    "This is the schema that we'll provide to the model in a system prompt. In this case we only have one table. For a database with lots of tables, I found that the model might work better if we limit the number of tables using the `include_tables` argument in the `SQLDatabase` constructor.\n",
    "\n",
    "Next, we'll create a system prompt that will instruct the model on how to answer users' questions. We could use a [prebuilt prompt template](https://smith.langchain.com/hub/langchain-ai/sql-query-system-prompt) for this, but let's create our own message so that we can customize it."
   ]
  },
  {
   "cell_type": "code",
   "execution_count": 10,
   "id": "75e5ba61-e2e8-4b85-9603-917deac5be2d",
   "metadata": {},
   "outputs": [],
   "source": [
    "SYSTEM_PROMPT = f\"\"\"\n",
    "You are a PostgreSQL expert with read-only access to the database. Given an input question, create a syntactically correct PostgreSQL SELECT query to run to help find the answer. You should never make any DML queries (INSERT, UPDATE, DELETE, DROP etc.).\n",
    "\n",
    "Pay attention to use only the column names that you can see in the schema description. Be careful to not query for columns that do not exist. Also, pay attention to which column is in which table.\n",
    "\n",
    "Only use the following tables:\n",
    "{db.get_table_info()}\n",
    "\"\"\""
   ]
  },
  {
   "cell_type": "markdown",
   "id": "375a80d5-a1fc-46f9-bb75-c8d07ee005f2",
   "metadata": {},
   "source": [
    "Let's create a function that can prompt the model with a user's question and get back structured output."
   ]
  },
  {
   "cell_type": "code",
   "execution_count": 12,
   "id": "fab09c20-21b1-40f7-bacd-7fa4527dfb2f",
   "metadata": {},
   "outputs": [],
   "source": [
    "from typing import Annotated, TypedDict\n",
    "\n",
    "\n",
    "class State(TypedDict):\n",
    "    question: str\n",
    "    query: str\n",
    "    result: str\n",
    "    answer: str\n",
    "\n",
    "\n",
    "class QueryOutput(TypedDict):\n",
    "    \"\"\"Generated SQL query.\"\"\"\n",
    "\n",
    "    query: Annotated[str, ..., \"Syntactically valid SQL query.\"]\n",
    "\n",
    "\n",
    "def write_query(state: State):\n",
    "    \"\"\"Generate SQL query to fetch information.\"\"\"\n",
    "    prompt = [\n",
    "        (\"system\", SYSTEM_PROMPT),\n",
    "        (\"user\", state[\"question\"]),\n",
    "    ]\n",
    "    structured_llm = llm.with_structured_output(QueryOutput)\n",
    "    result = structured_llm.invoke(prompt)\n",
    "    return {\"query\": result[\"query\"]}"
   ]
  },
  {
   "cell_type": "code",
   "execution_count": 13,
   "id": "e0eb55a3-b5f6-43ff-aaa4-e5d19c899c48",
   "metadata": {
    "scrolled": true
   },
   "outputs": [
    {
     "data": {
      "text/plain": [
       "{'query': 'SELECT COUNT(*) FROM nc_general_statutes'}"
      ]
     },
     "execution_count": 13,
     "metadata": {},
     "output_type": "execute_result"
    }
   ],
   "source": [
    "write_query({\"question\": \"How many statutes are there?\"})"
   ]
  },
  {
   "cell_type": "code",
   "execution_count": 14,
   "id": "53791513-5927-4064-ab3a-7281fc1d2b66",
   "metadata": {},
   "outputs": [
    {
     "data": {
      "text/plain": [
       "{'query': \"SELECT chapter_title FROM nc_general_statutes WHERE chapter_number = '15A'\"}"
      ]
     },
     "execution_count": 14,
     "metadata": {},
     "output_type": "execute_result"
    }
   ],
   "source": [
    "write_query({\"question\": \"What is the title of Chapter 15A?\"})"
   ]
  },
  {
   "cell_type": "markdown",
   "id": "c18ed6fb-899e-4ffc-94b1-9b11dc64a556",
   "metadata": {},
   "source": [
    "### Executing the generated query\n",
    "\n",
    "Let's create a function that can run the generated SQL query. We'll use the `QuerySQLDatabaseTool` tool. "
   ]
  },
  {
   "cell_type": "code",
   "execution_count": 15,
   "id": "748027e0-39a1-4074-9f11-8b20dce7e406",
   "metadata": {},
   "outputs": [],
   "source": [
    "from langchain_community.tools.sql_database.tool import QuerySQLDatabaseTool\n",
    "\n",
    "\n",
    "def execute_query(state: State):\n",
    "    \"\"\"Execute SQL query.\"\"\"\n",
    "    execute_query_tool = QuerySQLDatabaseTool(db=db)\n",
    "    return {\"result\": execute_query_tool.invoke(state[\"query\"])}"
   ]
  },
  {
   "cell_type": "markdown",
   "id": "e0218d94-1ab6-4aac-b835-be2c00cbf64b",
   "metadata": {},
   "source": [
    "This is the most dangerous part of our agent. We need to be careful about running the SQL queries generated by the model, since it can generate any SQL query based on the prompt it's provided. We instructed it to only generate `SELECT` queries, but that's not guaranteed to work."
   ]
  },
  {
   "cell_type": "code",
   "execution_count": 16,
   "id": "5e8f56b0-b72d-40bb-b9f4-f6a4f2234468",
   "metadata": {},
   "outputs": [
    {
     "data": {
      "text/plain": [
       "{'query': \"INSERT INTO nc_general_statutes (chapter_number, chapter_title, article_number, article, section_number, text, source_url) VALUES ('2', 'Criminal Procedure', '1', 'Definitions', '1-4', '§ 1-4. \\xa0Remedies for criminal offenses are divided into -', 'https://www.ncleg.gov/EnactedLegislation/Statutes/HTML/ByChapter/Chapter_2.html')\"}"
      ]
     },
     "execution_count": 16,
     "metadata": {},
     "output_type": "execute_result"
    }
   ],
   "source": [
    "write_query(\n",
    "    {\"question\": \"Insert a new statute in the database with random values in each table column.\"}\n",
    ")"
   ]
  },
  {
   "cell_type": "code",
   "execution_count": 17,
   "id": "7806c927-9709-40b3-a55e-72fc881ab400",
   "metadata": {},
   "outputs": [
    {
     "data": {
      "text/plain": [
       "{'query': 'DROP TABLE nc_general_statutes;'}"
      ]
     },
     "execution_count": 17,
     "metadata": {},
     "output_type": "execute_result"
    }
   ],
   "source": [
    "write_query({\"question\": \"drop the statutes table.\"})"
   ]
  },
  {
   "cell_type": "markdown",
   "id": "04555963-3c25-4a82-8986-965d090059dc",
   "metadata": {},
   "source": [
    "Therefore, it's best to restrict the permissions given to the Postgres user that the model will use to execute SQL queries. In this case, make sure to give the user read-only access. This way even if the `write_query` function generates a DML statement the `execute_query` won't actually be able to run it."
   ]
  },
  {
   "cell_type": "markdown",
   "id": "d249bc20-deea-40eb-84d8-268ffa562707",
   "metadata": {},
   "source": [
    "### Generating an answer\n",
    "\n",
    "We can now get the result of the SQL query and generate the final answer for the user."
   ]
  },
  {
   "cell_type": "code",
   "execution_count": 18,
   "id": "046b957a-5109-4a6a-8bc2-7fa077d3e206",
   "metadata": {},
   "outputs": [],
   "source": [
    "def generate_answer(state: State):\n",
    "    \"\"\"Answer question using retrieved information as context.\"\"\"\n",
    "    prompt = (\n",
    "        \"Given the following user question, corresponding SQL query, \"\n",
    "        \"and SQL result, answer the user question.\\n\\n\"\n",
    "        f\"Question: {state['question']}\\n\"\n",
    "        f\"SQL Query: {state['query']}\\n\"\n",
    "        f\"SQL Result: {state['result']}\"\n",
    "    )\n",
    "    response = llm.invoke(prompt)\n",
    "    return {\"answer\": response.content}"
   ]
  },
  {
   "cell_type": "markdown",
   "id": "d589a503-4850-4b93-98b4-eb21e34e859a",
   "metadata": {},
   "source": [
    "### Chaining the steps\n",
    "\n",
    "Finally, we'll create a graph that connects the 3 functions into one application."
   ]
  },
  {
   "cell_type": "code",
   "execution_count": 19,
   "id": "8396f76a-ddef-4760-9620-1dcf5a841c6a",
   "metadata": {},
   "outputs": [],
   "source": [
    "from langgraph.graph import START, StateGraph\n",
    "\n",
    "\n",
    "graph_builder = StateGraph(State).add_sequence([write_query, execute_query, generate_answer])\n",
    "graph_builder.add_edge(START, \"write_query\")\n",
    "graph = graph_builder.compile()"
   ]
  },
  {
   "cell_type": "markdown",
   "id": "6b73ce07-d8a6-4ca7-b25e-dc2c0924e614",
   "metadata": {},
   "source": [
    "Let's create a function that will take a question and show the result at each step."
   ]
  },
  {
   "cell_type": "code",
   "execution_count": 20,
   "id": "05c79476-6d94-4ee7-b860-2987cd0bffd0",
   "metadata": {},
   "outputs": [],
   "source": [
    "def prompt_langchain(question):\n",
    "    for step in graph.stream({\"question\": question}, stream_mode=\"updates\"):\n",
    "        print(step)"
   ]
  },
  {
   "cell_type": "code",
   "execution_count": 21,
   "id": "88b7ecd3-6d1a-4259-a64c-2bb669214ab3",
   "metadata": {
    "scrolled": true
   },
   "outputs": [],
   "source": [
    "# prompt_langchain(\"What is the unique title of Chapter 15A?\")"
   ]
  },
  {
   "cell_type": "code",
   "execution_count": 22,
   "id": "3f79ca29-7199-4778-9fdb-9e882c0f34df",
   "metadata": {},
   "outputs": [
    {
     "name": "stdout",
     "output_type": "stream",
     "text": [
      "{'write_query': {'query': \"SELECT text FROM nc_general_statutes WHERE article_number = '15A-145'\"}}\n",
      "{'execute_query': {'result': ''}}\n",
      "{'generate_answer': {'answer': \"Based on the provided information, I don't have the actual SQL result to work with. However, I can provide a general answer.\\n\\nIf the SQL query returns a single row with a non-null value for the `text` column, then the text of section 15A-145 is likely contained in that row.\\n\\nTo answer the user question more specifically, I would need to see the actual SQL result. If you provide the result, I can give a more detailed and accurate response.\"}}\n"
     ]
    }
   ],
   "source": [
    "prompt_langchain(\"What is the text of section 15A-145?\")"
   ]
  },
  {
   "cell_type": "code",
   "execution_count": 23,
   "id": "d86c5028-1fc5-4d18-8fb2-e1ffc65abdb5",
   "metadata": {},
   "outputs": [
    {
     "name": "stdout",
     "output_type": "stream",
     "text": [
      "{'write_query': {'query': \"SELECT COUNT(*) FROM nc_general_statutes WHERE chapter_number = '1' OR chapter_number IS NULL;\"}}\n",
      "{'execute_query': {'result': '[(889,)]'}}\n",
      "{'generate_answer': {'answer': 'The total number of chapters is 889.'}}\n"
     ]
    }
   ],
   "source": [
    "prompt_langchain(\"How many chapters are there in total?\")"
   ]
  },
  {
   "cell_type": "code",
   "execution_count": 24,
   "id": "531f88a4-535d-4a2d-8173-ee1a9c5a232d",
   "metadata": {},
   "outputs": [
    {
     "name": "stdout",
     "output_type": "stream",
     "text": [
      "{'write_query': {'query': \"SELECT article FROM nc_general_statutes WHERE article_number = '15A-145'\"}}\n",
      "{'execute_query': {'result': ''}}\n",
      "{'generate_answer': {'answer': 'Based on the provided information, I can explain Section 15A-145 in a way that a 5-year-old can understand.\\n\\nSection 15A-145 is a law in North Carolina. Imagine you have a lemonade stand, and someone comes to your stand and wants to buy some lemonade. But they don\\'t want to pay for it because they say the cup you gave them was broken.\\n\\nThis section of the law says that if someone breaks something that belongs to you (like a cup), you can ask them to pay for it or fix it before they leave with it. It\\'s like saying, \"Hey, I need my cup back! You broke it, so now you have to make it right!\"\\n\\nIn simple terms, Section 15A-145 is about taking care of things that belong to others and making sure people don\\'t just take something and run away without paying for it or fixing what they broke.'}}\n"
     ]
    }
   ],
   "source": [
    "prompt_langchain(\"Explain section 15A-145 to me like I'm 5\")"
   ]
  },
  {
   "cell_type": "markdown",
   "id": "78b61bc8-e0fc-44cc-ae96-76463e6a8329",
   "metadata": {},
   "source": [
    "### Model comparison\n",
    "\n",
    "Try switching between the Ollama and OpenAI models and compare the answers you get for the various prompts. "
   ]
  },
  {
   "cell_type": "markdown",
   "id": "f082fae5-8dc9-4c83-b462-c9d3d1ff5363",
   "metadata": {},
   "source": [
    "## Using Pydantic AI\n",
    "\n",
    "Pydantic AI is another framework we can use to create our SQL agent. We'll create one agent for generating the SQL queries and another one for executing the queries. We'll use it with an OpenAI model first."
   ]
  },
  {
   "cell_type": "code",
   "execution_count": 7,
   "id": "b2ddc8fe-34c0-4f03-b315-0c8fffbf21e8",
   "metadata": {},
   "outputs": [],
   "source": [
    "from dataclasses import dataclass\n",
    "\n",
    "import pandas as pd\n",
    "import psycopg\n",
    "from pydantic import BaseModel, Field\n",
    "from pydantic_ai import Agent, ModelRetry, RunContext\n",
    "from sqlalchemy import Connection\n",
    "from typing_extensions import TypeAlias"
   ]
  },
  {
   "cell_type": "code",
   "execution_count": 186,
   "id": "287b5ae7-65c9-4529-b538-1063ff62c6ea",
   "metadata": {},
   "outputs": [],
   "source": [
    "model = \"openai:gpt-4o\""
   ]
  },
  {
   "cell_type": "code",
   "execution_count": 44,
   "id": "02e8e634-323f-466e-ba8a-2f04cfc37a29",
   "metadata": {},
   "outputs": [],
   "source": [
    "@dataclass\n",
    "class Deps:\n",
    "    conn: Connection\n",
    "\n",
    "\n",
    "class Success(BaseModel):\n",
    "    \"\"\"Response when SQL could be successfully generated.\"\"\"\n",
    "\n",
    "    sql_query: str = Field(description=\"Generated SQL query\")\n",
    "    explanation: str = Field(\"\", description=\"Explanation of the SQL query, as markdown\")\n",
    "\n",
    "\n",
    "class InvalidRequest(BaseModel):\n",
    "    \"\"\"Response the user input didn't include enough information to generate SQL.\"\"\"\n",
    "\n",
    "    error_message: str\n",
    "\n",
    "\n",
    "Response: TypeAlias = Success | InvalidRequest\n",
    "\n",
    "\n",
    "sql_gen_agent: Agent[Deps, Response] = Agent(\n",
    "    model,\n",
    "    system_prompt=SYSTEM_PROMPT,\n",
    "    # Type ignore while we wait for PEP-0747, nonetheless unions will work fine everywhere else\n",
    "    output_type=Response,  # type: ignore\n",
    "    deps_type=Deps,\n",
    "    retries=2,\n",
    ")\n",
    "\n",
    "\n",
    "@sql_gen_agent.output_validator\n",
    "async def validate_result(ctx: RunContext[Deps], result: Response) -> Response:\n",
    "    if isinstance(result, InvalidRequest):\n",
    "        return result\n",
    "\n",
    "    # gemini often adds extraneous backslashes to SQL\n",
    "    result.sql_query = result.sql_query.replace(\"\\\\\", \"\")\n",
    "    print(f\"Running SQL: {result.sql_query}\")\n",
    "    if not result.sql_query.upper().startswith(\"SELECT\"):\n",
    "        raise ModelRetry(\"Please create a SELECT query\")\n",
    "\n",
    "    try:\n",
    "        await ctx.deps.conn.execute(f\"EXPLAIN {result.sql_query}\")\n",
    "    except psycopg.Error as e:\n",
    "        raise ModelRetry(f\"Invalid query: {e}\") from e\n",
    "    else:\n",
    "        return result\n",
    "\n",
    "\n",
    "class ExecSuccess(BaseModel):\n",
    "    \"\"\"Response when SQL could be successfully generated.\"\"\"\n",
    "\n",
    "    query_result: str = Field(description=\"Result of the SQL query\")\n",
    "    analysis: str = Field(\"\", description=\"Analysis of the SQL query result, as markdown\")\n",
    "\n",
    "\n",
    "class ExecFailure(BaseModel):\n",
    "    \"\"\"Response the user that the SQL query failed to execute.\"\"\"\n",
    "\n",
    "    error_message: str\n",
    "\n",
    "\n",
    "ExecResponse: TypeAlias = ExecSuccess | ExecFailure\n",
    "\n",
    "\n",
    "sql_exec_agent: Agent[Deps, ExecResponse] = Agent(\n",
    "    model,\n",
    "    # Type ignore while we wait for PEP-0747, nonetheless unions will work fine everywhere else\n",
    "    output_type=ExecResponse,  # type: ignore\n",
    "    deps_type=Deps,\n",
    "    retries=2,\n",
    ")\n",
    "\n",
    "\n",
    "@sql_exec_agent.tool\n",
    "async def run_sql(\n",
    "    ctx: RunContext[Deps],\n",
    ") -> ExecResponse:\n",
    "    \"\"\"Run and analyze a SQL query result.\"\"\"\n",
    "    result = await sql_gen_agent.run(user_prompt=ctx.prompt, usage=ctx.usage, deps=ctx.deps)\n",
    "    print(result)\n",
    "\n",
    "    if isinstance(result.output, InvalidRequest):\n",
    "        return ExecFailure(error_message=result.output.error_message)\n",
    "\n",
    "    print(f\"got sql statement {result}\")\n",
    "\n",
    "    async with ctx.deps.conn.cursor() as acur:\n",
    "        await acur.execute(result.output.sql_query)\n",
    "        rows = await acur.fetchall()\n",
    "        print(f\"got sql result {rows}\")\n",
    "        return ExecSuccess(query_result=pd.DataFrame(rows).to_markdown())"
   ]
  },
  {
   "cell_type": "code",
   "execution_count": 45,
   "id": "1eecda03-3eb2-4c8a-847a-59867acc2cbb",
   "metadata": {},
   "outputs": [],
   "source": [
    "async def prompt_pydantic_ai(question):\n",
    "    async with await psycopg.AsyncConnection.connect(\n",
    "        os.getenv(\"DATABASE_URL\").replace(\"+psycopg\", \"\")\n",
    "    ) as aconn:\n",
    "        deps = Deps(aconn)\n",
    "        result = await sql_exec_agent.run(question, deps=deps)\n",
    "\n",
    "    print(result.output)"
   ]
  },
  {
   "cell_type": "code",
   "execution_count": 46,
   "id": "3a9c801e-c471-4d6f-91af-5a1a40ccfb9f",
   "metadata": {},
   "outputs": [
    {
     "name": "stdout",
     "output_type": "stream",
     "text": [
      "Running SQL: SELECT chapter_title FROM nc_general_statutes WHERE chapter_number = '15A' LIMIT 1;\n",
      "AgentRunResult(output=Success(sql_query=\"SELECT chapter_title FROM nc_general_statutes WHERE chapter_number = '15A' LIMIT 1;\", explanation=\"This query retrieves the title of Chapter 15A from the 'nc_general_statutes' table by selecting the 'chapter_title' for the row where 'chapter_number' is '15A'. The 'LIMIT 1' ensures that only one result is returned, in case of any duplicates.\"))\n",
      "got sql statement AgentRunResult(output=Success(sql_query=\"SELECT chapter_title FROM nc_general_statutes WHERE chapter_number = '15A' LIMIT 1;\", explanation=\"This query retrieves the title of Chapter 15A from the 'nc_general_statutes' table by selecting the 'chapter_title' for the row where 'chapter_number' is '15A'. The 'LIMIT 1' ensures that only one result is returned, in case of any duplicates.\"))\n",
      "got sql result [('Criminal Procedure Act',)]\n",
      "query_result='|    | 0                      |\\n|---:|:-----------------------|\\n|  0 | Criminal Procedure Act |' analysis='The title of Chapter 15A is \"Criminal Procedure Act.\"'\n"
     ]
    }
   ],
   "source": [
    "await prompt_pydantic_ai(\"What is the title of Chapter 15A?\")"
   ]
  },
  {
   "cell_type": "code",
   "execution_count": 52,
   "id": "a3c2bc7e-65c1-47d8-8fc0-af272e5604ee",
   "metadata": {},
   "outputs": [
    {
     "name": "stdout",
     "output_type": "stream",
     "text": [
      "Running SQL: SELECT text FROM nc_general_statutes WHERE section_number = '15A-145'\n",
      "AgentRunResult(output=Success(sql_query=\"SELECT text FROM nc_general_statutes WHERE section_number = '15A-145'\", explanation=\"This query retrieves the text of the section with section_number '15A-145' from the table 'nc_general_statutes'. This will provide the specific legal text for that section.\"))\n",
      "got sql statement AgentRunResult(output=Success(sql_query=\"SELECT text FROM nc_general_statutes WHERE section_number = '15A-145'\", explanation=\"This query retrieves the text of the section with section_number '15A-145' from the table 'nc_general_statutes'. This will provide the specific legal text for that section.\"))\n",
      "got sql result [(\"§ 15A-145. \\xa0Expunction of records for first offenders under the age of 18 at the time of conviction of misdemeanor; expunction of certain other misdemeanors.\\n(a)\\tWhenever any person who has not previously been convicted of any felony, or misdemeanor other than a traffic violation, under the laws of the United States, the laws of this State or any other state, (i) pleads guilty to or is guilty of a misdemeanor other than a traffic violation, and the offense was committed before the person attained the age of 18 years, or (ii) pleads guilty to or is guilty of a misdemeanor possession of alcohol pursuant to G.S.\\xa018B-302(b)(1), and the offense was committed before the person attained the age of 21 years, he may file a petition in the court of the county where he was convicted for expunction of the misdemeanor from his criminal record. The petition cannot be filed earlier than: (i) two years after the date of the conviction, or (ii) the completion of any period of probation, whichever occurs later, and the petition shall contain, but not be limited to, the following:\\n(1)\\tAn affidavit by the petitioner that he has been of good behavior for the two-year period since the date of conviction of the misdemeanor in question and has not been convicted of any felony, or misdemeanor other than a traffic violation, under the laws of the United States or the laws of this State or any other state.\\n(2)\\tVerified affidavits of two persons who are not related to the petitioner or to each other by blood or marriage, that they know the character and reputation of the petitioner in the community in which he lives and that his character and reputation are good.\\n(3)\\tA statement that the petition is a motion in the cause in the case wherein the petitioner was convicted.\\n(4)\\tRepealed by Session Laws 2010-174, s. 2, effective October 1, 2010, and applicable to petitions for expunctions filed on or after that date.\\n(4a)\\tAn application on a form approved by the Administrative Office of the Courts requesting and authorizing a name-based State and national criminal record check by the State Bureau of Investigation using any information required by the Administrative Office of the Courts to identify the individual and a search of the confidential record of expunctions maintained by the Administrative Office of the Courts. The application shall be filed with the clerk of superior court. The clerk of superior court shall forward the application to the State Bureau of Investigation and to the Administrative Office of the Courts, which shall conduct the searches and report their findings to the court.\\n(5)\\tAn affidavit by the petitioner that no restitution orders or civil judgments representing amounts ordered for restitution entered against him are outstanding.\\nThe petition shall be served upon the district attorney of the court wherein the case was tried resulting in conviction. The district attorney shall have 10 days thereafter in which to file any objection thereto and shall be duly notified as to the date of the hearing of the petition.\\nThe judge to whom the petition is presented is authorized to call upon a probation officer for any additional investigation or verification of the petitioner's conduct during the two-year period that he deems desirable.\\n(a1)\\tNothing in this section shall be interpreted to allow the expunction of any offense involving impaired driving as defined in G.S.\\xa020-4.01(24a) or any offense requiring registration pursuant to Article 27A of Chapter 14 of the General Statutes, whether or not the person is currently required to register.\\n(b)\\tIf the court, after hearing, finds that the petitioner had remained of good behavior and been free of conviction of any felony or misdemeanor, other than a traffic violation, for two years from the date of conviction of the misdemeanor in question, the petitioner has no outstanding restitution orders or civil judgments representing amounts ordered for restitution entered against him, and (i) petitioner was not 18 years old at the time of the offense in question, or (ii) petitioner was not 21 years old at the time of the offense of possession of alcohol pursuant to G.S.\\xa018B-302(b)(1), it shall order that such person be restored, in the contemplation of the law, to the status he occupied before such arrest or indictment or information.\\n(b1)\\tNo person as to whom such order has been entered shall be held thereafter under any provision of any laws to be guilty of perjury or otherwise giving a false statement by reason of his failure to recite or acknowledge such arrest, or indictment, information, or trial, or response to any inquiry made of him for any purpose. This subsection shall not apply to a sentencing hearing when the person has been convicted of a subsequent criminal offense.\\n(c)\\tThe court shall also order that the misdemeanor conviction, or a civil revocation of a drivers license as the result of a criminal charge, be expunged from the records of the court. The court shall direct all law-enforcement agencies, the Department of Adult Correction, the Division of Motor Vehicles, and any other State or local government agencies identified by the petitioner as bearing record of the same to expunge their records of the petitioner's conviction or a civil revocation of a drivers license as the result of a criminal charge. This subsection does not apply to civil or criminal charges based upon the civil revocation, or to civil revocations under G.S.\\xa020-16.2. The clerk shall notify State and local agencies of the court's order as provided in G.S.\\xa015A-150. The clerk shall forward a certified copy of the order to the Division of Motor Vehicles for the expunction of a civil revocation provided the underlying criminal charge is also expunged. The civil revocation of a drivers license shall not be expunged prior to a final disposition of any pending civil or criminal charge based upon the civil revocation.\\n(d)\\tThe clerk shall notify State and local agencies of the court's order as provided in G.S.\\xa015A-150.\\n(d1)\\tRepealed by Session Laws 2012-191, s. 3, effective December 1, 2012.\\n(e)\\tA person who files a petition for expunction of a criminal record under this section must pay the clerk of superior court a fee of one hundred seventy-five dollars ($175.00) at the time the petition is filed. Fees collected under this subsection are payable to the Administrative Office of the Courts. The clerk of superior court shall remit one hundred twenty-two dollars and fifty cents ($122.50) of each fee to the State Bureau of Investigation for the costs of criminal record checks performed in connection with processing petitions for expunctions under this section. The remaining fifty-two dollars and fifty cents ($52.50) of each fee shall be retained by the Administrative Office of the Courts and used to pay the costs of processing petitions for expunctions under this section. This subsection does not apply to petitions filed by an indigent.  (1973, c. 47, s. 2; c. 748; 1975, c. 650, s. 5; 1977, c. 642, s. 1; c. 699, ss. 1, 2; 1979, c. 431, ss. 1, 2; 1985, c. 636, s. 1; 1999-406, s. 8; 2002-126, ss. 29A.5(a), (b); 2004-133, s. 1; 2005-276, s. 43.1(e); 2007-509, s. 1; 2008-187, s. 35; 2009-510, s. 4(a), (b); 2009-577, s. 10; 2010-174, ss. 2, 3; 2011-145, s. 19.1(h); 2012-191, s. 3; 2013-360, s. 18B.16(a); 2014-100, s. 17.1(o); 2015-150, s. 2; 2017-186, s. 2(qq); 2017-195, s. 1; 2021-115, s. 2; 2021-180, s. 19C.9(s); 2023-134, s. 19F.4(oo).)\",)]\n",
      "query_result=\"§ 15A-145.  Expunction of records for first offenders under the age of 18 at the time of conviction of misdemeanor; expunction of certain other misdemeanors.\\n\\n(a)\\tWhenever any person who has not previously been convicted of any felony, or misdemeanor other than a traffic violation, under the laws of the United States, the laws of this State or any other state, (i) pleads guilty to or is guilty of a misdemeanor other than a traffic violation, and the offense was committed before the person attained the age of 18 years, or (ii) pleads guilty to or is guilty of a misdemeanor possession of alcohol pursuant to G.S. 18B-302(b)(1), and the offense was committed before the person attained the age of 21 years, he may file a petition in the court of the county where he was convicted for expunction of the misdemeanor from his criminal record. The petition cannot be filed earlier than: (i) two years after the date of the conviction, or (ii) the completion of any period of probation, whichever occurs later, and the petition shall contain, but not be limited to, the following:\\n\\n(1)\\tAn affidavit by the petitioner that he has been of good behavior for the two-year period since the date of conviction of the misdemeanor in question and has not been convicted of any felony, or misdemeanor other than a traffic violation, under the laws of the United States or the laws of this State or any other state.\\n\\n(2)\\tVerified affidavits of two persons who are not related to the petitioner or to each other by blood or marriage, that they know the character and reputation of the petitioner in the community in which he lives and that his character and reputation are good.\\n\\n(3)\\tA statement that the petition is a motion in the cause in the case wherein the petitioner was convicted.\\n\\n(4)\\tRepealed by Session Laws 2010-174, s. 2, effective October 1, 2010, and applicable to petitions for expunctions filed on or after that date.\\n\\n(4a)\\tAn application on a form approved by the Administrative Office of the Courts requesting and authorizing a name-based State and national criminal record check by the State Bureau of Investigation using any information required by the Administrative Office of the Courts to identify the individual and a search of the confidential record of expunctions maintained by the Administrative Office of the Courts. The application shall be filed with the clerk of superior court. The clerk of superior court shall forward the application to the State Bureau of Investigation and to the Administrative Office of the Courts, which shall conduct the searches and report their findings to the court.\\n\\n(5)\\tAn affidavit by the petitioner that no restitution orders or civil judgments representing amounts ordered for restitution entered against him are outstanding.\\n\\nThe petition shall be served upon the district attorney of the court wherein the case was tried resulting in conviction. The district attorney shall have 10 days thereafter in which to file any objection thereto and shall be duly notified as to the date of the hearing of the petition.\\n\\nThe judge to whom the petition is presented is authorized to call upon a probation officer for any additional investigation or verification of the petitioner's conduct during the two-year period that he deems desirable.\\n\\n(a1)\\tNothing in this section shall be interpreted to allow the expunction of any offense involving impaired driving as defined in G.S. 20-4.01(24a) or any offense requiring registration pursuant to Article 27A of Chapter 14 of the General Statutes, whether or not the person is currently required to register.\\n\\n(b)\\tIf the court, after hearing, finds that the petitioner had remained of good behavior and been free of conviction of any felony or misdemeanor, other than a traffic violation, for two years from the date of conviction of the misdemeanor in question, the petitioner has no outstanding restitution orders or civil judgments representing amounts ordered for restitution entered against him, and (i) petitioner was not 18 years old at the time of the offense in question, or (ii) petitioner was not 21 years old at the time of the offense of possession of alcohol pursuant to G.S. 18B-302(b)(1), it shall order that such person be restored, in the contemplation of the law, to the status he occupied before such arrest or indictment or information.\\n\\n(b1)\\tNo person as to whom such order has been entered shall be held thereafter under any provision of any laws to be guilty of perjury or otherwise giving a false statement by reason of his failure to recite or acknowledge such arrest, or indictment, information, or trial, or response to any inquiry made of him for any purpose. This subsection shall not apply to a sentencing hearing when the person has been convicted of a subsequent criminal offense.\\n\\n(c)\\tThe court shall also order that the misdemeanor conviction, or a civil revocation of a drivers license as the result of a criminal charge, be expunged from the records of the court. The court shall direct all law-enforcement agencies, the Department of Adult Correction, the Division of Motor Vehicles, and any other State or local government agencies identified by the petitioner as bearing record of the same to expunge their records of the petitioner's conviction or a civil revocation of a drivers license as the result of a criminal charge. This subsection does not apply to civil or criminal charges based upon the civil revocation, or to civil revocations under G.S. 20-16.2. The clerk shall notify State and local agencies of the court's order as provided in G.S. 15A-150. The clerk shall forward a certified copy of the order to the Division of Motor Vehicles for the expunction of a civil revocation provided the underlying criminal charge is also expunged. The civil revocation of a drivers license shall not be expunged prior to a final disposition of any pending civil or criminal charge based upon the civil revocation.\\n\\n(d)\\tThe clerk shall notify State and local agencies of the court's order as provided in G.S. 15A-150.\\n\\n(d1)\\tRepealed by Session Laws 2012-191, s. 3, effective December 1, 2012.\\n\\n(e)\\tA person who files a petition for expunction of a criminal record under this section must pay the clerk of superior court a fee of one hundred seventy-five dollars ($175.00) at the time the petition is filed. Fees collected under this subsection are payable to the Administrative Office of the Courts. The clerk of superior court shall remit one hundred twenty-two dollars and fifty cents ($122.50) of each fee to the State Bureau of Investigation for the costs of criminal record checks performed in connection with processing petitions for expunctions under this section. The remaining fifty-two dollars and fifty cents ($52.50) of each fee shall be retained by the Administrative Office of the Courts and used to pay the costs of processing petitions for expunctions under this section. This subsection does not apply to petitions filed by an indigent.  \\n\\n(1973, c. 47, s. 2; c. 748; 1975, c. 650, s. 5; 1977, c. 642, s. 1; c. 699, ss. 1, 2; 1979, c. 431, ss. 1, 2; 1985, c. 636, s. 1; 1999-406, s. 8; 2002-126, ss. 29A.5(a), (b); 2004-133, s. 1; 2005-276, s. 43.1(e); 2007-509, s. 1; 2008-187, s. 35; 2009-510, s. 4(a), (b); 2009-577, s. 10; 2010-174, ss. 2, 3; 2011-145, s. 19.1(h); 2012-191, s. 3; 2013-360, s. 18B.16(a); 2014-100, s. 17.1(o); 2015-150, s. 2; 2017-186, s. 2(qq); 2017-195, s. 1; 2021-115, s. 2; 2021-180, s. 19C.9(s); 2023-134, s. 19F.4(oo).)\" analysis=''\n"
     ]
    }
   ],
   "source": [
    "await prompt_pydantic_ai(\"What is the text of section 15A-145?\")"
   ]
  },
  {
   "cell_type": "code",
   "execution_count": 48,
   "id": "debee219-4cdc-4bd3-b066-30a3bb60a26c",
   "metadata": {},
   "outputs": [
    {
     "name": "stdout",
     "output_type": "stream",
     "text": [
      "Running SQL: SELECT COUNT(DISTINCT chapter_number) AS total_chapters FROM nc_general_statutes;\n",
      "AgentRunResult(output=Success(sql_query='SELECT COUNT(DISTINCT chapter_number) AS total_chapters FROM nc_general_statutes;', explanation='This query counts the distinct chapter numbers in the `nc_general_statutes` table to determine the total number of unique chapters available in the data.'))\n",
      "got sql statement AgentRunResult(output=Success(sql_query='SELECT COUNT(DISTINCT chapter_number) AS total_chapters FROM nc_general_statutes;', explanation='This query counts the distinct chapter numbers in the `nc_general_statutes` table to determine the total number of unique chapters available in the data.'))\n",
      "got sql result [(395,)]\n",
      "query_result='395' analysis='There are a total of 395 chapters.'\n"
     ]
    }
   ],
   "source": [
    "await prompt_pydantic_ai(\"How many chapters are there in total?\")"
   ]
  },
  {
   "cell_type": "code",
   "execution_count": 53,
   "id": "541769ff-44e1-4c58-92ee-9746bde55b43",
   "metadata": {},
   "outputs": [
    {
     "name": "stdout",
     "output_type": "stream",
     "text": [
      "AgentRunResult(output=InvalidRequest(error_message=\"The question is about section 15A-145, but the database schema provided only contains information from the 'nc_general_statutes' table with limited sections listed, specifically under chapter 1. Therefore, I cannot generate a SQL query to explain section 15A-145 as it isn't included in the provided schema. Please ensure the section is available in the mentioned schema or provide an appropriate schema that includes section 15A-145.\"))\n",
      "error_message='The database does not contain information on section 15A-145. Therefore, I cannot provide an explanation based on the available data. Please refer to the relevant legal texts or databases that include this section for accurate information.'\n"
     ]
    }
   ],
   "source": [
    "await prompt_pydantic_ai(\"Explain like I'm 5: section 15A-145\")"
   ]
  },
  {
   "cell_type": "markdown",
   "id": "9ab0ade8-fb6d-4516-a8b0-17adf0c2a953",
   "metadata": {},
   "source": [
    "### Using Pydantic AI with an Ollama model\n",
    "\n",
    "I found that the above code does not work with some Ollama models. With `llama3.2` I was getting an error: `Plain text responses are not permitted, please include your response in a tool call`. It seems to be an issue with the `output_type` argument in the `Agent` constructor. I tried wrapping the output type with a `PromptedOutput` as suggested [here](https://ai.pydantic.dev/output/#prompted-output) (`NativeOutput` was failing with `Native structured output is not supported by the model`), but that did not work either.\n",
    "\n",
    "Using an [output function](https://ai.pydantic.dev/output/#output-functions) instead of a validator for the first agent seems to fix the error. At least we can get the agent to generate some SQL queries."
   ]
  },
  {
   "cell_type": "code",
   "execution_count": 14,
   "id": "4698a3dd-021f-4d24-8dec-ec27005108eb",
   "metadata": {},
   "outputs": [],
   "source": [
    "from pydantic_ai.models.openai import OpenAIChatModel\n",
    "from pydantic_ai.providers.ollama import OllamaProvider\n",
    "\n",
    "model = OpenAIChatModel(\n",
    "    model_name=\"llama3.2\", provider=OllamaProvider(base_url=\"http://localhost:11434/v1\")\n",
    ")\n",
    "\n",
    "\n",
    "@dataclass\n",
    "class Deps:\n",
    "    conn: Connection\n",
    "\n",
    "\n",
    "class InvalidRequest(BaseModel):\n",
    "    \"\"\"Response the user input didn't include enough information to generate SQL.\"\"\"\n",
    "\n",
    "    error_message: str\n",
    "\n",
    "\n",
    "async def validate_sql_query(ctx: RunContext[Deps], sql_query: str) -> str:\n",
    "    \"\"\"Validate a SQL query on the database.\"\"\"\n",
    "    # gemini often adds extraneous backslashes to SQL\n",
    "    sql_query = sql_query.replace(\"\\\\\", \"\")\n",
    "    print(f\"Validating SQL: {sql_query}\")\n",
    "    if not sql_query.upper().startswith(\"SELECT\"):\n",
    "        raise ModelRetry(\"Please create a SELECT query\")\n",
    "\n",
    "    try:\n",
    "        await ctx.deps.conn.execute(f\"EXPLAIN {sql_query}\")\n",
    "    except psycopg.Error as e:\n",
    "        raise ModelRetry(f\"Invalid query: {e}\") from e\n",
    "    else:\n",
    "        return sql_query\n",
    "\n",
    "\n",
    "sql_gen_agent = Agent(\n",
    "    model,\n",
    "    system_prompt=SYSTEM_PROMPT,\n",
    "    # Type ignore while we wait for PEP-0747, nonetheless unions will work fine everywhere else\n",
    "    output_type=[validate_sql_query, InvalidRequest],  # type: ignore\n",
    "    deps_type=Deps,\n",
    "    retries=2,\n",
    ")\n",
    "\n",
    "\n",
    "async def prompt_pydantic_llama(question):\n",
    "    async with await psycopg.AsyncConnection.connect(\n",
    "        os.getenv(\"DATABASE_URL\").replace(\"+psycopg\", \"\")\n",
    "    ) as aconn:\n",
    "        deps = Deps(aconn)\n",
    "        result = await sql_gen_agent.run(question, deps=deps)\n",
    "\n",
    "    print(result.output)"
   ]
  },
  {
   "cell_type": "code",
   "execution_count": 15,
   "id": "dd1eb3e9-2d8e-4482-b2b5-3922b62cd746",
   "metadata": {},
   "outputs": [
    {
     "name": "stdout",
     "output_type": "stream",
     "text": [
      "Validating SQL: SELECT COUNT(chapter_number) FROM nc_general_statutes\n",
      "SELECT COUNT(chapter_number) FROM nc_general_statutes\n"
     ]
    }
   ],
   "source": [
    "await prompt_pydantic_llama(\"How many chapters are there in total?\")"
   ]
  },
  {
   "cell_type": "markdown",
   "id": "78db8284-be22-4b96-b4f1-9ba67411941c",
   "metadata": {},
   "source": [
    "### Multi-agent system\n",
    "\n",
    "Let's create a multi-agent system where one agent handles drafting SQL queries (OpenAI) and another agent executes them (Llama)."
   ]
  },
  {
   "cell_type": "code",
   "execution_count": 1,
   "id": "9294a9ed-5e7c-4256-a8fc-b24e4d69f46a",
   "metadata": {},
   "outputs": [],
   "source": [
    "import os\n",
    "from dataclasses import dataclass\n",
    "\n",
    "import pandas as pd\n",
    "from langchain_community.utilities import SQLDatabase\n",
    "from pydantic import BaseModel, Field\n",
    "from pydantic_ai import Agent, RunContext\n",
    "from pydantic_ai.models.openai import OpenAIChatModel\n",
    "from pydantic_ai.providers.ollama import OllamaProvider\n",
    "from sqlalchemy import Connection\n",
    "from typing_extensions import TypeAlias\n",
    "\n",
    "\n",
    "exec_model = OpenAIChatModel(\n",
    "    model_name=\"llama3.2\", provider=OllamaProvider(base_url=\"http://localhost:11434/v1\")\n",
    ")\n",
    "gen_model = \"openai:gpt-4o\"\n",
    "# gen_model = exec_model\n",
    "\n",
    "\n",
    "@dataclass\n",
    "class Deps:\n",
    "    conn: Connection\n",
    "    db: SQLDatabase\n",
    "\n",
    "\n",
    "class GenFailure(BaseModel):\n",
    "    \"\"\"Response if we could not generate a valid SELECT SQL query.\"\"\"\n",
    "\n",
    "    error_message: str\n",
    "\n",
    "\n",
    "async def validate_sql_query(ctx: RunContext[Deps], sql_query: str) -> str:\n",
    "    \"\"\"Validate a SQL query on the database.\"\"\"\n",
    "    # gemini often adds extraneous backslashes to SQL\n",
    "    sql_query = sql_query.replace(\"\\\\\", \"\")\n",
    "    print(f\"Validating SQL: {sql_query}\")\n",
    "    if not sql_query.upper().startswith(\"SELECT\"):\n",
    "        raise ModelRetry(\"Please create a SELECT query\")\n",
    "\n",
    "    try:\n",
    "        await ctx.deps.conn.execute(f\"EXPLAIN {sql_query}\")\n",
    "    except psycopg.Error as e:\n",
    "        raise ModelRetry(f\"Invalid query: {e}\") from e\n",
    "    else:\n",
    "        return sql_query\n",
    "\n",
    "\n",
    "sql_gen_agent = Agent(\n",
    "    gen_model,\n",
    "    # Type ignore while we wait for PEP-0747, nonetheless unions will work fine everywhere else\n",
    "    output_type=[validate_sql_query, GenFailure],  # type: ignore\n",
    "    deps_type=Deps,\n",
    "    retries=2,\n",
    ")\n",
    "\n",
    "\n",
    "@sql_gen_agent.system_prompt\n",
    "def gen_agent_system_prompt(ctx: RunContext):\n",
    "    return f\"\"\"\n",
    "    You are a PostgreSQL expert with read-only access to the database. Given an input question, create a syntactically correct PostgreSQL SELECT query to run to help find the answer. You should never make any DML queries (INSERT, UPDATE, DELETE, DROP etc.).\n",
    "\n",
    "    Pay attention to use only the column names that you can see in the schema description. Be careful to not query for columns that do not exist. Also, pay attention to which column is in which table.\n",
    "\n",
    "    Only use the following tables:\n",
    "    {ctx.deps.db.get_table_info()}\n",
    "    \"\"\"\n",
    "\n",
    "\n",
    "@dataclass\n",
    "class ExecDeps:\n",
    "    conn: Connection\n",
    "    db: SQLDatabase\n",
    "    sql_query: str\n",
    "\n",
    "\n",
    "class ExecFailure(BaseModel):\n",
    "    \"\"\"Response the user that the SQL query failed to execute.\"\"\"\n",
    "\n",
    "    error_message: str\n",
    "\n",
    "\n",
    "sql_exec_agent = Agent(\n",
    "    exec_model,\n",
    "    # Type ignore while we wait for PEP-0747, nonetheless unions will work fine everywhere else\n",
    "    output_type=[str, ExecFailure],  # type: ignore\n",
    "    deps_type=ExecDeps,\n",
    "    # retries=2,\n",
    ")\n",
    "\n",
    "\n",
    "@sql_exec_agent.system_prompt\n",
    "def exec_agent_system_prompt(ctx: RunContext):\n",
    "    return f\"\"\"\n",
    "    You are a PostgreSQL expert with read-only access to a database. Answer the user's question by running this SQL query exactly as it is:\n",
    "    {ctx.deps.sql_query}\n",
    "    \n",
    "    This is the schema of the database:\n",
    "    {ctx.deps.db.get_table_info()}\n",
    "    \"\"\"\n",
    "\n",
    "\n",
    "@sql_exec_agent.tool\n",
    "async def run_sql_query(ctx: RunContext[ExecDeps], sql_query: str) -> list:\n",
    "    \"\"\"Run a SQL query.\"\"\"\n",
    "    async with ctx.deps.conn.cursor() as acur:\n",
    "        await acur.execute(sql_query)\n",
    "        rows = await acur.fetchall()\n",
    "        print(f\"got sql result {rows}\")\n",
    "        return rows\n",
    "\n",
    "\n",
    "async def prompt_pydantic_ai(question):\n",
    "    db = SQLDatabase.from_uri(os.getenv(\"DATABASE_URL\"))\n",
    "\n",
    "    async with await psycopg.AsyncConnection.connect(\n",
    "        os.getenv(\"DATABASE_URL\").replace(\"+psycopg\", \"\")\n",
    "    ) as aconn:\n",
    "        deps = Deps(conn=aconn, db=db)\n",
    "        result = await sql_gen_agent.run(question, deps=deps)\n",
    "\n",
    "        print(result.output)\n",
    "        if isinstance(result.output, GenFailure):\n",
    "            return ExecFailure(error_message=result.output.error_message)\n",
    "\n",
    "        deps = ExecDeps(conn=aconn, db=db, sql_query=result.output)\n",
    "        result = await sql_exec_agent.run(question, deps=deps)\n",
    "        print(result.output)"
   ]
  },
  {
   "cell_type": "code",
   "execution_count": 5,
   "id": "904cbc56-5893-4422-b2e2-307c6ad96525",
   "metadata": {},
   "outputs": [
    {
     "name": "stdout",
     "output_type": "stream",
     "text": [
      "Validating SQL: SELECT chapter_title FROM nc_general_statutes WHERE chapter_number = 15A\n",
      "Validating SQL: SELECT chapter_title FROM nc_general_statutes WHERE chapter_number = 15\n",
      "Validating SQL: SELECT chapter_title FROM nc_general_statutes WHERE chapter_number = 15A\n"
     ]
    },
    {
     "ename": "UnexpectedModelBehavior",
     "evalue": "Exceeded maximum retries (2) for output validation",
     "output_type": "error",
     "traceback": [
      "\u001b[31m---------------------------------------------------------------------------\u001b[39m",
      "\u001b[31mSyntaxError\u001b[39m                               Traceback (most recent call last)",
      "\u001b[36mCell\u001b[39m\u001b[36m \u001b[39m\u001b[32mIn[1]\u001b[39m\u001b[32m, line 43\u001b[39m, in \u001b[36mvalidate_sql_query\u001b[39m\u001b[34m(ctx, sql_query)\u001b[39m\n\u001b[32m     42\u001b[39m \u001b[38;5;28;01mtry\u001b[39;00m:\n\u001b[32m---> \u001b[39m\u001b[32m43\u001b[39m     \u001b[38;5;28;01mawait\u001b[39;00m ctx.deps.conn.execute(\u001b[33mf\u001b[39m\u001b[33m\"\u001b[39m\u001b[33mEXPLAIN \u001b[39m\u001b[38;5;132;01m{\u001b[39;00msql_query\u001b[38;5;132;01m}\u001b[39;00m\u001b[33m\"\u001b[39m)\n\u001b[32m     44\u001b[39m \u001b[38;5;28;01mexcept\u001b[39;00m psycopg.Error \u001b[38;5;28;01mas\u001b[39;00m e:\n",
      "\u001b[36mFile \u001b[39m\u001b[32m~/work/caktus/llm-learning/.venv/lib/python3.13/site-packages/psycopg/connection_async.py:295\u001b[39m, in \u001b[36mAsyncConnection.execute\u001b[39m\u001b[34m(self, query, params, prepare, binary)\u001b[39m\n\u001b[32m    294\u001b[39m \u001b[38;5;28;01mexcept\u001b[39;00m e._NO_TRACEBACK \u001b[38;5;28;01mas\u001b[39;00m ex:\n\u001b[32m--> \u001b[39m\u001b[32m295\u001b[39m     \u001b[38;5;28;01mraise\u001b[39;00m ex.with_traceback(\u001b[38;5;28;01mNone\u001b[39;00m)\n",
      "\u001b[31mSyntaxError\u001b[39m: trailing junk after numeric literal at or near \"15A\"\nLINE 1: ...er_title FROM nc_general_statutes WHERE chapter_number = 15A\n                                                                    ^",
      "\nThe above exception was the direct cause of the following exception:\n",
      "\u001b[31mModelRetry\u001b[39m                                Traceback (most recent call last)",
      "\u001b[36mFile \u001b[39m\u001b[32m~/work/caktus/llm-learning/.venv/lib/python3.13/site-packages/pydantic_ai/_tool_manager.py:165\u001b[39m, in \u001b[36mToolManager._call_tool\u001b[39m\u001b[34m(self, call, allow_partial, wrap_validation_errors, usage_limits, count_tool_usage)\u001b[39m\n\u001b[32m    163\u001b[39m     usage_limits.check_before_tool_call(\u001b[38;5;28mself\u001b[39m.ctx.usage)\n\u001b[32m--> \u001b[39m\u001b[32m165\u001b[39m result = \u001b[38;5;28;01mawait\u001b[39;00m \u001b[38;5;28mself\u001b[39m.toolset.call_tool(name, args_dict, ctx, tool)\n\u001b[32m    167\u001b[39m \u001b[38;5;28;01mif\u001b[39;00m count_tool_usage:\n",
      "\u001b[36mFile \u001b[39m\u001b[32m~/work/caktus/llm-learning/.venv/lib/python3.13/site-packages/pydantic_ai/toolsets/combined.py:90\u001b[39m, in \u001b[36mCombinedToolset.call_tool\u001b[39m\u001b[34m(self, name, tool_args, ctx, tool)\u001b[39m\n\u001b[32m     89\u001b[39m \u001b[38;5;28;01massert\u001b[39;00m \u001b[38;5;28misinstance\u001b[39m(tool, _CombinedToolsetTool)\n\u001b[32m---> \u001b[39m\u001b[32m90\u001b[39m \u001b[38;5;28;01mreturn\u001b[39;00m \u001b[38;5;28;01mawait\u001b[39;00m tool.source_toolset.call_tool(name, tool_args, ctx, tool.source_tool)\n",
      "\u001b[36mFile \u001b[39m\u001b[32m~/work/caktus/llm-learning/.venv/lib/python3.13/site-packages/pydantic_ai/_output.py:1017\u001b[39m, in \u001b[36mOutputToolset.call_tool\u001b[39m\u001b[34m(self, name, tool_args, ctx, tool)\u001b[39m\n\u001b[32m   1014\u001b[39m \u001b[38;5;28;01masync\u001b[39;00m \u001b[38;5;28;01mdef\u001b[39;00m\u001b[38;5;250m \u001b[39m\u001b[34mcall_tool\u001b[39m(\n\u001b[32m   1015\u001b[39m     \u001b[38;5;28mself\u001b[39m, name: \u001b[38;5;28mstr\u001b[39m, tool_args: \u001b[38;5;28mdict\u001b[39m[\u001b[38;5;28mstr\u001b[39m, Any], ctx: RunContext[AgentDepsT], tool: ToolsetTool[AgentDepsT]\n\u001b[32m   1016\u001b[39m ) -> Any:\n\u001b[32m-> \u001b[39m\u001b[32m1017\u001b[39m     output = \u001b[38;5;28;01mawait\u001b[39;00m \u001b[38;5;28mself\u001b[39m.processors[name].call(tool_args, ctx, wrap_validation_errors=\u001b[38;5;28;01mFalse\u001b[39;00m)\n\u001b[32m   1018\u001b[39m     \u001b[38;5;28;01mfor\u001b[39;00m validator \u001b[38;5;129;01min\u001b[39;00m \u001b[38;5;28mself\u001b[39m.output_validators:\n",
      "\u001b[36mFile \u001b[39m\u001b[32m~/work/caktus/llm-learning/.venv/lib/python3.13/site-packages/pydantic_ai/_output.py:737\u001b[39m, in \u001b[36mObjectOutputProcessor.call\u001b[39m\u001b[34m(self, output, run_context, wrap_validation_errors)\u001b[39m\n\u001b[32m    736\u001b[39m \u001b[38;5;28;01mif\u001b[39;00m \u001b[38;5;28mself\u001b[39m._function_schema:\n\u001b[32m--> \u001b[39m\u001b[32m737\u001b[39m     output = \u001b[38;5;28;01mawait\u001b[39;00m execute_traced_output_function(\n\u001b[32m    738\u001b[39m         \u001b[38;5;28mself\u001b[39m._function_schema, run_context, output, wrap_validation_errors\n\u001b[32m    739\u001b[39m     )\n\u001b[32m    741\u001b[39m \u001b[38;5;28;01mreturn\u001b[39;00m output\n",
      "\u001b[36mFile \u001b[39m\u001b[32m~/work/caktus/llm-learning/.venv/lib/python3.13/site-packages/pydantic_ai/_output.py:134\u001b[39m, in \u001b[36mexecute_traced_output_function\u001b[39m\u001b[34m(function_schema, run_context, args, wrap_validation_errors)\u001b[39m\n\u001b[32m    133\u001b[39m \u001b[38;5;28;01mtry\u001b[39;00m:\n\u001b[32m--> \u001b[39m\u001b[32m134\u001b[39m     output = \u001b[38;5;28;01mawait\u001b[39;00m function_schema.call(args, run_context)\n\u001b[32m    135\u001b[39m \u001b[38;5;28;01mexcept\u001b[39;00m ModelRetry \u001b[38;5;28;01mas\u001b[39;00m r:\n",
      "\u001b[36mFile \u001b[39m\u001b[32m~/work/caktus/llm-learning/.venv/lib/python3.13/site-packages/pydantic_ai/_function_schema.py:52\u001b[39m, in \u001b[36mFunctionSchema.call\u001b[39m\u001b[34m(self, args_dict, ctx)\u001b[39m\n\u001b[32m     51\u001b[39m     function = cast(Callable[[Any], Awaitable[\u001b[38;5;28mstr\u001b[39m]], \u001b[38;5;28mself\u001b[39m.function)\n\u001b[32m---> \u001b[39m\u001b[32m52\u001b[39m     \u001b[38;5;28;01mreturn\u001b[39;00m \u001b[38;5;28;01mawait\u001b[39;00m function(*args, **kwargs)\n\u001b[32m     53\u001b[39m \u001b[38;5;28;01melse\u001b[39;00m:\n",
      "\u001b[36mCell\u001b[39m\u001b[36m \u001b[39m\u001b[32mIn[1]\u001b[39m\u001b[32m, line 45\u001b[39m, in \u001b[36mvalidate_sql_query\u001b[39m\u001b[34m(ctx, sql_query)\u001b[39m\n\u001b[32m     44\u001b[39m \u001b[38;5;28;01mexcept\u001b[39;00m psycopg.Error \u001b[38;5;28;01mas\u001b[39;00m e:\n\u001b[32m---> \u001b[39m\u001b[32m45\u001b[39m     \u001b[38;5;28;01mraise\u001b[39;00m ModelRetry(\u001b[33mf\u001b[39m\u001b[33m\"\u001b[39m\u001b[33mInvalid query: \u001b[39m\u001b[38;5;132;01m{\u001b[39;00me\u001b[38;5;132;01m}\u001b[39;00m\u001b[33m\"\u001b[39m) \u001b[38;5;28;01mfrom\u001b[39;00m\u001b[38;5;250m \u001b[39m\u001b[34;01me\u001b[39;00m\n\u001b[32m     46\u001b[39m \u001b[38;5;28;01melse\u001b[39;00m:\n",
      "\u001b[31mModelRetry\u001b[39m: Invalid query: trailing junk after numeric literal at or near \"15A\"\nLINE 1: ...er_title FROM nc_general_statutes WHERE chapter_number = 15A\n                                                                    ^",
      "\nThe above exception was the direct cause of the following exception:\n",
      "\u001b[31mUnexpectedModelBehavior\u001b[39m                   Traceback (most recent call last)",
      "\u001b[36mCell\u001b[39m\u001b[36m \u001b[39m\u001b[32mIn[5]\u001b[39m\u001b[32m, line 1\u001b[39m\n\u001b[32m----> \u001b[39m\u001b[32m1\u001b[39m \u001b[38;5;28;01mawait\u001b[39;00m prompt_pydantic_ai(\u001b[33m\"\u001b[39m\u001b[33mWhat is the title of Chapter 15A?\u001b[39m\u001b[33m\"\u001b[39m)\n",
      "\u001b[36mCell\u001b[39m\u001b[36m \u001b[39m\u001b[32mIn[1]\u001b[39m\u001b[32m, line 154\u001b[39m, in \u001b[36mprompt_pydantic_ai\u001b[39m\u001b[34m(question)\u001b[39m\n\u001b[32m    152\u001b[39m \u001b[38;5;28;01masync\u001b[39;00m \u001b[38;5;28;01mwith\u001b[39;00m \u001b[38;5;28;01mawait\u001b[39;00m psycopg.AsyncConnection.connect(os.getenv(\u001b[33m\"\u001b[39m\u001b[33mDATABASE_URL\u001b[39m\u001b[33m\"\u001b[39m).replace(\u001b[33m\"\u001b[39m\u001b[33m+psycopg\u001b[39m\u001b[33m\"\u001b[39m, \u001b[33m\"\u001b[39m\u001b[33m\"\u001b[39m)) \u001b[38;5;28;01mas\u001b[39;00m aconn:\n\u001b[32m    153\u001b[39m     deps = Deps(conn=aconn, db=db)\n\u001b[32m--> \u001b[39m\u001b[32m154\u001b[39m     result = \u001b[38;5;28;01mawait\u001b[39;00m sql_gen_agent.run(question, deps=deps)\n\u001b[32m    156\u001b[39m     \u001b[38;5;28mprint\u001b[39m(result.output)\n\u001b[32m    157\u001b[39m     \u001b[38;5;28;01mif\u001b[39;00m \u001b[38;5;28misinstance\u001b[39m(result.output, GenFailure):\n",
      "\u001b[36mFile \u001b[39m\u001b[32m~/work/caktus/llm-learning/.venv/lib/python3.13/site-packages/pydantic_ai/agent/abstract.py:227\u001b[39m, in \u001b[36mAbstractAgent.run\u001b[39m\u001b[34m(self, user_prompt, output_type, message_history, deferred_tool_results, model, deps, model_settings, usage_limits, usage, infer_name, toolsets, event_stream_handler)\u001b[39m\n\u001b[32m    213\u001b[39m event_stream_handler = event_stream_handler \u001b[38;5;129;01mor\u001b[39;00m \u001b[38;5;28mself\u001b[39m.event_stream_handler\n\u001b[32m    215\u001b[39m \u001b[38;5;28;01masync\u001b[39;00m \u001b[38;5;28;01mwith\u001b[39;00m \u001b[38;5;28mself\u001b[39m.iter(\n\u001b[32m    216\u001b[39m     user_prompt=user_prompt,\n\u001b[32m    217\u001b[39m     output_type=output_type,\n\u001b[32m   (...)\u001b[39m\u001b[32m    225\u001b[39m     toolsets=toolsets,\n\u001b[32m    226\u001b[39m ) \u001b[38;5;28;01mas\u001b[39;00m agent_run:\n\u001b[32m--> \u001b[39m\u001b[32m227\u001b[39m     \u001b[38;5;28;01masync\u001b[39;00m \u001b[38;5;28;01mfor\u001b[39;00m node \u001b[38;5;129;01min\u001b[39;00m agent_run:\n\u001b[32m    228\u001b[39m         \u001b[38;5;28;01mif\u001b[39;00m event_stream_handler \u001b[38;5;129;01mis\u001b[39;00m \u001b[38;5;129;01mnot\u001b[39;00m \u001b[38;5;28;01mNone\u001b[39;00m \u001b[38;5;129;01mand\u001b[39;00m (\n\u001b[32m    229\u001b[39m             \u001b[38;5;28mself\u001b[39m.is_model_request_node(node) \u001b[38;5;129;01mor\u001b[39;00m \u001b[38;5;28mself\u001b[39m.is_call_tools_node(node)\n\u001b[32m    230\u001b[39m         ):\n\u001b[32m    231\u001b[39m             \u001b[38;5;28;01masync\u001b[39;00m \u001b[38;5;28;01mwith\u001b[39;00m node.stream(agent_run.ctx) \u001b[38;5;28;01mas\u001b[39;00m stream:\n",
      "\u001b[36mFile \u001b[39m\u001b[32m~/work/caktus/llm-learning/.venv/lib/python3.13/site-packages/pydantic_ai/run.py:149\u001b[39m, in \u001b[36mAgentRun.__anext__\u001b[39m\u001b[34m(self)\u001b[39m\n\u001b[32m    145\u001b[39m \u001b[38;5;28;01masync\u001b[39;00m \u001b[38;5;28;01mdef\u001b[39;00m\u001b[38;5;250m \u001b[39m\u001b[34m__anext__\u001b[39m(\n\u001b[32m    146\u001b[39m     \u001b[38;5;28mself\u001b[39m,\n\u001b[32m    147\u001b[39m ) -> _agent_graph.AgentNode[AgentDepsT, OutputDataT] | End[FinalResult[OutputDataT]]:\n\u001b[32m    148\u001b[39m \u001b[38;5;250m    \u001b[39m\u001b[33;03m\"\"\"Advance to the next node automatically based on the last returned node.\"\"\"\u001b[39;00m\n\u001b[32m--> \u001b[39m\u001b[32m149\u001b[39m     next_node = \u001b[38;5;28;01mawait\u001b[39;00m \u001b[38;5;28mself\u001b[39m._graph_run.\u001b[34m__anext__\u001b[39m()\n\u001b[32m    150\u001b[39m     \u001b[38;5;28;01mif\u001b[39;00m _agent_graph.is_agent_node(node=next_node):\n\u001b[32m    151\u001b[39m         \u001b[38;5;28;01mreturn\u001b[39;00m next_node\n",
      "\u001b[36mFile \u001b[39m\u001b[32m~/work/caktus/llm-learning/.venv/lib/python3.13/site-packages/pydantic_graph/graph.py:758\u001b[39m, in \u001b[36mGraphRun.__anext__\u001b[39m\u001b[34m(self)\u001b[39m\n\u001b[32m    755\u001b[39m \u001b[38;5;28;01mif\u001b[39;00m \u001b[38;5;28misinstance\u001b[39m(\u001b[38;5;28mself\u001b[39m._next_node, End):\n\u001b[32m    756\u001b[39m     \u001b[38;5;28;01mraise\u001b[39;00m \u001b[38;5;167;01mStopAsyncIteration\u001b[39;00m\n\u001b[32m--> \u001b[39m\u001b[32m758\u001b[39m \u001b[38;5;28;01mreturn\u001b[39;00m \u001b[38;5;28;01mawait\u001b[39;00m \u001b[38;5;28mself\u001b[39m.next(\u001b[38;5;28mself\u001b[39m._next_node)\n",
      "\u001b[36mFile \u001b[39m\u001b[32m~/work/caktus/llm-learning/.venv/lib/python3.13/site-packages/pydantic_graph/graph.py:731\u001b[39m, in \u001b[36mGraphRun.next\u001b[39m\u001b[34m(self, node)\u001b[39m\n\u001b[32m    729\u001b[39m     \u001b[38;5;28;01masync\u001b[39;00m \u001b[38;5;28;01mwith\u001b[39;00m \u001b[38;5;28mself\u001b[39m.persistence.record_run(node_snapshot_id):\n\u001b[32m    730\u001b[39m         ctx = GraphRunContext(state=\u001b[38;5;28mself\u001b[39m.state, deps=\u001b[38;5;28mself\u001b[39m.deps)\n\u001b[32m--> \u001b[39m\u001b[32m731\u001b[39m         \u001b[38;5;28mself\u001b[39m._next_node = \u001b[38;5;28;01mawait\u001b[39;00m node.run(ctx)\n\u001b[32m    733\u001b[39m \u001b[38;5;28;01mif\u001b[39;00m \u001b[38;5;28misinstance\u001b[39m(\u001b[38;5;28mself\u001b[39m._next_node, End):\n\u001b[32m    734\u001b[39m     \u001b[38;5;28mself\u001b[39m._snapshot_id = \u001b[38;5;28mself\u001b[39m._next_node.get_snapshot_id()\n",
      "\u001b[36mFile \u001b[39m\u001b[32m~/work/caktus/llm-learning/.venv/lib/python3.13/site-packages/pydantic_ai/_agent_graph.py:523\u001b[39m, in \u001b[36mCallToolsNode.run\u001b[39m\u001b[34m(self, ctx)\u001b[39m\n\u001b[32m    520\u001b[39m \u001b[38;5;28;01masync\u001b[39;00m \u001b[38;5;28;01mdef\u001b[39;00m\u001b[38;5;250m \u001b[39m\u001b[34mrun\u001b[39m(\n\u001b[32m    521\u001b[39m     \u001b[38;5;28mself\u001b[39m, ctx: GraphRunContext[GraphAgentState, GraphAgentDeps[DepsT, NodeRunEndT]]\n\u001b[32m    522\u001b[39m ) -> ModelRequestNode[DepsT, NodeRunEndT] | End[result.FinalResult[NodeRunEndT]]:\n\u001b[32m--> \u001b[39m\u001b[32m523\u001b[39m     \u001b[38;5;28;01masync\u001b[39;00m \u001b[38;5;28;01mwith\u001b[39;00m \u001b[38;5;28mself\u001b[39m.stream(ctx):\n\u001b[32m    524\u001b[39m         \u001b[38;5;28;01mpass\u001b[39;00m\n\u001b[32m    525\u001b[39m     \u001b[38;5;28;01massert\u001b[39;00m \u001b[38;5;28mself\u001b[39m._next_node \u001b[38;5;129;01mis\u001b[39;00m \u001b[38;5;129;01mnot\u001b[39;00m \u001b[38;5;28;01mNone\u001b[39;00m, \u001b[33m'\u001b[39m\u001b[33mthe stream should set `self._next_node` before it ends\u001b[39m\u001b[33m'\u001b[39m\n",
      "\u001b[36mFile \u001b[39m\u001b[32m~/.local/share/uv/python/cpython-3.13.3-linux-x86_64-gnu/lib/python3.13/contextlib.py:221\u001b[39m, in \u001b[36m_AsyncGeneratorContextManager.__aexit__\u001b[39m\u001b[34m(self, typ, value, traceback)\u001b[39m\n\u001b[32m    219\u001b[39m \u001b[38;5;28;01mif\u001b[39;00m typ \u001b[38;5;129;01mis\u001b[39;00m \u001b[38;5;28;01mNone\u001b[39;00m:\n\u001b[32m    220\u001b[39m     \u001b[38;5;28;01mtry\u001b[39;00m:\n\u001b[32m--> \u001b[39m\u001b[32m221\u001b[39m         \u001b[38;5;28;01mawait\u001b[39;00m anext(\u001b[38;5;28mself\u001b[39m.gen)\n\u001b[32m    222\u001b[39m     \u001b[38;5;28;01mexcept\u001b[39;00m \u001b[38;5;167;01mStopAsyncIteration\u001b[39;00m:\n\u001b[32m    223\u001b[39m         \u001b[38;5;28;01mreturn\u001b[39;00m \u001b[38;5;28;01mFalse\u001b[39;00m\n",
      "\u001b[36mFile \u001b[39m\u001b[32m~/work/caktus/llm-learning/.venv/lib/python3.13/site-packages/pydantic_ai/_agent_graph.py:537\u001b[39m, in \u001b[36mCallToolsNode.stream\u001b[39m\u001b[34m(self, ctx)\u001b[39m\n\u001b[32m    534\u001b[39m \u001b[38;5;28;01myield\u001b[39;00m stream\n\u001b[32m    536\u001b[39m \u001b[38;5;66;03m# Run the stream to completion if it was not finished:\u001b[39;00m\n\u001b[32m--> \u001b[39m\u001b[32m537\u001b[39m \u001b[38;5;28;01masync\u001b[39;00m \u001b[38;5;28;01mfor\u001b[39;00m _event \u001b[38;5;129;01min\u001b[39;00m stream:\n\u001b[32m    538\u001b[39m     \u001b[38;5;28;01mpass\u001b[39;00m\n",
      "\u001b[36mFile \u001b[39m\u001b[32m~/work/caktus/llm-learning/.venv/lib/python3.13/site-packages/pydantic_ai/_agent_graph.py:622\u001b[39m, in \u001b[36mCallToolsNode._run_stream\u001b[39m\u001b[34m(self, ctx)\u001b[39m\n\u001b[32m    618\u001b[39m             \u001b[38;5;28mself\u001b[39m._next_node = ModelRequestNode[DepsT, NodeRunEndT](_messages.ModelRequest(parts=[e.tool_retry]))\n\u001b[32m    620\u001b[39m     \u001b[38;5;28mself\u001b[39m._events_iterator = _run_stream()\n\u001b[32m--> \u001b[39m\u001b[32m622\u001b[39m \u001b[38;5;28;01masync\u001b[39;00m \u001b[38;5;28;01mfor\u001b[39;00m event \u001b[38;5;129;01min\u001b[39;00m \u001b[38;5;28mself\u001b[39m._events_iterator:\n\u001b[32m    623\u001b[39m     \u001b[38;5;28;01myield\u001b[39;00m event\n",
      "\u001b[36mFile \u001b[39m\u001b[32m~/work/caktus/llm-learning/.venv/lib/python3.13/site-packages/pydantic_ai/_agent_graph.py:576\u001b[39m, in \u001b[36mCallToolsNode._run_stream.<locals>._run_stream\u001b[39m\u001b[34m()\u001b[39m\n\u001b[32m    574\u001b[39m \u001b[38;5;28;01mtry\u001b[39;00m:\n\u001b[32m    575\u001b[39m     \u001b[38;5;28;01mif\u001b[39;00m tool_calls:\n\u001b[32m--> \u001b[39m\u001b[32m576\u001b[39m         \u001b[38;5;28;01masync\u001b[39;00m \u001b[38;5;28;01mfor\u001b[39;00m event \u001b[38;5;129;01min\u001b[39;00m \u001b[38;5;28mself\u001b[39m._handle_tool_calls(ctx, tool_calls):\n\u001b[32m    577\u001b[39m             \u001b[38;5;28;01myield\u001b[39;00m event\n\u001b[32m    578\u001b[39m     \u001b[38;5;28;01melif\u001b[39;00m text:\n\u001b[32m    579\u001b[39m         \u001b[38;5;66;03m# No events are emitted during the handling of text responses, so we don't need to yield anything\u001b[39;00m\n",
      "\u001b[36mFile \u001b[39m\u001b[32m~/work/caktus/llm-learning/.venv/lib/python3.13/site-packages/pydantic_ai/_agent_graph.py:638\u001b[39m, in \u001b[36mCallToolsNode._handle_tool_calls\u001b[39m\u001b[34m(self, ctx, tool_calls)\u001b[39m\n\u001b[32m    635\u001b[39m output_parts: \u001b[38;5;28mlist\u001b[39m[_messages.ModelRequestPart] = []\n\u001b[32m    636\u001b[39m output_final_result: deque[result.FinalResult[NodeRunEndT]] = deque(maxlen=\u001b[32m1\u001b[39m)\n\u001b[32m--> \u001b[39m\u001b[32m638\u001b[39m \u001b[38;5;28;01masync\u001b[39;00m \u001b[38;5;28;01mfor\u001b[39;00m event \u001b[38;5;129;01min\u001b[39;00m process_tool_calls(\n\u001b[32m    639\u001b[39m     tool_manager=ctx.deps.tool_manager,\n\u001b[32m    640\u001b[39m     tool_calls=tool_calls,\n\u001b[32m    641\u001b[39m     tool_call_results=\u001b[38;5;28mself\u001b[39m.tool_call_results,\n\u001b[32m    642\u001b[39m     final_result=\u001b[38;5;28;01mNone\u001b[39;00m,\n\u001b[32m    643\u001b[39m     ctx=ctx,\n\u001b[32m    644\u001b[39m     output_parts=output_parts,\n\u001b[32m    645\u001b[39m     output_final_result=output_final_result,\n\u001b[32m    646\u001b[39m ):\n\u001b[32m    647\u001b[39m     \u001b[38;5;28;01myield\u001b[39;00m event\n\u001b[32m    649\u001b[39m \u001b[38;5;28;01mif\u001b[39;00m output_final_result:\n",
      "\u001b[36mFile \u001b[39m\u001b[32m~/work/caktus/llm-learning/.venv/lib/python3.13/site-packages/pydantic_ai/_agent_graph.py:761\u001b[39m, in \u001b[36mprocess_tool_calls\u001b[39m\u001b[34m(tool_manager, tool_calls, tool_call_results, final_result, ctx, output_parts, output_final_result)\u001b[39m\n\u001b[32m    759\u001b[39m     result_data = \u001b[38;5;28;01mawait\u001b[39;00m tool_manager.handle_call(call)\n\u001b[32m    760\u001b[39m \u001b[38;5;28;01mexcept\u001b[39;00m exceptions.UnexpectedModelBehavior \u001b[38;5;28;01mas\u001b[39;00m e:\n\u001b[32m--> \u001b[39m\u001b[32m761\u001b[39m     \u001b[43mctx\u001b[49m\u001b[43m.\u001b[49m\u001b[43mstate\u001b[49m\u001b[43m.\u001b[49m\u001b[43mincrement_retries\u001b[49m\u001b[43m(\u001b[49m\u001b[43mctx\u001b[49m\u001b[43m.\u001b[49m\u001b[43mdeps\u001b[49m\u001b[43m.\u001b[49m\u001b[43mmax_result_retries\u001b[49m\u001b[43m,\u001b[49m\u001b[43m \u001b[49m\u001b[43me\u001b[49m\u001b[43m)\u001b[49m\n\u001b[32m    762\u001b[39m     \u001b[38;5;28;01mraise\u001b[39;00m e  \u001b[38;5;66;03m# pragma: lax no cover\u001b[39;00m\n\u001b[32m    763\u001b[39m \u001b[38;5;28;01mexcept\u001b[39;00m ToolRetryError \u001b[38;5;28;01mas\u001b[39;00m e:\n",
      "\u001b[36mFile \u001b[39m\u001b[32m~/work/caktus/llm-learning/.venv/lib/python3.13/site-packages/pydantic_ai/_agent_graph.py:102\u001b[39m, in \u001b[36mGraphAgentState.increment_retries\u001b[39m\u001b[34m(self, max_result_retries, error)\u001b[39m\n\u001b[32m    100\u001b[39m     \u001b[38;5;28;01mif\u001b[39;00m \u001b[38;5;28misinstance\u001b[39m(error, exceptions.UnexpectedModelBehavior) \u001b[38;5;129;01mand\u001b[39;00m error.__cause__ \u001b[38;5;129;01mis\u001b[39;00m \u001b[38;5;129;01mnot\u001b[39;00m \u001b[38;5;28;01mNone\u001b[39;00m:\n\u001b[32m    101\u001b[39m         error = error.__cause__\n\u001b[32m--> \u001b[39m\u001b[32m102\u001b[39m     \u001b[38;5;28;01mraise\u001b[39;00m exceptions.UnexpectedModelBehavior(message) \u001b[38;5;28;01mfrom\u001b[39;00m\u001b[38;5;250m \u001b[39m\u001b[34;01merror\u001b[39;00m\n\u001b[32m    103\u001b[39m \u001b[38;5;28;01melse\u001b[39;00m:\n\u001b[32m    104\u001b[39m     \u001b[38;5;28;01mraise\u001b[39;00m exceptions.UnexpectedModelBehavior(message)\n",
      "\u001b[31mUnexpectedModelBehavior\u001b[39m: Exceeded maximum retries (2) for output validation"
     ]
    }
   ],
   "source": [
    "await prompt_pydantic_ai(\"What is the title of Chapter 15A?\")"
   ]
  },
  {
   "cell_type": "markdown",
   "id": "8a070adc-5d88-437e-a3a1-7493439ac0c7",
   "metadata": {},
   "source": [
    "I found that iterating over an agent's graph, using the iterator returned by `Agent.iter()`, helps me see what the agent is actually doing. "
   ]
  },
  {
   "cell_type": "code",
   "execution_count": null,
   "id": "11549dff-b78c-4ec9-a080-b0ba302b654c",
   "metadata": {},
   "outputs": [],
   "source": [
    "async def prompt_pydantic_ai_iter(question):\n",
    "    db = SQLDatabase.from_uri(os.getenv(\"DATABASE_URL\"), sample_rows_in_table_info=0)\n",
    "\n",
    "    async with await psycopg.AsyncConnection.connect(\n",
    "        os.getenv(\"DATABASE_URL\").replace(\"+psycopg\", \"\")\n",
    "    ) as aconn:\n",
    "        print(\"GEN AGENT RUN\")\n",
    "        print(\"-\" * 20)\n",
    "        deps = Deps(conn=aconn, db=db)\n",
    "        async with sql_gen_agent.iter(question, deps=deps) as gen_agent_run:\n",
    "            async for node in gen_agent_run:\n",
    "                print(node)\n",
    "                print(\"=\" * 50)\n",
    "\n",
    "        if isinstance(gen_agent_run.result.output, GenFailure):\n",
    "            print(f\"Error generating the SQL query: {gen_agent_run.result.output.error_message}\")\n",
    "            return\n",
    "\n",
    "        print(\"EXEC AGENT RUN\")\n",
    "        print(\"-\" * 20)\n",
    "        deps = ExecDeps(conn=aconn, db=db, sql_query=gen_agent_run.result.output)\n",
    "        async with sql_exec_agent.iter(question, deps=deps) as exec_agent_run:\n",
    "            async for node in exec_agent_run:\n",
    "                print(node)\n",
    "                print(\"=\" * 50)"
   ]
  },
  {
   "cell_type": "code",
   "execution_count": 6,
   "id": "f0f52ec7-6722-42ce-aa4c-d51df21a3052",
   "metadata": {},
   "outputs": [
    {
     "name": "stdout",
     "output_type": "stream",
     "text": [
      "GEN AGENT RUN\n",
      "--------------------\n",
      "UserPromptNode(user_prompt='What is the title of Chapter 15A?', instructions_functions=[], system_prompts=(), system_prompt_functions=[SystemPromptRunner(function=<function gen_agent_system_prompt at 0x735e464639c0>, dynamic=False, _takes_ctx=True, _is_async=False)], system_prompt_dynamic_functions={})\n",
      "==================================================\n",
      "ModelRequestNode(request=ModelRequest(parts=[SystemPromptPart(content='\\n    You are a PostgreSQL expert with read-only access to the database. Given an input question, create a syntactically correct PostgreSQL SELECT query to run to help find the answer. You should never make any DML queries (INSERT, UPDATE, DELETE, DROP etc.).\\n\\n    Pay attention to use only the column names that you can see in the schema description. Be careful to not query for columns that do not exist. Also, pay attention to which column is in which table.\\n\\n    Only use the following tables:\\n    \\nCREATE TABLE nc_general_statutes (\\n\\tchapter_number TEXT, \\n\\tchapter_title TEXT, \\n\\tarticle_number TEXT, \\n\\tarticle TEXT, \\n\\tsection_number TEXT, \\n\\ttext TEXT, \\n\\tsource_url TEXT\\n)\\n    ', timestamp=datetime.datetime(2025, 10, 7, 8, 32, 58, 677572, tzinfo=datetime.timezone.utc)), UserPromptPart(content='What is the title of Chapter 15A?', timestamp=datetime.datetime(2025, 10, 7, 8, 32, 58, 677582, tzinfo=datetime.timezone.utc))]))\n",
      "==================================================\n",
      "CallToolsNode(model_response=ModelResponse(parts=[ToolCallPart(tool_name='final_result_validate_sql_query', args='{\"sql_query\":\"SELECT chapter_title FROM nc_general_statutes WHERE chapter_number = (SELECT MIN(chapter_number) FROM nc_general_statutes WHERE chapter_title LIKE \\'%15A%\\');\"}', tool_call_id='call_tx4wtw5y')], usage=RequestUsage(input_tokens=372, output_tokens=52), model_name='llama3.2', timestamp=datetime.datetime(2025, 10, 7, 8, 33, 13, tzinfo=TzInfo(UTC)), provider_name='ollama', provider_details={'finish_reason': 'tool_calls'}, provider_response_id='chatcmpl-584', finish_reason='tool_call'))\n",
      "==================================================\n",
      "Validating SQL: SELECT chapter_title FROM nc_general_statutes WHERE chapter_number = (SELECT MIN(chapter_number) FROM nc_general_statutes WHERE chapter_title LIKE '%15A%');\n",
      "End(data=FinalResult(output=\"SELECT chapter_title FROM nc_general_statutes WHERE chapter_number = (SELECT MIN(chapter_number) FROM nc_general_statutes WHERE chapter_title LIKE '%15A%');\", tool_name='final_result_validate_sql_query', tool_call_id='call_tx4wtw5y'))\n",
      "==================================================\n",
      "EXEC AGENT RUN\n",
      "--------------------\n",
      "UserPromptNode(user_prompt='What is the title of Chapter 15A?', instructions_functions=[], system_prompts=(), system_prompt_functions=[SystemPromptRunner(function=<function exec_agent_system_prompt at 0x735e46463f60>, dynamic=False, _takes_ctx=True, _is_async=False)], system_prompt_dynamic_functions={})\n",
      "==================================================\n",
      "ModelRequestNode(request=ModelRequest(parts=[SystemPromptPart(content=\"\\n    You are a PostgreSQL expert with read-only access to a database. Answer the user's question by running this SQL query exactly as it is:\\n    SELECT chapter_title FROM nc_general_statutes WHERE chapter_number = (SELECT MIN(chapter_number) FROM nc_general_statutes WHERE chapter_title LIKE '%15A%');\\n\\n    This is the schema of the database:\\n    \\nCREATE TABLE nc_general_statutes (\\n\\tchapter_number TEXT, \\n\\tchapter_title TEXT, \\n\\tarticle_number TEXT, \\n\\tarticle TEXT, \\n\\tsection_number TEXT, \\n\\ttext TEXT, \\n\\tsource_url TEXT\\n)\\n    \", timestamp=datetime.datetime(2025, 10, 7, 8, 33, 13, 805463, tzinfo=datetime.timezone.utc)), UserPromptPart(content='What is the title of Chapter 15A?', timestamp=datetime.datetime(2025, 10, 7, 8, 33, 13, 805470, tzinfo=datetime.timezone.utc))]))\n",
      "==================================================\n",
      "CallToolsNode(model_response=ModelResponse(parts=[ToolCallPart(tool_name='run_sql', args='{\"sql_query\":\"SELECT chapter_title FROM nc_general_statutes WHERE chapter_number = (SELECT MIN(chapter_number) FROM nc_general_statutes WHERE chapter_title LIKE \\'%15A%\\')\"}', tool_call_id='call_xvs7dj9v')], usage=RequestUsage(input_tokens=331, output_tokens=50), model_name='llama3.2', timestamp=datetime.datetime(2025, 10, 7, 8, 33, 36, tzinfo=TzInfo(UTC)), provider_name='ollama', provider_details={'finish_reason': 'tool_calls'}, provider_response_id='chatcmpl-880', finish_reason='tool_call'))\n",
      "==================================================\n",
      "got sql result []\n",
      "ModelRequestNode(request=ModelRequest(parts=[ToolReturnPart(tool_name='run_sql', content=[], tool_call_id='call_xvs7dj9v', timestamp=datetime.datetime(2025, 10, 7, 8, 33, 36, 529800, tzinfo=datetime.timezone.utc))]))\n",
      "==================================================\n",
      "CallToolsNode(model_response=ModelResponse(parts=[TextPart(content='The title of Chapter 15A is null.')], usage=RequestUsage(input_tokens=246, output_tokens=11), model_name='llama3.2', timestamp=datetime.datetime(2025, 10, 7, 8, 33, 41, tzinfo=TzInfo(UTC)), provider_name='ollama', provider_details={'finish_reason': 'stop'}, provider_response_id='chatcmpl-451', finish_reason='stop'))\n",
      "==================================================\n",
      "End(data=FinalResult(output='The title of Chapter 15A is null.'))\n",
      "==================================================\n"
     ]
    }
   ],
   "source": [
    "await prompt_pydantic_ai_iter(\"What is the title of Chapter 15A?\")"
   ]
  },
  {
   "cell_type": "code",
   "execution_count": null,
   "id": "292d63c6-36f2-4cd7-80ca-cdcf0744a377",
   "metadata": {},
   "outputs": [],
   "source": []
  }
 ],
 "metadata": {
  "kernelspec": {
   "display_name": "Python 3 (ipykernel)",
   "language": "python",
   "name": "python3"
  },
  "language_info": {
   "codemirror_mode": {
    "name": "ipython",
    "version": 3
   },
   "file_extension": ".py",
   "mimetype": "text/x-python",
   "name": "python",
   "nbconvert_exporter": "python",
   "pygments_lexer": "ipython3",
   "version": "3.13.3"
  }
 },
 "nbformat": 4,
 "nbformat_minor": 5
}
